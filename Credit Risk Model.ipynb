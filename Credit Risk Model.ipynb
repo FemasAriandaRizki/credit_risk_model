{
 "cells": [
  {
   "cell_type": "markdown",
   "metadata": {},
   "source": [
    "## Credit Risk Model"
   ]
  },
  {
   "cell_type": "markdown",
   "metadata": {},
   "source": [
    "### Import Library"
   ]
  },
  {
   "cell_type": "code",
   "execution_count": 19,
   "metadata": {},
   "outputs": [],
   "source": [
    "import numpy as np\n",
    "import pandas as pd\n",
    "\n",
    "import os"
   ]
  },
  {
   "cell_type": "code",
   "execution_count": 20,
   "metadata": {},
   "outputs": [
    {
     "data": {
      "text/plain": [
       "'c:\\\\Users\\\\USER\\\\Documents\\\\projects\\\\halotech\\\\credit risk model\\\\credit risk model'"
      ]
     },
     "execution_count": 20,
     "metadata": {},
     "output_type": "execute_result"
    }
   ],
   "source": [
    "# Check Directory saat ini\n",
    "os.getcwd()"
   ]
  },
  {
   "cell_type": "code",
   "execution_count": 21,
   "metadata": {},
   "outputs": [
    {
     "data": {
      "text/plain": [
       "['.git',\n",
       " 'Credit Risk Model.ipynb',\n",
       " 'lc_2016_2017.csv',\n",
       " 'lc_loan.csv',\n",
       " 'new.html',\n",
       " 'README.md',\n",
       " 'us-state-codes.csv']"
      ]
     },
     "execution_count": 21,
     "metadata": {},
     "output_type": "execute_result"
    }
   ],
   "source": [
    "# Check file apa saja yang ada di Directory saat ini\n",
    "os.listdir()"
   ]
  },
  {
   "cell_type": "code",
   "execution_count": 22,
   "metadata": {},
   "outputs": [
    {
     "name": "stderr",
     "output_type": "stream",
     "text": [
      "C:\\Users\\USER\\AppData\\Local\\Temp\\ipykernel_11304\\4273129360.py:2: DtypeWarning: Columns (18,54) have mixed types. Specify dtype option on import or set low_memory=False.\n",
      "  loan_data = pd.read_csv('lc_2016_2017.csv')\n"
     ]
    },
    {
     "data": {
      "text/html": [
       "<div>\n",
       "<style scoped>\n",
       "    .dataframe tbody tr th:only-of-type {\n",
       "        vertical-align: middle;\n",
       "    }\n",
       "\n",
       "    .dataframe tbody tr th {\n",
       "        vertical-align: top;\n",
       "    }\n",
       "\n",
       "    .dataframe thead th {\n",
       "        text-align: right;\n",
       "    }\n",
       "</style>\n",
       "<table border=\"1\" class=\"dataframe\">\n",
       "  <thead>\n",
       "    <tr style=\"text-align: right;\">\n",
       "      <th></th>\n",
       "      <th>id</th>\n",
       "      <th>member_id</th>\n",
       "      <th>loan_amnt</th>\n",
       "      <th>funded_amnt</th>\n",
       "      <th>funded_amnt_inv</th>\n",
       "      <th>term</th>\n",
       "      <th>int_rate</th>\n",
       "      <th>installment</th>\n",
       "      <th>grade</th>\n",
       "      <th>sub_grade</th>\n",
       "      <th>...</th>\n",
       "      <th>total_bal_il</th>\n",
       "      <th>il_util</th>\n",
       "      <th>open_rv_12m</th>\n",
       "      <th>open_rv_24m</th>\n",
       "      <th>max_bal_bc</th>\n",
       "      <th>all_util</th>\n",
       "      <th>total_rev_hi_lim</th>\n",
       "      <th>inq_fi</th>\n",
       "      <th>total_cu_tl</th>\n",
       "      <th>inq_last_12m</th>\n",
       "    </tr>\n",
       "  </thead>\n",
       "  <tbody>\n",
       "    <tr>\n",
       "      <th>0</th>\n",
       "      <td>112435993</td>\n",
       "      <td>NaN</td>\n",
       "      <td>2300</td>\n",
       "      <td>2300</td>\n",
       "      <td>2300.0</td>\n",
       "      <td>36 months</td>\n",
       "      <td>12.62</td>\n",
       "      <td>77.08</td>\n",
       "      <td>C</td>\n",
       "      <td>C1</td>\n",
       "      <td>...</td>\n",
       "      <td>0.0</td>\n",
       "      <td>NaN</td>\n",
       "      <td>1.0</td>\n",
       "      <td>2.0</td>\n",
       "      <td>2315.0</td>\n",
       "      <td>55.0</td>\n",
       "      <td>7100.0</td>\n",
       "      <td>1.0</td>\n",
       "      <td>0.0</td>\n",
       "      <td>2.0</td>\n",
       "    </tr>\n",
       "    <tr>\n",
       "      <th>1</th>\n",
       "      <td>112290210</td>\n",
       "      <td>NaN</td>\n",
       "      <td>16000</td>\n",
       "      <td>16000</td>\n",
       "      <td>16000.0</td>\n",
       "      <td>60 months</td>\n",
       "      <td>12.62</td>\n",
       "      <td>360.95</td>\n",
       "      <td>C</td>\n",
       "      <td>C1</td>\n",
       "      <td>...</td>\n",
       "      <td>11078.0</td>\n",
       "      <td>69.0</td>\n",
       "      <td>3.0</td>\n",
       "      <td>5.0</td>\n",
       "      <td>1962.0</td>\n",
       "      <td>94.0</td>\n",
       "      <td>31900.0</td>\n",
       "      <td>0.0</td>\n",
       "      <td>6.0</td>\n",
       "      <td>1.0</td>\n",
       "    </tr>\n",
       "    <tr>\n",
       "      <th>2</th>\n",
       "      <td>112436985</td>\n",
       "      <td>NaN</td>\n",
       "      <td>6025</td>\n",
       "      <td>6025</td>\n",
       "      <td>6025.0</td>\n",
       "      <td>36 months</td>\n",
       "      <td>15.05</td>\n",
       "      <td>209.01</td>\n",
       "      <td>C</td>\n",
       "      <td>C4</td>\n",
       "      <td>...</td>\n",
       "      <td>0.0</td>\n",
       "      <td>NaN</td>\n",
       "      <td>1.0</td>\n",
       "      <td>2.0</td>\n",
       "      <td>1950.0</td>\n",
       "      <td>45.0</td>\n",
       "      <td>27700.0</td>\n",
       "      <td>1.0</td>\n",
       "      <td>5.0</td>\n",
       "      <td>3.0</td>\n",
       "    </tr>\n",
       "    <tr>\n",
       "      <th>3</th>\n",
       "      <td>112439006</td>\n",
       "      <td>NaN</td>\n",
       "      <td>20400</td>\n",
       "      <td>20400</td>\n",
       "      <td>20400.0</td>\n",
       "      <td>36 months</td>\n",
       "      <td>9.44</td>\n",
       "      <td>652.91</td>\n",
       "      <td>B</td>\n",
       "      <td>B1</td>\n",
       "      <td>...</td>\n",
       "      <td>53566.0</td>\n",
       "      <td>95.0</td>\n",
       "      <td>1.0</td>\n",
       "      <td>2.0</td>\n",
       "      <td>4240.0</td>\n",
       "      <td>60.0</td>\n",
       "      <td>46900.0</td>\n",
       "      <td>1.0</td>\n",
       "      <td>1.0</td>\n",
       "      <td>1.0</td>\n",
       "    </tr>\n",
       "    <tr>\n",
       "      <th>4</th>\n",
       "      <td>112438929</td>\n",
       "      <td>NaN</td>\n",
       "      <td>13000</td>\n",
       "      <td>13000</td>\n",
       "      <td>13000.0</td>\n",
       "      <td>36 months</td>\n",
       "      <td>11.99</td>\n",
       "      <td>431.73</td>\n",
       "      <td>B</td>\n",
       "      <td>B5</td>\n",
       "      <td>...</td>\n",
       "      <td>8466.0</td>\n",
       "      <td>72.0</td>\n",
       "      <td>0.0</td>\n",
       "      <td>1.0</td>\n",
       "      <td>2996.0</td>\n",
       "      <td>78.0</td>\n",
       "      <td>7800.0</td>\n",
       "      <td>0.0</td>\n",
       "      <td>0.0</td>\n",
       "      <td>0.0</td>\n",
       "    </tr>\n",
       "  </tbody>\n",
       "</table>\n",
       "<p>5 rows × 72 columns</p>\n",
       "</div>"
      ],
      "text/plain": [
       "          id  member_id  loan_amnt  funded_amnt  funded_amnt_inv       term  \\\n",
       "0  112435993        NaN       2300         2300           2300.0  36 months   \n",
       "1  112290210        NaN      16000        16000          16000.0  60 months   \n",
       "2  112436985        NaN       6025         6025           6025.0  36 months   \n",
       "3  112439006        NaN      20400        20400          20400.0  36 months   \n",
       "4  112438929        NaN      13000        13000          13000.0  36 months   \n",
       "\n",
       "   int_rate  installment grade sub_grade  ... total_bal_il il_util  \\\n",
       "0     12.62        77.08     C        C1  ...          0.0     NaN   \n",
       "1     12.62       360.95     C        C1  ...      11078.0    69.0   \n",
       "2     15.05       209.01     C        C4  ...          0.0     NaN   \n",
       "3      9.44       652.91     B        B1  ...      53566.0    95.0   \n",
       "4     11.99       431.73     B        B5  ...       8466.0    72.0   \n",
       "\n",
       "  open_rv_12m  open_rv_24m max_bal_bc all_util total_rev_hi_lim inq_fi  \\\n",
       "0         1.0          2.0     2315.0     55.0           7100.0    1.0   \n",
       "1         3.0          5.0     1962.0     94.0          31900.0    0.0   \n",
       "2         1.0          2.0     1950.0     45.0          27700.0    1.0   \n",
       "3         1.0          2.0     4240.0     60.0          46900.0    1.0   \n",
       "4         0.0          1.0     2996.0     78.0           7800.0    0.0   \n",
       "\n",
       "  total_cu_tl inq_last_12m  \n",
       "0         0.0          2.0  \n",
       "1         6.0          1.0  \n",
       "2         5.0          3.0  \n",
       "3         1.0          1.0  \n",
       "4         0.0          0.0  \n",
       "\n",
       "[5 rows x 72 columns]"
      ]
     },
     "execution_count": 22,
     "metadata": {},
     "output_type": "execute_result"
    }
   ],
   "source": [
    "# Membaca csv file dan melihat 5 baris pertama\n",
    "loan_data = pd.read_csv('lc_2016_2017.csv')\n",
    "loan_data.head()"
   ]
  },
  {
   "cell_type": "code",
   "execution_count": 23,
   "metadata": {},
   "outputs": [
    {
     "data": {
      "text/plain": [
       "(759338, 72)"
      ]
     },
     "execution_count": 23,
     "metadata": {},
     "output_type": "execute_result"
    }
   ],
   "source": [
    "# Melihat total baris dan kolom\n",
    "loan_data.shape"
   ]
  },
  {
   "cell_type": "code",
   "execution_count": 24,
   "metadata": {},
   "outputs": [
    {
     "name": "stdout",
     "output_type": "stream",
     "text": [
      "<class 'pandas.core.frame.DataFrame'>\n",
      "RangeIndex: 759338 entries, 0 to 759337\n",
      "Data columns (total 72 columns):\n",
      " #   Column                       Non-Null Count   Dtype  \n",
      "---  ------                       --------------   -----  \n",
      " 0   id                           759338 non-null  int64  \n",
      " 1   member_id                    0 non-null       float64\n",
      " 2   loan_amnt                    759338 non-null  int64  \n",
      " 3   funded_amnt                  759338 non-null  int64  \n",
      " 4   funded_amnt_inv              759338 non-null  float64\n",
      " 5   term                         759338 non-null  object \n",
      " 6   int_rate                     759338 non-null  float64\n",
      " 7   installment                  759338 non-null  float64\n",
      " 8   grade                        759338 non-null  object \n",
      " 9   sub_grade                    759338 non-null  object \n",
      " 10  emp_title                    708368 non-null  object \n",
      " 11  emp_length                   708975 non-null  object \n",
      " 12  home_ownership               759338 non-null  object \n",
      " 13  annual_inc                   759338 non-null  float64\n",
      " 14  verification_status          759338 non-null  object \n",
      " 15  issue_d                      759338 non-null  object \n",
      " 16  loan_status                  759338 non-null  object \n",
      " 17  pymnt_plan                   759338 non-null  object \n",
      " 18  desc                         17 non-null      object \n",
      " 19  purpose                      759338 non-null  object \n",
      " 20  title                        736165 non-null  object \n",
      " 21  zip_code                     759337 non-null  object \n",
      " 22  addr_state                   759338 non-null  object \n",
      " 23  dti                          758983 non-null  float64\n",
      " 24  delinq_2yrs                  759338 non-null  int64  \n",
      " 25  earliest_cr_line             759338 non-null  object \n",
      " 26  inq_last_6mths               759337 non-null  float64\n",
      " 27  mths_since_last_delinq       396633 non-null  float64\n",
      " 28  mths_since_last_record       141179 non-null  float64\n",
      " 29  open_acc                     759338 non-null  int64  \n",
      " 30  pub_rec                      759338 non-null  int64  \n",
      " 31  revol_bal                    759338 non-null  float64\n",
      " 32  revol_util                   758821 non-null  float64\n",
      " 33  total_acc                    759338 non-null  int64  \n",
      " 34  initial_list_status          759338 non-null  object \n",
      " 35  out_prncp                    759338 non-null  float64\n",
      " 36  out_prncp_inv                759338 non-null  float64\n",
      " 37  total_pymnt                  759338 non-null  float64\n",
      " 38  total_pymnt_inv              759338 non-null  float64\n",
      " 39  total_rec_prncp              759338 non-null  float64\n",
      " 40  total_rec_int                759338 non-null  float64\n",
      " 41  total_rec_late_fee           759338 non-null  float64\n",
      " 42  recoveries                   759338 non-null  float64\n",
      " 43  collection_recovery_fee      759338 non-null  float64\n",
      " 44  last_pymnt_d                 758390 non-null  object \n",
      " 45  last_pymnt_amnt              759338 non-null  float64\n",
      " 46  next_pymnt_d                 591423 non-null  object \n",
      " 47  last_credit_pull_d           759320 non-null  object \n",
      " 48  collections_12_mths_ex_med   759338 non-null  int64  \n",
      " 49  mths_since_last_major_derog  215105 non-null  float64\n",
      " 50  policy_code                  759338 non-null  int64  \n",
      " 51  application_type             759338 non-null  object \n",
      " 52  annual_inc_joint             34003 non-null   float64\n",
      " 53  dti_joint                    34001 non-null   float64\n",
      " 54  verification_status_joint    34003 non-null   object \n",
      " 55  acc_now_delinq               759338 non-null  int64  \n",
      " 56  tot_coll_amt                 759338 non-null  float64\n",
      " 57  tot_cur_bal                  759338 non-null  float64\n",
      " 58  open_acc_6m                  759276 non-null  float64\n",
      " 59  open_il_12m                  759277 non-null  float64\n",
      " 60  open_il_24m                  759277 non-null  float64\n",
      " 61  mths_since_rcnt_il           738795 non-null  float64\n",
      " 62  total_bal_il                 759277 non-null  float64\n",
      " 63  il_util                      658743 non-null  float64\n",
      " 64  open_rv_12m                  759277 non-null  float64\n",
      " 65  open_rv_24m                  759277 non-null  float64\n",
      " 66  max_bal_bc                   759277 non-null  float64\n",
      " 67  all_util                     759224 non-null  float64\n",
      " 68  total_rev_hi_lim             759338 non-null  float64\n",
      " 69  inq_fi                       759277 non-null  float64\n",
      " 70  total_cu_tl                  759276 non-null  float64\n",
      " 71  inq_last_12m                 759276 non-null  float64\n",
      "dtypes: float64(40), int64(10), object(22)\n",
      "memory usage: 417.1+ MB\n"
     ]
    }
   ],
   "source": [
    "# Melihat info seluruh kolom\n",
    "loan_data.info()"
   ]
  },
  {
   "cell_type": "markdown",
   "metadata": {},
   "source": [
    "### Target Variable\n",
    "Dikarenakan project ini untuk mengetahui bad loan & good loan, maka perlu dibuat feature baru, yaitu target variable yang merepresentasikan bad loan (sebagai 1) dan good loan (sebagai 0)."
   ]
  },
  {
   "cell_type": "code",
   "execution_count": 25,
   "metadata": {},
   "outputs": [
    {
     "data": {
      "text/plain": [
       "array(['Current', 'Fully Paid', 'In Grace Period', 'Late (31-120 days)',\n",
       "       'Late (16-30 days)', 'Charged Off', 'Default'], dtype=object)"
      ]
     },
     "execution_count": 25,
     "metadata": {},
     "output_type": "execute_result"
    }
   ],
   "source": [
    "# Melihat unique values pada feature loan_status\n",
    "loan_data.loan_status.unique()"
   ]
  },
  {
   "cell_type": "code",
   "execution_count": 26,
   "metadata": {},
   "outputs": [],
   "source": [
    "# Membuat feature baru yaitu good_bad sebagai target variable,\n",
    "# Jika loan_statusnya 'Charged Off', 'Default', 'Late (31-120 days)', 'Late (16-30 days)' \n",
    "# akan dianggap sebagai bad_loan atau 1 dan nilai selain itu akan dianggap good loan atau 0\n",
    "loan_data['good_bad'] = np.where(loan_data.loc[:, 'loan_status'].isin(['Charged Off', \n",
    "                                                                   'Default', 'Late (31-120 days)', 'Late (16-30 days)'])\n",
    "                                , 1 , 0)"
   ]
  },
  {
   "cell_type": "code",
   "execution_count": 27,
   "metadata": {},
   "outputs": [
    {
     "data": {
      "text/plain": [
       "good_bad\n",
       "0    702875\n",
       "1     56463\n",
       "Name: count, dtype: int64"
      ]
     },
     "execution_count": 27,
     "metadata": {},
     "output_type": "execute_result"
    }
   ],
   "source": [
    "# Melihat distribusi 0 dan 1\n",
    "loan_data.good_bad.value_counts()"
   ]
  },
  {
   "cell_type": "code",
   "execution_count": 28,
   "metadata": {},
   "outputs": [
    {
     "data": {
      "text/html": [
       "<div>\n",
       "<style scoped>\n",
       "    .dataframe tbody tr th:only-of-type {\n",
       "        vertical-align: middle;\n",
       "    }\n",
       "\n",
       "    .dataframe tbody tr th {\n",
       "        vertical-align: top;\n",
       "    }\n",
       "\n",
       "    .dataframe thead th {\n",
       "        text-align: right;\n",
       "    }\n",
       "</style>\n",
       "<table border=\"1\" class=\"dataframe\">\n",
       "  <thead>\n",
       "    <tr style=\"text-align: right;\">\n",
       "      <th></th>\n",
       "      <th>loan_status</th>\n",
       "      <th>good_bad</th>\n",
       "    </tr>\n",
       "  </thead>\n",
       "  <tbody>\n",
       "    <tr>\n",
       "      <th>0</th>\n",
       "      <td>Current</td>\n",
       "      <td>0</td>\n",
       "    </tr>\n",
       "    <tr>\n",
       "      <th>1</th>\n",
       "      <td>Current</td>\n",
       "      <td>0</td>\n",
       "    </tr>\n",
       "    <tr>\n",
       "      <th>2</th>\n",
       "      <td>Current</td>\n",
       "      <td>0</td>\n",
       "    </tr>\n",
       "    <tr>\n",
       "      <th>3</th>\n",
       "      <td>Current</td>\n",
       "      <td>0</td>\n",
       "    </tr>\n",
       "    <tr>\n",
       "      <th>4</th>\n",
       "      <td>Current</td>\n",
       "      <td>0</td>\n",
       "    </tr>\n",
       "    <tr>\n",
       "      <th>...</th>\n",
       "      <td>...</td>\n",
       "      <td>...</td>\n",
       "    </tr>\n",
       "    <tr>\n",
       "      <th>759333</th>\n",
       "      <td>Current</td>\n",
       "      <td>0</td>\n",
       "    </tr>\n",
       "    <tr>\n",
       "      <th>759334</th>\n",
       "      <td>Current</td>\n",
       "      <td>0</td>\n",
       "    </tr>\n",
       "    <tr>\n",
       "      <th>759335</th>\n",
       "      <td>Late (16-30 days)</td>\n",
       "      <td>1</td>\n",
       "    </tr>\n",
       "    <tr>\n",
       "      <th>759336</th>\n",
       "      <td>Current</td>\n",
       "      <td>0</td>\n",
       "    </tr>\n",
       "    <tr>\n",
       "      <th>759337</th>\n",
       "      <td>Current</td>\n",
       "      <td>0</td>\n",
       "    </tr>\n",
       "  </tbody>\n",
       "</table>\n",
       "<p>759338 rows × 2 columns</p>\n",
       "</div>"
      ],
      "text/plain": [
       "              loan_status  good_bad\n",
       "0                 Current         0\n",
       "1                 Current         0\n",
       "2                 Current         0\n",
       "3                 Current         0\n",
       "4                 Current         0\n",
       "...                   ...       ...\n",
       "759333            Current         0\n",
       "759334            Current         0\n",
       "759335  Late (16-30 days)         1\n",
       "759336            Current         0\n",
       "759337            Current         0\n",
       "\n",
       "[759338 rows x 2 columns]"
      ]
     },
     "execution_count": 28,
     "metadata": {},
     "output_type": "execute_result"
    }
   ],
   "source": [
    "loan_data[['loan_status', 'good_bad']]"
   ]
  },
  {
   "cell_type": "code",
   "execution_count": 29,
   "metadata": {},
   "outputs": [
    {
     "data": {
      "text/plain": [
       "good_bad\n",
       "0    0.925642\n",
       "1    0.074358\n",
       "Name: proportion, dtype: float64"
      ]
     },
     "execution_count": 29,
     "metadata": {},
     "output_type": "execute_result"
    }
   ],
   "source": [
    "loan_data.good_bad.value_counts(normalize=True)"
   ]
  },
  {
   "cell_type": "markdown",
   "metadata": {},
   "source": [
    "### Missing Value\n",
    "Feature yang memiliki missing values lebih dari 50% akan di drop, karena jika ingin diisi dengan nilai lain seperti median atau mean, maka errornya akan sangat tinggi. Lebih baik di drop agar tidak membuat model semakin tidak akurat."
   ]
  },
  {
   "cell_type": "code",
   "execution_count": 30,
   "metadata": {},
   "outputs": [
    {
     "data": {
      "text/html": [
       "<div>\n",
       "<style scoped>\n",
       "    .dataframe tbody tr th:only-of-type {\n",
       "        vertical-align: middle;\n",
       "    }\n",
       "\n",
       "    .dataframe tbody tr th {\n",
       "        vertical-align: top;\n",
       "    }\n",
       "\n",
       "    .dataframe thead th {\n",
       "        text-align: right;\n",
       "    }\n",
       "</style>\n",
       "<table border=\"1\" class=\"dataframe\">\n",
       "  <thead>\n",
       "    <tr style=\"text-align: right;\">\n",
       "      <th></th>\n",
       "      <th>0</th>\n",
       "    </tr>\n",
       "  </thead>\n",
       "  <tbody>\n",
       "    <tr>\n",
       "      <th>member_id</th>\n",
       "      <td>1.000000</td>\n",
       "    </tr>\n",
       "    <tr>\n",
       "      <th>desc</th>\n",
       "      <td>0.999978</td>\n",
       "    </tr>\n",
       "    <tr>\n",
       "      <th>dti_joint</th>\n",
       "      <td>0.955223</td>\n",
       "    </tr>\n",
       "    <tr>\n",
       "      <th>annual_inc_joint</th>\n",
       "      <td>0.955220</td>\n",
       "    </tr>\n",
       "    <tr>\n",
       "      <th>verification_status_joint</th>\n",
       "      <td>0.955220</td>\n",
       "    </tr>\n",
       "    <tr>\n",
       "      <th>mths_since_last_record</th>\n",
       "      <td>0.814076</td>\n",
       "    </tr>\n",
       "    <tr>\n",
       "      <th>mths_since_last_major_derog</th>\n",
       "      <td>0.716720</td>\n",
       "    </tr>\n",
       "  </tbody>\n",
       "</table>\n",
       "</div>"
      ],
      "text/plain": [
       "                                    0\n",
       "member_id                    1.000000\n",
       "desc                         0.999978\n",
       "dti_joint                    0.955223\n",
       "annual_inc_joint             0.955220\n",
       "verification_status_joint    0.955220\n",
       "mths_since_last_record       0.814076\n",
       "mths_since_last_major_derog  0.716720"
      ]
     },
     "execution_count": 30,
     "metadata": {},
     "output_type": "execute_result"
    }
   ],
   "source": [
    "# Melihat feature apa saja yang memiliki missing value lebih dari 50%\n",
    "missing_values = pd.DataFrame(loan_data.isnull().sum()/loan_data.shape[0])\n",
    "missing_values = missing_values[missing_values.iloc[:,0] > 0.50]\n",
    "missing_values.sort_values([0], ascending=False)"
   ]
  },
  {
   "cell_type": "code",
   "execution_count": 31,
   "metadata": {},
   "outputs": [],
   "source": [
    "# Drop feature tersebut\n",
    "loan_data.dropna(thresh = loan_data.shape[0]*0.5, axis = 1, inplace = True)"
   ]
  },
  {
   "cell_type": "code",
   "execution_count": 32,
   "metadata": {},
   "outputs": [
    {
     "data": {
      "text/html": [
       "<div>\n",
       "<style scoped>\n",
       "    .dataframe tbody tr th:only-of-type {\n",
       "        vertical-align: middle;\n",
       "    }\n",
       "\n",
       "    .dataframe tbody tr th {\n",
       "        vertical-align: top;\n",
       "    }\n",
       "\n",
       "    .dataframe thead th {\n",
       "        text-align: right;\n",
       "    }\n",
       "</style>\n",
       "<table border=\"1\" class=\"dataframe\">\n",
       "  <thead>\n",
       "    <tr style=\"text-align: right;\">\n",
       "      <th></th>\n",
       "      <th>0</th>\n",
       "    </tr>\n",
       "  </thead>\n",
       "  <tbody>\n",
       "  </tbody>\n",
       "</table>\n",
       "</div>"
      ],
      "text/plain": [
       "Empty DataFrame\n",
       "Columns: [0]\n",
       "Index: []"
      ]
     },
     "execution_count": 32,
     "metadata": {},
     "output_type": "execute_result"
    }
   ],
   "source": [
    "# Pengecheckan ulang apakah feature tersebut berhasil di drop\n",
    "missing_values = pd.DataFrame(loan_data.isnull().sum()/loan_data.shape[0])\n",
    "missing_values = missing_values[missing_values.iloc[:,0] > 0.50]\n",
    "missing_values.sort_values([0], ascending = False)"
   ]
  },
  {
   "cell_type": "code",
   "execution_count": 73,
   "metadata": {},
   "outputs": [
    {
     "name": "stdout",
     "output_type": "stream",
     "text": [
      "<class 'pandas.core.frame.DataFrame'>\n",
      "RangeIndex: 759338 entries, 0 to 759337\n",
      "Data columns (total 66 columns):\n",
      " #   Column                      Non-Null Count   Dtype  \n",
      "---  ------                      --------------   -----  \n",
      " 0   id                          759338 non-null  int64  \n",
      " 1   loan_amnt                   759338 non-null  int64  \n",
      " 2   funded_amnt                 759338 non-null  int64  \n",
      " 3   funded_amnt_inv             759338 non-null  float64\n",
      " 4   term                        759338 non-null  object \n",
      " 5   int_rate                    759338 non-null  float64\n",
      " 6   installment                 759338 non-null  float64\n",
      " 7   grade                       759338 non-null  object \n",
      " 8   sub_grade                   759338 non-null  object \n",
      " 9   emp_title                   708368 non-null  object \n",
      " 10  emp_length                  708975 non-null  object \n",
      " 11  home_ownership              759338 non-null  object \n",
      " 12  annual_inc                  759338 non-null  float64\n",
      " 13  verification_status         759338 non-null  object \n",
      " 14  issue_d                     759338 non-null  object \n",
      " 15  loan_status                 759338 non-null  object \n",
      " 16  pymnt_plan                  759338 non-null  object \n",
      " 17  purpose                     759338 non-null  object \n",
      " 18  title                       736165 non-null  object \n",
      " 19  zip_code                    759337 non-null  object \n",
      " 20  addr_state                  759338 non-null  object \n",
      " 21  dti                         758983 non-null  float64\n",
      " 22  delinq_2yrs                 759338 non-null  int64  \n",
      " 23  earliest_cr_line            759338 non-null  object \n",
      " 24  inq_last_6mths              759337 non-null  float64\n",
      " 25  mths_since_last_delinq      396633 non-null  float64\n",
      " 26  open_acc                    759338 non-null  int64  \n",
      " 27  pub_rec                     759338 non-null  int64  \n",
      " 28  revol_bal                   759338 non-null  float64\n",
      " 29  revol_util                  758821 non-null  float64\n",
      " 30  total_acc                   759338 non-null  int64  \n",
      " 31  initial_list_status         759338 non-null  object \n",
      " 32  out_prncp                   759338 non-null  float64\n",
      " 33  out_prncp_inv               759338 non-null  float64\n",
      " 34  total_pymnt                 759338 non-null  float64\n",
      " 35  total_pymnt_inv             759338 non-null  float64\n",
      " 36  total_rec_prncp             759338 non-null  float64\n",
      " 37  total_rec_int               759338 non-null  float64\n",
      " 38  total_rec_late_fee          759338 non-null  float64\n",
      " 39  recoveries                  759338 non-null  float64\n",
      " 40  collection_recovery_fee     759338 non-null  float64\n",
      " 41  last_pymnt_d                758390 non-null  object \n",
      " 42  last_pymnt_amnt             759338 non-null  float64\n",
      " 43  next_pymnt_d                591423 non-null  object \n",
      " 44  last_credit_pull_d          759320 non-null  object \n",
      " 45  collections_12_mths_ex_med  759338 non-null  int64  \n",
      " 46  policy_code                 759338 non-null  int64  \n",
      " 47  application_type            759338 non-null  object \n",
      " 48  acc_now_delinq              759338 non-null  int64  \n",
      " 49  tot_coll_amt                759338 non-null  float64\n",
      " 50  tot_cur_bal                 759338 non-null  float64\n",
      " 51  open_acc_6m                 759276 non-null  float64\n",
      " 52  open_il_12m                 759277 non-null  float64\n",
      " 53  open_il_24m                 759277 non-null  float64\n",
      " 54  mths_since_rcnt_il          738795 non-null  float64\n",
      " 55  total_bal_il                759277 non-null  float64\n",
      " 56  il_util                     658743 non-null  float64\n",
      " 57  open_rv_12m                 759277 non-null  float64\n",
      " 58  open_rv_24m                 759277 non-null  float64\n",
      " 59  max_bal_bc                  759277 non-null  float64\n",
      " 60  all_util                    759224 non-null  float64\n",
      " 61  total_rev_hi_lim            759338 non-null  float64\n",
      " 62  inq_fi                      759277 non-null  float64\n",
      " 63  total_cu_tl                 759276 non-null  float64\n",
      " 64  inq_last_12m                759276 non-null  float64\n",
      " 65  good_bad                    759338 non-null  int32  \n",
      "dtypes: float64(35), int32(1), int64(10), object(20)\n",
      "memory usage: 379.5+ MB\n"
     ]
    }
   ],
   "source": [
    "loan_data.info()"
   ]
  },
  {
   "cell_type": "markdown",
   "metadata": {},
   "source": [
    "### Data Splitting"
   ]
  },
  {
   "cell_type": "code",
   "execution_count": 74,
   "metadata": {},
   "outputs": [
    {
     "data": {
      "text/plain": [
       "(759338, 66)"
      ]
     },
     "execution_count": 74,
     "metadata": {},
     "output_type": "execute_result"
    }
   ],
   "source": [
    "loan_data.shape"
   ]
  },
  {
   "cell_type": "code",
   "execution_count": 75,
   "metadata": {},
   "outputs": [],
   "source": [
    "from sklearn.model_selection import train_test_split"
   ]
  },
  {
   "cell_type": "code",
   "execution_count": 76,
   "metadata": {},
   "outputs": [],
   "source": [
    "# Membagi data menjadi 80% train set dan 20% test set\n",
    "X = loan_data.drop('good_bad', axis = 1)\n",
    "y = loan_data[['good_bad']]\n",
    "\n",
    "X_train, X_test, y_train, y_test = train_test_split(X, y, test_size = 0.2, stratify = y, random_state= 42)"
   ]
  },
  {
   "cell_type": "code",
   "execution_count": 79,
   "metadata": {},
   "outputs": [
    {
     "data": {
      "text/plain": [
       "((607470, 65), (151868, 65))"
      ]
     },
     "execution_count": 79,
     "metadata": {},
     "output_type": "execute_result"
    }
   ],
   "source": [
    "X_train.shape, X_test.shape"
   ]
  },
  {
   "cell_type": "code",
   "execution_count": 80,
   "metadata": {},
   "outputs": [
    {
     "data": {
      "text/plain": [
       "((607470, 1), (151868, 1))"
      ]
     },
     "execution_count": 80,
     "metadata": {},
     "output_type": "execute_result"
    }
   ],
   "source": [
    "y_train.shape, y_test.shape"
   ]
  },
  {
   "cell_type": "code",
   "execution_count": 81,
   "metadata": {},
   "outputs": [
    {
     "data": {
      "text/plain": [
       "good_bad\n",
       "0           0.925642\n",
       "1           0.074358\n",
       "Name: proportion, dtype: float64"
      ]
     },
     "execution_count": 81,
     "metadata": {},
     "output_type": "execute_result"
    }
   ],
   "source": [
    "y_train.value_counts(normalize = True)"
   ]
  },
  {
   "cell_type": "code",
   "execution_count": 82,
   "metadata": {},
   "outputs": [
    {
     "data": {
      "text/plain": [
       "good_bad\n",
       "0           0.925639\n",
       "1           0.074361\n",
       "Name: proportion, dtype: float64"
      ]
     },
     "execution_count": 82,
     "metadata": {},
     "output_type": "execute_result"
    }
   ],
   "source": [
    "y_test.value_counts(normalize = True)"
   ]
  },
  {
   "cell_type": "markdown",
   "metadata": {},
   "source": [
    "### Data Cleaning"
   ]
  },
  {
   "cell_type": "code",
   "execution_count": 83,
   "metadata": {},
   "outputs": [
    {
     "data": {
      "text/plain": [
       "(607470, 65)"
      ]
     },
     "execution_count": 83,
     "metadata": {},
     "output_type": "execute_result"
    }
   ],
   "source": [
    "# Terdapat 65 kolom, bagaimana untuk mengetahui kolom apa saja yang memiliki data kotor?\n",
    "X_train.shape"
   ]
  },
  {
   "cell_type": "code",
   "execution_count": 85,
   "metadata": {},
   "outputs": [],
   "source": [
    "# Dapat dilakukan print untuk semua unique values kolom, sehingga dapat di cek satu-satu\n",
    "# unique values apa saja yang kotor.\n",
    "\n",
    "# for col in X_train.select_dtypes(include= ['object','bool']).columns:\n",
    "#     print(col)\n",
    "#     print(X_train[col].unique())\n",
    "#     print()"
   ]
  },
  {
   "cell_type": "code",
   "execution_count": 86,
   "metadata": {},
   "outputs": [],
   "source": [
    "# Kolom/feature yang harus di cleaning\n",
    "col_need_to_clean = ['term', 'emp_length', 'issue_d', 'earliest_cr_line', 'last_pymnt_d', \n",
    "                    'next_pymnt_d', 'last_credit_pull_d']"
   ]
  },
  {
   "cell_type": "code",
   "execution_count": 87,
   "metadata": {},
   "outputs": [
    {
     "data": {
      "text/plain": [
       "array(['36 months', '60 months'], dtype=object)"
      ]
     },
     "execution_count": 87,
     "metadata": {},
     "output_type": "execute_result"
    }
   ],
   "source": [
    "X_train['term'].unique()"
   ]
  },
  {
   "cell_type": "code",
   "execution_count": 88,
   "metadata": {},
   "outputs": [
    {
     "data": {
      "text/plain": [
       "147577    36\n",
       "505776    36\n",
       "412425    36\n",
       "618730    36\n",
       "111143    36\n",
       "          ..\n",
       "150426    36\n",
       "195135    36\n",
       "182511    36\n",
       "82596     36\n",
       "165904    36\n",
       "Name: term, Length: 607470, dtype: object"
      ]
     },
     "execution_count": 88,
     "metadata": {},
     "output_type": "execute_result"
    }
   ],
   "source": [
    "# Menghilangkan ' months' menjadi ''\n",
    "X_train['term'].str.replace(' months', '')"
   ]
  },
  {
   "cell_type": "code",
   "execution_count": 89,
   "metadata": {},
   "outputs": [],
   "source": [
    "# Convert data type menjadi numeric \n",
    "X_train['term'] = pd.to_numeric(X_train['term'].str.replace(' months', ''))"
   ]
  },
  {
   "cell_type": "code",
   "execution_count": 91,
   "metadata": {},
   "outputs": [
    {
     "data": {
      "text/plain": [
       "147577    36\n",
       "505776    36\n",
       "412425    36\n",
       "618730    36\n",
       "111143    36\n",
       "          ..\n",
       "150426    36\n",
       "195135    36\n",
       "182511    36\n",
       "82596     36\n",
       "165904    36\n",
       "Name: term, Length: 607470, dtype: int64"
      ]
     },
     "execution_count": 91,
     "metadata": {},
     "output_type": "execute_result"
    }
   ],
   "source": [
    "X_train['term']"
   ]
  },
  {
   "cell_type": "code",
   "execution_count": 92,
   "metadata": {},
   "outputs": [
    {
     "data": {
      "text/plain": [
       "array(['4 years', '10+ years', '< 1 year', '5 years', '6 years',\n",
       "       '7 years', '2 years', '3 years', '8 years', '1 year', nan,\n",
       "       '9 years'], dtype=object)"
      ]
     },
     "execution_count": 92,
     "metadata": {},
     "output_type": "execute_result"
    }
   ],
   "source": [
    "# Cek values apa saja yang harus di cleaning\n",
    "X_train['emp_length'].unique()"
   ]
  },
  {
   "cell_type": "code",
   "execution_count": 104,
   "metadata": {},
   "outputs": [],
   "source": [
    "X_train['emp_length'] = X_train['emp_length'].str.replace('\\+ years', '')\n",
    "X_train['emp_length'] = X_train['emp_length'].str.replace(' years', '')\n",
    "X_train['emp_length'] = X_train['emp_length'].str.replace('< 1 year', str(0))\n",
    "X_train['emp_length'] = X_train['emp_length'].str.replace(' year', '')\n",
    "\n",
    "X_train['emp_length'] = X_train['emp_length'].fillna(0)"
   ]
  },
  {
   "cell_type": "code",
   "execution_count": 105,
   "metadata": {},
   "outputs": [
    {
     "data": {
      "text/plain": [
       "array(['4', '10+', '0', '5', '6', '7', '2', '3', '8', '1', 0, '9'],\n",
       "      dtype=object)"
      ]
     },
     "execution_count": 105,
     "metadata": {},
     "output_type": "execute_result"
    }
   ],
   "source": [
    "X_train['emp_length'].unique()"
   ]
  },
  {
   "cell_type": "code",
   "execution_count": 102,
   "metadata": {},
   "outputs": [
    {
     "ename": "ValueError",
     "evalue": "Unable to parse string \"10+\" at position 1",
     "output_type": "error",
     "traceback": [
      "\u001b[1;31m---------------------------------------------------------------------------\u001b[0m",
      "\u001b[1;31mValueError\u001b[0m                                Traceback (most recent call last)",
      "File \u001b[1;32mlib.pyx:2391\u001b[0m, in \u001b[0;36mpandas._libs.lib.maybe_convert_numeric\u001b[1;34m()\u001b[0m\n",
      "\u001b[1;31mValueError\u001b[0m: Unable to parse string \"10+\"",
      "\nDuring handling of the above exception, another exception occurred:\n",
      "\u001b[1;31mValueError\u001b[0m                                Traceback (most recent call last)",
      "Cell \u001b[1;32mIn[102], line 1\u001b[0m\n\u001b[1;32m----> 1\u001b[0m X_train[\u001b[38;5;124m'\u001b[39m\u001b[38;5;124memp_length\u001b[39m\u001b[38;5;124m'\u001b[39m] \u001b[38;5;241m=\u001b[39m \u001b[43mpd\u001b[49m\u001b[38;5;241;43m.\u001b[39;49m\u001b[43mto_numeric\u001b[49m\u001b[43m(\u001b[49m\u001b[43mX_train\u001b[49m\u001b[43m[\u001b[49m\u001b[38;5;124;43m'\u001b[39;49m\u001b[38;5;124;43memp_length\u001b[39;49m\u001b[38;5;124;43m'\u001b[39;49m\u001b[43m]\u001b[49m\u001b[43m)\u001b[49m\n",
      "File \u001b[1;32mc:\\Users\\USER\\AppData\\Local\\Programs\\Python\\Python310\\lib\\site-packages\\pandas\\core\\tools\\numeric.py:232\u001b[0m, in \u001b[0;36mto_numeric\u001b[1;34m(arg, errors, downcast, dtype_backend)\u001b[0m\n\u001b[0;32m    230\u001b[0m coerce_numeric \u001b[38;5;241m=\u001b[39m errors \u001b[38;5;129;01mnot\u001b[39;00m \u001b[38;5;129;01min\u001b[39;00m (\u001b[38;5;124m\"\u001b[39m\u001b[38;5;124mignore\u001b[39m\u001b[38;5;124m\"\u001b[39m, \u001b[38;5;124m\"\u001b[39m\u001b[38;5;124mraise\u001b[39m\u001b[38;5;124m\"\u001b[39m)\n\u001b[0;32m    231\u001b[0m \u001b[38;5;28;01mtry\u001b[39;00m:\n\u001b[1;32m--> 232\u001b[0m     values, new_mask \u001b[38;5;241m=\u001b[39m \u001b[43mlib\u001b[49m\u001b[38;5;241;43m.\u001b[39;49m\u001b[43mmaybe_convert_numeric\u001b[49m\u001b[43m(\u001b[49m\u001b[43m  \u001b[49m\u001b[38;5;66;43;03m# type: ignore[call-overload]\u001b[39;49;00m\n\u001b[0;32m    233\u001b[0m \u001b[43m        \u001b[49m\u001b[43mvalues\u001b[49m\u001b[43m,\u001b[49m\n\u001b[0;32m    234\u001b[0m \u001b[43m        \u001b[49m\u001b[38;5;28;43mset\u001b[39;49m\u001b[43m(\u001b[49m\u001b[43m)\u001b[49m\u001b[43m,\u001b[49m\n\u001b[0;32m    235\u001b[0m \u001b[43m        \u001b[49m\u001b[43mcoerce_numeric\u001b[49m\u001b[38;5;241;43m=\u001b[39;49m\u001b[43mcoerce_numeric\u001b[49m\u001b[43m,\u001b[49m\n\u001b[0;32m    236\u001b[0m \u001b[43m        \u001b[49m\u001b[43mconvert_to_masked_nullable\u001b[49m\u001b[38;5;241;43m=\u001b[39;49m\u001b[43mdtype_backend\u001b[49m\u001b[43m \u001b[49m\u001b[38;5;129;43;01mis\u001b[39;49;00m\u001b[43m \u001b[49m\u001b[38;5;129;43;01mnot\u001b[39;49;00m\u001b[43m \u001b[49m\u001b[43mlib\u001b[49m\u001b[38;5;241;43m.\u001b[39;49m\u001b[43mno_default\u001b[49m\n\u001b[0;32m    237\u001b[0m \u001b[43m        \u001b[49m\u001b[38;5;129;43;01mor\u001b[39;49;00m\u001b[43m \u001b[49m\u001b[38;5;28;43misinstance\u001b[39;49m\u001b[43m(\u001b[49m\u001b[43mvalues_dtype\u001b[49m\u001b[43m,\u001b[49m\u001b[43m \u001b[49m\u001b[43mStringDtype\u001b[49m\u001b[43m)\u001b[49m\n\u001b[0;32m    238\u001b[0m \u001b[43m        \u001b[49m\u001b[38;5;129;43;01mand\u001b[39;49;00m\u001b[43m \u001b[49m\u001b[38;5;129;43;01mnot\u001b[39;49;00m\u001b[43m \u001b[49m\u001b[43mvalues_dtype\u001b[49m\u001b[38;5;241;43m.\u001b[39;49m\u001b[43mstorage\u001b[49m\u001b[43m \u001b[49m\u001b[38;5;241;43m==\u001b[39;49m\u001b[43m \u001b[49m\u001b[38;5;124;43m\"\u001b[39;49m\u001b[38;5;124;43mpyarrow_numpy\u001b[39;49m\u001b[38;5;124;43m\"\u001b[39;49m\u001b[43m,\u001b[49m\n\u001b[0;32m    239\u001b[0m \u001b[43m    \u001b[49m\u001b[43m)\u001b[49m\n\u001b[0;32m    240\u001b[0m \u001b[38;5;28;01mexcept\u001b[39;00m (\u001b[38;5;167;01mValueError\u001b[39;00m, \u001b[38;5;167;01mTypeError\u001b[39;00m):\n\u001b[0;32m    241\u001b[0m     \u001b[38;5;28;01mif\u001b[39;00m errors \u001b[38;5;241m==\u001b[39m \u001b[38;5;124m\"\u001b[39m\u001b[38;5;124mraise\u001b[39m\u001b[38;5;124m\"\u001b[39m:\n",
      "File \u001b[1;32mlib.pyx:2433\u001b[0m, in \u001b[0;36mpandas._libs.lib.maybe_convert_numeric\u001b[1;34m()\u001b[0m\n",
      "\u001b[1;31mValueError\u001b[0m: Unable to parse string \"10+\" at position 1"
     ]
    }
   ],
   "source": [
    "\n",
    "X_train['emp_length'] = pd.to_numeric(X_train['emp_length'])"
   ]
  },
  {
   "cell_type": "code",
   "execution_count": 51,
   "metadata": {},
   "outputs": [
    {
     "data": {
      "text/plain": [
       "147577     4\n",
       "505776    10\n",
       "412425     0\n",
       "618730     5\n",
       "111143     6\n",
       "          ..\n",
       "150426     8\n",
       "195135     0\n",
       "182511    10\n",
       "82596      3\n",
       "165904     1\n",
       "Name: emp_length, Length: 607470, dtype: int64"
      ]
     },
     "execution_count": 51,
     "metadata": {},
     "output_type": "execute_result"
    }
   ],
   "source": [
    "X_train['emp_length']"
   ]
  },
  {
   "cell_type": "code",
   "execution_count": 52,
   "metadata": {},
   "outputs": [
    {
     "data": {
      "text/html": [
       "<div>\n",
       "<style scoped>\n",
       "    .dataframe tbody tr th:only-of-type {\n",
       "        vertical-align: middle;\n",
       "    }\n",
       "\n",
       "    .dataframe tbody tr th {\n",
       "        vertical-align: top;\n",
       "    }\n",
       "\n",
       "    .dataframe thead th {\n",
       "        text-align: right;\n",
       "    }\n",
       "</style>\n",
       "<table border=\"1\" class=\"dataframe\">\n",
       "  <thead>\n",
       "    <tr style=\"text-align: right;\">\n",
       "      <th></th>\n",
       "      <th>issue_d</th>\n",
       "      <th>earliest_cr_line</th>\n",
       "      <th>last_pymnt_d</th>\n",
       "      <th>next_pymnt_d</th>\n",
       "      <th>last_credit_pull_d</th>\n",
       "    </tr>\n",
       "  </thead>\n",
       "  <tbody>\n",
       "    <tr>\n",
       "      <th>147577</th>\n",
       "      <td>Feb-2017</td>\n",
       "      <td>Aug-1994</td>\n",
       "      <td>Dec-2017</td>\n",
       "      <td>Jan-2018</td>\n",
       "      <td>Dec-2017</td>\n",
       "    </tr>\n",
       "    <tr>\n",
       "      <th>505776</th>\n",
       "      <td>Apr-2016</td>\n",
       "      <td>Sep-2001</td>\n",
       "      <td>Jul-2017</td>\n",
       "      <td>NaN</td>\n",
       "      <td>Nov-2017</td>\n",
       "    </tr>\n",
       "    <tr>\n",
       "      <th>412425</th>\n",
       "      <td>Jul-2017</td>\n",
       "      <td>May-1999</td>\n",
       "      <td>Dec-2017</td>\n",
       "      <td>Jan-2018</td>\n",
       "      <td>Dec-2017</td>\n",
       "    </tr>\n",
       "    <tr>\n",
       "      <th>618730</th>\n",
       "      <td>Oct-2016</td>\n",
       "      <td>Jun-2005</td>\n",
       "      <td>Dec-2017</td>\n",
       "      <td>Jan-2018</td>\n",
       "      <td>Dec-2017</td>\n",
       "    </tr>\n",
       "    <tr>\n",
       "      <th>111143</th>\n",
       "      <td>Mar-2017</td>\n",
       "      <td>Jan-2012</td>\n",
       "      <td>Dec-2017</td>\n",
       "      <td>Jan-2018</td>\n",
       "      <td>Dec-2017</td>\n",
       "    </tr>\n",
       "    <tr>\n",
       "      <th>...</th>\n",
       "      <td>...</td>\n",
       "      <td>...</td>\n",
       "      <td>...</td>\n",
       "      <td>...</td>\n",
       "      <td>...</td>\n",
       "    </tr>\n",
       "    <tr>\n",
       "      <th>150426</th>\n",
       "      <td>Feb-2017</td>\n",
       "      <td>Nov-1998</td>\n",
       "      <td>Nov-2017</td>\n",
       "      <td>NaN</td>\n",
       "      <td>Dec-2017</td>\n",
       "    </tr>\n",
       "    <tr>\n",
       "      <th>195135</th>\n",
       "      <td>Jan-2017</td>\n",
       "      <td>Sep-1993</td>\n",
       "      <td>Dec-2017</td>\n",
       "      <td>Jan-2018</td>\n",
       "      <td>Dec-2017</td>\n",
       "    </tr>\n",
       "    <tr>\n",
       "      <th>182511</th>\n",
       "      <td>Jan-2017</td>\n",
       "      <td>Mar-1988</td>\n",
       "      <td>Dec-2017</td>\n",
       "      <td>Jan-2018</td>\n",
       "      <td>Dec-2017</td>\n",
       "    </tr>\n",
       "    <tr>\n",
       "      <th>82596</th>\n",
       "      <td>Apr-2017</td>\n",
       "      <td>Jan-2003</td>\n",
       "      <td>Dec-2017</td>\n",
       "      <td>Jan-2018</td>\n",
       "      <td>Dec-2017</td>\n",
       "    </tr>\n",
       "    <tr>\n",
       "      <th>165904</th>\n",
       "      <td>Feb-2017</td>\n",
       "      <td>Nov-2000</td>\n",
       "      <td>Dec-2017</td>\n",
       "      <td>Jan-2018</td>\n",
       "      <td>Dec-2017</td>\n",
       "    </tr>\n",
       "  </tbody>\n",
       "</table>\n",
       "<p>607470 rows × 5 columns</p>\n",
       "</div>"
      ],
      "text/plain": [
       "         issue_d earliest_cr_line last_pymnt_d next_pymnt_d last_credit_pull_d\n",
       "147577  Feb-2017         Aug-1994     Dec-2017     Jan-2018           Dec-2017\n",
       "505776  Apr-2016         Sep-2001     Jul-2017          NaN           Nov-2017\n",
       "412425  Jul-2017         May-1999     Dec-2017     Jan-2018           Dec-2017\n",
       "618730  Oct-2016         Jun-2005     Dec-2017     Jan-2018           Dec-2017\n",
       "111143  Mar-2017         Jan-2012     Dec-2017     Jan-2018           Dec-2017\n",
       "...          ...              ...          ...          ...                ...\n",
       "150426  Feb-2017         Nov-1998     Nov-2017          NaN           Dec-2017\n",
       "195135  Jan-2017         Sep-1993     Dec-2017     Jan-2018           Dec-2017\n",
       "182511  Jan-2017         Mar-1988     Dec-2017     Jan-2018           Dec-2017\n",
       "82596   Apr-2017         Jan-2003     Dec-2017     Jan-2018           Dec-2017\n",
       "165904  Feb-2017         Nov-2000     Dec-2017     Jan-2018           Dec-2017\n",
       "\n",
       "[607470 rows x 5 columns]"
      ]
     },
     "execution_count": 52,
     "metadata": {},
     "output_type": "execute_result"
    }
   ],
   "source": [
    "col_date = ['issue_d', 'earliest_cr_line', 'last_pymnt_d', 'next_pymnt_d', 'last_credit_pull_d']\n",
    "X_train[col_date]"
   ]
  },
  {
   "cell_type": "code",
   "execution_count": 53,
   "metadata": {},
   "outputs": [
    {
     "name": "stderr",
     "output_type": "stream",
     "text": [
      "C:\\Users\\USER\\AppData\\Local\\Temp\\ipykernel_11304\\2585870489.py:1: UserWarning: Could not infer format, so each element will be parsed individually, falling back to `dateutil`. To ensure parsing is consistent and as-expected, please specify a format.\n",
      "  X_train['issue_d'] = pd.to_datetime(X_train['issue_d'])\n"
     ]
    }
   ],
   "source": [
    "X_train['issue_d'] = pd.to_datetime(X_train['issue_d'])"
   ]
  },
  {
   "cell_type": "code",
   "execution_count": 54,
   "metadata": {},
   "outputs": [
    {
     "data": {
      "text/plain": [
       "147577   2017-02-01\n",
       "505776   2016-04-01\n",
       "412425   2017-07-01\n",
       "618730   2016-10-01\n",
       "111143   2017-03-01\n",
       "            ...    \n",
       "150426   2017-02-01\n",
       "195135   2017-01-01\n",
       "182511   2017-01-01\n",
       "82596    2017-04-01\n",
       "165904   2017-02-01\n",
       "Name: issue_d, Length: 607470, dtype: datetime64[ns]"
      ]
     },
     "execution_count": 54,
     "metadata": {},
     "output_type": "execute_result"
    }
   ],
   "source": [
    "X_train['issue_d']"
   ]
  },
  {
   "cell_type": "code",
   "execution_count": 55,
   "metadata": {},
   "outputs": [
    {
     "name": "stderr",
     "output_type": "stream",
     "text": [
      "C:\\Users\\USER\\AppData\\Local\\Temp\\ipykernel_11304\\2317582935.py:2: UserWarning: Could not infer format, so each element will be parsed individually, falling back to `dateutil`. To ensure parsing is consistent and as-expected, please specify a format.\n",
      "  X_train[col] = pd.to_datetime(X_train[col])\n",
      "C:\\Users\\USER\\AppData\\Local\\Temp\\ipykernel_11304\\2317582935.py:2: UserWarning: Could not infer format, so each element will be parsed individually, falling back to `dateutil`. To ensure parsing is consistent and as-expected, please specify a format.\n",
      "  X_train[col] = pd.to_datetime(X_train[col])\n",
      "C:\\Users\\USER\\AppData\\Local\\Temp\\ipykernel_11304\\2317582935.py:2: UserWarning: Could not infer format, so each element will be parsed individually, falling back to `dateutil`. To ensure parsing is consistent and as-expected, please specify a format.\n",
      "  X_train[col] = pd.to_datetime(X_train[col])\n",
      "C:\\Users\\USER\\AppData\\Local\\Temp\\ipykernel_11304\\2317582935.py:2: UserWarning: Could not infer format, so each element will be parsed individually, falling back to `dateutil`. To ensure parsing is consistent and as-expected, please specify a format.\n",
      "  X_train[col] = pd.to_datetime(X_train[col])\n"
     ]
    }
   ],
   "source": [
    "for col in col_date:\n",
    "    X_train[col] = pd.to_datetime(X_train[col])"
   ]
  },
  {
   "cell_type": "code",
   "execution_count": 56,
   "metadata": {},
   "outputs": [
    {
     "data": {
      "text/html": [
       "<div>\n",
       "<style scoped>\n",
       "    .dataframe tbody tr th:only-of-type {\n",
       "        vertical-align: middle;\n",
       "    }\n",
       "\n",
       "    .dataframe tbody tr th {\n",
       "        vertical-align: top;\n",
       "    }\n",
       "\n",
       "    .dataframe thead th {\n",
       "        text-align: right;\n",
       "    }\n",
       "</style>\n",
       "<table border=\"1\" class=\"dataframe\">\n",
       "  <thead>\n",
       "    <tr style=\"text-align: right;\">\n",
       "      <th></th>\n",
       "      <th>issue_d</th>\n",
       "      <th>earliest_cr_line</th>\n",
       "      <th>last_pymnt_d</th>\n",
       "      <th>next_pymnt_d</th>\n",
       "      <th>last_credit_pull_d</th>\n",
       "    </tr>\n",
       "  </thead>\n",
       "  <tbody>\n",
       "    <tr>\n",
       "      <th>147577</th>\n",
       "      <td>2017-02-01</td>\n",
       "      <td>1994-08-01</td>\n",
       "      <td>2017-12-01</td>\n",
       "      <td>2018-01-01</td>\n",
       "      <td>2017-12-01</td>\n",
       "    </tr>\n",
       "    <tr>\n",
       "      <th>505776</th>\n",
       "      <td>2016-04-01</td>\n",
       "      <td>2001-09-01</td>\n",
       "      <td>2017-07-01</td>\n",
       "      <td>NaT</td>\n",
       "      <td>2017-11-01</td>\n",
       "    </tr>\n",
       "    <tr>\n",
       "      <th>412425</th>\n",
       "      <td>2017-07-01</td>\n",
       "      <td>1999-05-01</td>\n",
       "      <td>2017-12-01</td>\n",
       "      <td>2018-01-01</td>\n",
       "      <td>2017-12-01</td>\n",
       "    </tr>\n",
       "    <tr>\n",
       "      <th>618730</th>\n",
       "      <td>2016-10-01</td>\n",
       "      <td>2005-06-01</td>\n",
       "      <td>2017-12-01</td>\n",
       "      <td>2018-01-01</td>\n",
       "      <td>2017-12-01</td>\n",
       "    </tr>\n",
       "    <tr>\n",
       "      <th>111143</th>\n",
       "      <td>2017-03-01</td>\n",
       "      <td>2012-01-01</td>\n",
       "      <td>2017-12-01</td>\n",
       "      <td>2018-01-01</td>\n",
       "      <td>2017-12-01</td>\n",
       "    </tr>\n",
       "    <tr>\n",
       "      <th>...</th>\n",
       "      <td>...</td>\n",
       "      <td>...</td>\n",
       "      <td>...</td>\n",
       "      <td>...</td>\n",
       "      <td>...</td>\n",
       "    </tr>\n",
       "    <tr>\n",
       "      <th>150426</th>\n",
       "      <td>2017-02-01</td>\n",
       "      <td>1998-11-01</td>\n",
       "      <td>2017-11-01</td>\n",
       "      <td>NaT</td>\n",
       "      <td>2017-12-01</td>\n",
       "    </tr>\n",
       "    <tr>\n",
       "      <th>195135</th>\n",
       "      <td>2017-01-01</td>\n",
       "      <td>1993-09-01</td>\n",
       "      <td>2017-12-01</td>\n",
       "      <td>2018-01-01</td>\n",
       "      <td>2017-12-01</td>\n",
       "    </tr>\n",
       "    <tr>\n",
       "      <th>182511</th>\n",
       "      <td>2017-01-01</td>\n",
       "      <td>1988-03-01</td>\n",
       "      <td>2017-12-01</td>\n",
       "      <td>2018-01-01</td>\n",
       "      <td>2017-12-01</td>\n",
       "    </tr>\n",
       "    <tr>\n",
       "      <th>82596</th>\n",
       "      <td>2017-04-01</td>\n",
       "      <td>2003-01-01</td>\n",
       "      <td>2017-12-01</td>\n",
       "      <td>2018-01-01</td>\n",
       "      <td>2017-12-01</td>\n",
       "    </tr>\n",
       "    <tr>\n",
       "      <th>165904</th>\n",
       "      <td>2017-02-01</td>\n",
       "      <td>2000-11-01</td>\n",
       "      <td>2017-12-01</td>\n",
       "      <td>2018-01-01</td>\n",
       "      <td>2017-12-01</td>\n",
       "    </tr>\n",
       "  </tbody>\n",
       "</table>\n",
       "<p>607470 rows × 5 columns</p>\n",
       "</div>"
      ],
      "text/plain": [
       "          issue_d earliest_cr_line last_pymnt_d next_pymnt_d  \\\n",
       "147577 2017-02-01       1994-08-01   2017-12-01   2018-01-01   \n",
       "505776 2016-04-01       2001-09-01   2017-07-01          NaT   \n",
       "412425 2017-07-01       1999-05-01   2017-12-01   2018-01-01   \n",
       "618730 2016-10-01       2005-06-01   2017-12-01   2018-01-01   \n",
       "111143 2017-03-01       2012-01-01   2017-12-01   2018-01-01   \n",
       "...           ...              ...          ...          ...   \n",
       "150426 2017-02-01       1998-11-01   2017-11-01          NaT   \n",
       "195135 2017-01-01       1993-09-01   2017-12-01   2018-01-01   \n",
       "182511 2017-01-01       1988-03-01   2017-12-01   2018-01-01   \n",
       "82596  2017-04-01       2003-01-01   2017-12-01   2018-01-01   \n",
       "165904 2017-02-01       2000-11-01   2017-12-01   2018-01-01   \n",
       "\n",
       "       last_credit_pull_d  \n",
       "147577         2017-12-01  \n",
       "505776         2017-11-01  \n",
       "412425         2017-12-01  \n",
       "618730         2017-12-01  \n",
       "111143         2017-12-01  \n",
       "...                   ...  \n",
       "150426         2017-12-01  \n",
       "195135         2017-12-01  \n",
       "182511         2017-12-01  \n",
       "82596          2017-12-01  \n",
       "165904         2017-12-01  \n",
       "\n",
       "[607470 rows x 5 columns]"
      ]
     },
     "execution_count": 56,
     "metadata": {},
     "output_type": "execute_result"
    }
   ],
   "source": [
    "X_train[col_date]"
   ]
  },
  {
   "cell_type": "code",
   "execution_count": 57,
   "metadata": {},
   "outputs": [
    {
     "name": "stdout",
     "output_type": "stream",
     "text": [
      "term\n",
      "['60 months' '36 months']\n",
      "\n",
      "grade\n",
      "['D' 'C' 'A' 'B' 'E' 'F' 'G']\n",
      "\n",
      "sub_grade\n",
      "['D5' 'C4' 'A2' 'B2' 'C2' 'B3' 'C5' 'D4' 'D3' 'D1' 'A5' 'B4' 'C1' 'B1'\n",
      " 'E3' 'E2' 'E1' 'A3' 'F3' 'E4' 'B5' 'A1' 'D2' 'C3' 'A4' 'F5' 'E5' 'G1'\n",
      " 'G2' 'G3' 'F4' 'F1' 'F2' 'G4' 'G5']\n",
      "\n",
      "emp_title\n",
      "['Visual Merchandising' 'server' 'Operations Manager' ...\n",
      " 'Partner System Operations Advisor' 'Medical records clerk' 'Trans cord']\n",
      "\n",
      "emp_length\n",
      "['10+ years' '7 years' '< 1 year' '2 years' nan '5 years' '3 years'\n",
      " '8 years' '4 years' '1 year' '9 years' '6 years']\n",
      "\n",
      "home_ownership\n",
      "['RENT' 'MORTGAGE' 'OWN' 'ANY']\n",
      "\n",
      "verification_status\n",
      "['Not Verified' 'Source Verified' 'Verified']\n",
      "\n",
      "issue_d\n",
      "['Jul-2016' 'Jul-2017' 'May-2017' 'Aug-2016' 'Nov-2016' 'Sep-2017'\n",
      " 'Jun-2017' 'Apr-2016' 'Jun-2016' 'Jan-2017' 'Mar-2016' 'Aug-2017'\n",
      " 'Apr-2017' 'Feb-2016' 'Feb-2017' 'Jan-2016' 'Mar-2017' 'Sep-2016'\n",
      " 'May-2016' 'Oct-2016' 'Dec-2016']\n",
      "\n",
      "loan_status\n",
      "['Charged Off' 'Current' 'In Grace Period' 'Fully Paid'\n",
      " 'Late (31-120 days)' 'Late (16-30 days)' 'Default']\n",
      "\n",
      "pymnt_plan\n",
      "['n' 'y']\n",
      "\n",
      "purpose\n",
      "['credit_card' 'debt_consolidation' 'major_purchase' 'medical' 'other'\n",
      " 'home_improvement' 'car' 'house' 'vacation' 'small_business' 'moving'\n",
      " 'renewable_energy' 'wedding']\n",
      "\n",
      "title\n",
      "['Credit card refinancing' 'Debt consolidation' 'Major purchase'\n",
      " 'Medical expenses' 'Other' 'Home improvement' nan 'Car financing'\n",
      " 'Home buying' 'Vacation' 'Business' 'Moving and relocation' 'Green loan']\n",
      "\n",
      "zip_code\n",
      "['900xx' '372xx' '599xx' '913xx' '040xx' '117xx' '925xx' '336xx' '064xx'\n",
      " '342xx' '082xx' '198xx' '207xx' '946xx' '105xx' '790xx' '452xx' '461xx'\n",
      " '037xx' '112xx' '641xx' '945xx' '334xx' '028xx' '103xx' '463xx' '120xx'\n",
      " '115xx' '329xx' '757xx' '657xx' '376xx' '983xx' '740xx' '926xx' '315xx'\n",
      " '020xx' '432xx' '605xx' '191xx' '290xx' '366xx' '325xx' '275xx' '483xx'\n",
      " '351xx' '760xx' '604xx' '630xx' '206xx' '222xx' '122xx' '917xx' '716xx'\n",
      " '497xx' '774xx' '300xx' '761xx' '071xx' '078xx' '236xx' '984xx' '110xx'\n",
      " '257xx' '200xx' '967xx' '660xx' '940xx' '951xx' '853xx' '486xx' '144xx'\n",
      " '201xx' '139xx' '458xx' '186xx' '981xx' '902xx' '015xx' '481xx' '212xx'\n",
      " '840xx' '305xx' '338xx' '210xx' '231xx' '142xx' '430xx' '320xx' '446xx'\n",
      " '776xx' '330xx' '467xx' '924xx' '575xx' '400xx' '530xx' '773xx' '681xx'\n",
      " '114xx' '079xx' '337xx' '952xx' '908xx' '759xx' '104xx' '751xx' '770xx'\n",
      " '916xx' '221xx' '331xx' '054xx' '648xx' '220xx' '293xx' '921xx' '700xx'\n",
      " '939xx' '238xx' '475xx' '785xx' '600xx' '852xx' '724xx' '327xx' '990xx'\n",
      " '750xx' '297xx' '970xx' '277xx' '928xx' '495xx' '472xx' '563xx' '018xx'\n",
      " '960xx' '439xx' '234xx' '971xx' '562xx' '380xx' '766xx' '941xx' '980xx'\n",
      " '333xx' '371xx' '283xx' '484xx' '029xx' '851xx' '919xx' '801xx' '227xx'\n",
      " '490xx' '479xx' '953xx' '294xx' '863xx' '551xx' '074xx' '891xx' '162xx'\n",
      " '209xx' '363xx' '113xx' '444xx' '431xx' '088xx' '787xx' '836xx' '870xx'\n",
      " '109xx' '038xx' '301xx' '933xx' '670xx' '937xx' '312xx' '456xx' '782xx'\n",
      " '225xx' '298xx' '748xx' '100xx' '360xx' '554xx' '631xx' '164xx' '441xx'\n",
      " '802xx' '335xx' '129xx' '806xx' '606xx' '590xx' '781xx' '460xx' '152xx'\n",
      " '944xx' '923xx' '847xx' '935xx' '544xx' '756xx' '850xx' '809xx' '454xx'\n",
      " '284xx' '560xx' '223xx' '875xx' '993xx' '932xx' '914xx' '601xx' '273xx'\n",
      " '546xx' '226xx' '134xx' '982xx' '197xx' '857xx' '296xx' '844xx' '199xx'\n",
      " '711xx' '402xx' '906xx' '727xx' '968xx' '640xx' '237xx' '276xx' '190xx'\n",
      " '778xx' '846xx' '083xx' '146xx' '492xx' '922xx' '559xx' '023xx' '927xx'\n",
      " '871xx' '084xx' '762xx' '786xx' '321xx' '735xx' '688xx' '791xx' '150xx'\n",
      " '841xx' '070xx' '302xx' '608xx' '936xx' '303xx' '775xx' '958xx' '553xx'\n",
      " '170xx' '897xx' '125xx' '306xx' '550xx' '558xx' '482xx' '328xx' '145xx'\n",
      " '895xx' '826xx' '318xx' '381xx' '440xx' '907xx' '322xx' '011xx' '232xx'\n",
      " '295xx' '166xx' '182xx' '032xx' '950xx' '341xx' '076xx' '167xx' '397xx'\n",
      " '030xx' '448xx' '362xx' '021xx' '800xx' '291xx' '882xx' '763xx' '350xx'\n",
      " '498xx' '705xx' '282xx' '920xx' '062xx' '349xx' '677xx' '087xx' '081xx'\n",
      " '549xx' '274xx' '347xx' '391xx' '647xx' '068xx' '244xx' '959xx' '799xx'\n",
      " '722xx' '196xx' '271xx' '286xx' '956xx' '278xx' '618xx' '894xx' '622xx'\n",
      " '118xx' '617xx' '359xx' '208xx' '626xx' '708xx' '777xx' '344xx' '780xx'\n",
      " '784xx' '881xx' '954xx' '156xx' '217xx' '140xx' '664xx' '972xx' '194xx'\n",
      " '127xx' '976xx' '930xx' '379xx' '547xx' '765xx' '151xx' '957xx' '633xx'\n",
      " '161xx' '108xx' '689xx' '437xx' '173xx' '934xx' '465xx' '480xx' '066xx'\n",
      " '731xx' '815xx' '856xx' '176xx' '175xx' '310xx' '572xx' '026xx' '768xx'\n",
      " '085xx' '356xx' '183xx' '610xx' '180xx' '069xx' '445xx' '060xx' '395xx'\n",
      " '394xx' '245xx' '039xx' '453xx' '704xx' '224xx' '089xx' '741xx' '309xx'\n",
      " '729xx' '184xx' '864xx' '424xx' '593xx' '370xx' '235xx' '148xx' '752xx'\n",
      " '912xx' '493xx' '403xx' '101xx' '811xx' '615xx' '111xx' '545xx' '346xx'\n",
      " '477xx' '915xx' '447xx' '471xx' '270xx' '890xx' '373xx' '143xx' '067xx'\n",
      " '592xx' '046xx' '764xx' '451xx' '442xx' '365xx' '107xx' '531xx' '287xx'\n",
      " '193xx' '614xx' '805xx' '794xx' '240xx' '779xx' '132xx' '824xx' '577xx'\n",
      " '137xx' '229xx' '468xx' '086xx' '494xx' '607xx' '153xx' '691xx' '281xx'\n",
      " '280xx' '177xx' '124xx' '307xx' '478xx' '833xx' '165xx' '133xx' '797xx'\n",
      " '123xx' '540xx' '174xx' '680xx' '658xx' '121xx' '570xx' '612xx' '652xx'\n",
      " '131xx' '543xx' '986xx' '358xx' '080xx' '992xx' '367xx' '019xx' '405xx'\n",
      " '324xx' '462xx' '163xx' '905xx' '535xx' '436xx' '339xx' '313xx' '703xx'\n",
      " '726xx' '159xx' '998xx' '804xx' '319xx' '012xx' '667xx' '707xx' '978xx'\n",
      " '603xx' '450xx' '393xx' '357xx' '904xx' '390xx' '239xx' '803xx' '386xx'\n",
      " '027xx' '738xx' '813xx' '219xx' '016xx' '181xx' '457xx' '228xx' '721xx'\n",
      " '877xx' '420xx' '374xx' '272xx' '314xx' '410xx' '678xx' '392xx' '496xx'\n",
      " '989xx' '609xx' '119xx' '672xx' '017xx' '542xx' '616xx' '620xx' '383xx'\n",
      " '241xx' '378xx' '385xx' '214xx' '211xx' '464xx' '838xx' '048xx' '049xx'\n",
      " '996xx' '056xx' '128xx' '949xx' '713xx' '661xx' '489xx' '288xx' '404xx'\n",
      " '473xx' '242xx' '449xx' '361xx' '567xx' '865xx' '855xx' '674xx' '130xx'\n",
      " '974xx' '014xx' '807xx' '138xx' '880xx' '160xx' '975xx' '189xx' '116xx'\n",
      " '299xx' '233xx' '597xx' '541xx' '034xx' '077xx' '421xx' '316xx' '627xx'\n",
      " '532xx' '469xx' '723xx' '668xx' '063xx' '583xx' '010xx' '292xx' '355xx'\n",
      " '676xx' '476xx' '744xx' '598xx' '582xx' '812xx' '147xx' '997xx' '470xx'\n",
      " '230xx' '666xx' '767xx' '585xx' '725xx' '435xx' '793xx' '488xx' '043xx'\n",
      " '650xx' '073xx' '352xx' '973xx' '591xx' '730xx' '645xx' '136xx' '911xx'\n",
      " '832xx' '179xx' '141xx' '485xx' '720xx' '827xx' '701xx' '995xx' '154xx'\n",
      " '859xx' '065xx' '754xx' '285xx' '637xx' '918xx' '178xx' '808xx' '662xx'\n",
      " '611xx' '581xx' '769xx' '837xx' '401xx' '261xx' '195xx' '396xx' '411xx'\n",
      " '126xx' '988xx' '308xx' '033xx' '712xx' '466xx' '588xx' '628xx' '168xx'\n",
      " '931xx' '053xx' '985xx' '061xx' '594xx' '743xx' '354xx' '388xx' '903xx'\n",
      " '718xx' '188xx' '050xx' '389xx' '185xx' '474xx' '384xx' '963xx' '407xx'\n",
      " '172xx' '860xx' '539xx' '977xx' '710xx' '656xx' '961xx' '629xx' '829xx'\n",
      " '693xx' '948xx' '565xx' '639xx' '587xx' '873xx' '910xx' '491xx' '025xx'\n",
      " '323xx' '409xx' '024xx' '042xx' '955xx' '706xx' '364xx' '719xx' '425xx'\n",
      " '717xx' '564xx' '187xx' '816xx' '671xx' '075xx' '052xx' '499xx' '654xx'\n",
      " '571xx' '422xx' '758xx' '326xx' '584xx' '728xx' '825xx' '623xx' '843xx'\n",
      " '653xx' '218xx' '619xx' '487xx' '243xx' '686xx' '072xx' '035xx' '580xx'\n",
      " '247xx' '382xx' '745xx' '651xx' '893xx' '810xx' '246xx' '538xx' '279xx'\n",
      " '834xx' '566xx' '255xx' '783xx' '044xx' '135xx' '215xx' '304xx' '171xx'\n",
      " '820xx' '795xx' '051xx' '537xx' '377xx' '041xx' '683xx' '943xx' '254xx'\n",
      " '796xx' '573xx' '734xx' '031xx' '155xx' '714xx' '368xx' '387xx' '798xx'\n",
      " '625xx' '434xx' '947xx' '845xx' '624xx' '685xx' '636xx' '548xx' '878xx'\n",
      " '157xx' '443xx' '874xx' '679xx' '586xx' '263xx' '332xx' '317xx' '426xx'\n",
      " '534xx' '789xx' '268xx' '755xx' '684xx' '427xx' '216xx' '149xx' '433xx'\n",
      " '047xx' '991xx' '158xx' '438xx' '788xx' '423xx' '416xx' '264xx' '736xx'\n",
      " '561xx' '665xx' '687xx' '595xx' '828xx' '045xx' '635xx' '883xx' '415xx'\n",
      " '398xx' '013xx' '613xx' '746xx' '058xx' '057xx' '772xx' '655xx' '814xx'\n",
      " '747xx' '634xx' '999xx' '265xx' '979xx' '749xx' '106xx' '675xx' '256xx'\n",
      " '022xx' '602xx' '596xx' '644xx' '096xx' '822xx' '406xx' '417xx' '673xx'\n",
      " '861xx' '898xx' '638xx' '835xx' '669xx' '412xx' '994xx' '169xx' '455xx'\n",
      " '557xx' '737xx' '830xx' '574xx' '090xx' '289xx' '823xx' '556xx' '091xx'\n",
      " '739xx' '251xx' '831xx' '879xx' '258xx' '249xx' '408xx' '646xx' '413xx'\n",
      " '250xx' '692xx' '262xx' '884xx' '414xx' '260xx' '253xx' '418xx' '753xx'\n",
      " '576xx' '690xx' '008xx' '555xx' '102xx' '036xx' '348xx' '901xx' '369xx'\n",
      " '962xx' '267xx' '965xx' '266xx' '792xx' '094xx' '095xx' '009xx' '252xx'\n",
      " '506xx' '502xx' '248xx' '515xx' '525xx' '204xx' '552xx' '854xx' '702xx'\n",
      " '259xx' '821xx' '059xx']\n",
      "\n",
      "addr_state\n",
      "['CA' 'TN' 'MT' 'ME' 'NY' 'FL' 'CT' 'NJ' 'DE' 'MD' 'TX' 'OH' 'IN' 'NH'\n",
      " 'MO' 'RI' 'WA' 'OK' 'GA' 'MA' 'IL' 'PA' 'SC' 'AL' 'NC' 'MI' 'VA' 'AR'\n",
      " 'WV' 'DC' 'HI' 'KS' 'AZ' 'UT' 'SD' 'KY' 'WI' 'NE' 'VT' 'LA' 'OR' 'MN'\n",
      " 'CO' 'NV' 'ID' 'NM' 'WY' 'MS' 'AK' 'ND']\n",
      "\n",
      "earliest_cr_line\n",
      "['Nov-1999' 'Jan-2006' 'Dec-1976' 'Dec-2005' 'Oct-1970' 'Sep-1986'\n",
      " 'Dec-2010' 'Jan-2002' 'Jan-1998' 'Jun-2007' 'Mar-1996' 'Mar-2004'\n",
      " 'Feb-1999' 'Nov-2000' 'Jan-1964' 'Oct-2001' 'Sep-2004' 'Oct-1986'\n",
      " 'Apr-2004' 'Jun-2004' 'Jun-2010' 'Dec-1995' 'Jan-1994' 'Jul-1998'\n",
      " 'Jul-1994' 'Sep-2002' 'Dec-2004' 'Aug-1994' 'Dec-2008' 'May-2002'\n",
      " 'Aug-1995' 'Aug-2004' 'Apr-1999' 'Mar-1983' 'Mar-1999' 'Jul-1997'\n",
      " 'Oct-1999' 'Jun-1990' 'Nov-1995' 'May-2000' 'Jun-2003' 'Feb-1989'\n",
      " 'May-1996' 'Oct-1984' 'Feb-2004' 'Jun-1983' 'May-2004' 'Jan-2007'\n",
      " 'Sep-2001' 'Jun-1988' 'Oct-2011' 'Jul-2004' 'Dec-1997' 'Mar-2011'\n",
      " 'Mar-2001' 'Jun-2006' 'Feb-2013' 'Nov-1986' 'Oct-2007' 'Mar-2005'\n",
      " 'Jul-2012' 'Dec-1998' 'May-1999' 'Dec-2001' 'Apr-2002' 'Aug-2005'\n",
      " 'Oct-1996' 'Apr-2006' 'Jun-1971' 'May-2007' 'Jun-1996' 'Nov-2005'\n",
      " 'Sep-1998' 'Mar-1994' 'Sep-1969' 'May-2011' 'Aug-2000' 'Feb-2011'\n",
      " 'Nov-1991' 'Dec-2000' 'Jan-1991' 'Sep-2005' 'Sep-2006' 'Jan-2004'\n",
      " 'May-1995' 'Nov-1998' 'Apr-1997' 'May-2013' 'Dec-1999' 'Oct-2013'\n",
      " 'Apr-1989' 'Nov-2006' 'Aug-2007' 'Mar-2003' 'Jul-2000' 'May-1982'\n",
      " 'Nov-1993' 'May-1988' 'Sep-1991' 'May-1976' 'Mar-1992' 'Jan-2012'\n",
      " 'Sep-2003' 'Jul-2005' 'Aug-1993' 'Jan-2005' 'Apr-2005' 'May-2006'\n",
      " 'Mar-1990' 'Apr-1994' 'Mar-1989' 'Nov-2007' 'Nov-2008' 'Jan-2003'\n",
      " 'Jan-2000' 'Feb-2005' 'Sep-2000' 'Jul-2002' 'May-1978' 'Nov-2003'\n",
      " 'Apr-2000' 'Mar-2000' 'Sep-1995' 'Dec-1985' 'Oct-1995' 'Jul-1992'\n",
      " 'Sep-2009' 'Aug-2010' 'Sep-1994' 'Oct-1982' 'Sep-1992' 'Mar-1995'\n",
      " 'May-1986' 'Aug-1992' 'Oct-2004' 'Oct-2005' 'Nov-1987' 'Nov-2002'\n",
      " 'May-1993' 'Aug-2002' 'Dec-1988' 'Apr-2001' 'May-1969' 'Jan-2008'\n",
      " 'Dec-2003' 'Sep-1999' 'Feb-2001' 'Mar-2008' 'Apr-1991' 'Nov-1989'\n",
      " 'Aug-2003' 'Apr-1993' 'May-2009' 'Feb-2003' 'Oct-2006' 'Jul-2003'\n",
      " 'Jun-2011' 'Apr-2003' 'Oct-1997' 'Jan-1983' 'May-1985' 'Sep-1996'\n",
      " 'Jan-1989' 'Nov-2004' 'Jun-2009' 'Aug-1999' 'Dec-1990' 'Apr-1996'\n",
      " 'Mar-1998' 'Dec-2002' 'Sep-1997' 'Jul-1999' 'Jul-1996' 'Feb-2002'\n",
      " 'Feb-2008' 'Mar-2002' 'Dec-1975' 'Mar-1980' 'Mar-1997' 'Sep-2010'\n",
      " 'Feb-2006' 'Feb-2000' 'Feb-1993' 'Aug-1997' 'Jun-1985' 'Jul-2006'\n",
      " 'Dec-1994' 'Mar-2012' 'Mar-2013' 'Dec-2012' 'Nov-2012' 'Jun-2012'\n",
      " 'Nov-1985' 'Nov-1984' 'Sep-2007' 'Mar-2006' 'May-1983' 'Apr-1988'\n",
      " 'Dec-1983' 'Jun-1986' 'Jan-1992' 'Sep-1980' 'Jul-1989' 'Apr-2014'\n",
      " 'Nov-2009' 'Dec-1992' 'Aug-1998' 'Mar-2007' 'Mar-1991' 'Apr-2008'\n",
      " 'Mar-1978' 'Oct-2000' 'Mar-1985' 'Jan-1986' 'Oct-2008' 'Mar-2009'\n",
      " 'May-2003' 'May-2010' 'Sep-2011' 'Oct-2010' 'Jul-1990' 'Oct-2002'\n",
      " 'Aug-1996' 'Aug-2009' 'Feb-1988' 'Jan-2001' 'May-1994' 'Dec-2013'\n",
      " 'Mar-1988' 'Jul-2001' 'Sep-2012' 'Aug-2012' 'Jun-1995' 'Jul-2007'\n",
      " 'Oct-1998' 'Apr-2007' 'Nov-2001' 'Nov-1978' 'Aug-2001' 'Feb-1995'\n",
      " 'May-1998' 'Apr-2009' 'Aug-1991' 'May-2012' 'Jun-1998' 'Oct-2009'\n",
      " 'Feb-1992' 'Oct-1992' 'Aug-1976' 'Aug-1988' 'Nov-1981' 'Aug-1987'\n",
      " 'Dec-2009' 'Jul-2009' 'Dec-1993' 'Nov-1996' 'Dec-1987' 'Jan-1999'\n",
      " 'Sep-1985' 'Jan-1997' 'Jan-1993' 'Jun-2005' 'May-1997' 'Apr-1992'\n",
      " 'Apr-1983' 'Oct-1991' 'Mar-1993' 'Aug-2006' 'Jun-1991' 'Jul-1993'\n",
      " 'Oct-2012' 'Oct-1985' 'Jun-2008' 'Apr-1986' 'Jan-2011' 'Feb-2007'\n",
      " 'Sep-1978' 'Sep-2013' 'Jun-1992' 'Aug-1985' 'Nov-1994' 'May-2005'\n",
      " 'Nov-1997' 'Jun-1993' 'Aug-1979' 'Jan-2009' 'Jan-1996' 'Jun-1989'\n",
      " 'Nov-1990' 'Jul-1987' 'Aug-2011' 'Jun-2000' 'Jul-1982' 'Dec-2006'\n",
      " 'Jun-2001' 'Jun-1975' 'Jun-2002' 'Dec-2007' 'Feb-1997' 'Sep-1972'\n",
      " 'Apr-1985' 'Apr-1995' 'Apr-1973' 'Oct-2003' 'Aug-1981' 'Sep-1988'\n",
      " 'Sep-2008' 'Feb-1991' 'Aug-1983' 'Aug-1990' 'Jun-1994' 'Aug-2008'\n",
      " 'Feb-2012' 'Jul-2008' 'Sep-1983' 'May-1979' 'Oct-1988' 'Apr-1981'\n",
      " 'Dec-1989' 'Aug-1974' 'May-2001' 'Feb-1996' 'Oct-1983' 'Feb-1990'\n",
      " 'Dec-1991' 'Apr-1990' 'Oct-1993' 'Aug-1986' 'Dec-2011' 'Mar-1979'\n",
      " 'Jan-1987' 'Apr-2010' 'Dec-1986' 'Jan-1995' 'May-1989' 'Oct-1994'\n",
      " 'Nov-1992' 'Oct-1987' 'Feb-2010' 'Jan-1982' 'Feb-1998' 'May-1990'\n",
      " 'Feb-1982' 'Jul-1991' 'Sep-1974' 'Jul-2013' 'Apr-1998' 'Aug-1967'\n",
      " 'Sep-1981' 'Apr-2013' 'Apr-1980' 'Sep-1989' 'Mar-1984' 'Jun-1999'\n",
      " 'Sep-1982' 'Oct-1989' 'Dec-1996' 'Jun-2014' 'Feb-2009' 'Feb-2014'\n",
      " 'Jan-1976' 'Jan-1977' 'Jan-2013' 'Oct-1990' 'Apr-1987' 'Aug-2013'\n",
      " 'Feb-1986' 'Dec-1984' 'Mar-1976' 'Sep-1975' 'Jun-1997' 'Jul-1995'\n",
      " 'Dec-1982' 'Mar-1974' 'Jan-2010' 'Nov-2010' 'Jun-2013' 'Mar-2010'\n",
      " 'Jan-1990' 'Feb-1970' 'Nov-1983' 'Apr-2011' 'Nov-1975' 'Nov-2013'\n",
      " 'Jun-1974' 'Nov-1980' 'May-2008' 'Aug-1989' 'Apr-1979' 'Mar-1981'\n",
      " 'Jul-2011' 'Feb-1983' 'Feb-1987' 'Dec-1965' 'Feb-1968' 'Oct-1980'\n",
      " 'Nov-1988' 'May-1987' 'Nov-2011' 'Sep-1993' 'Jan-1984' 'Jul-1986'\n",
      " 'Jul-1988' 'Apr-1982' 'May-1980' 'Dec-1969' 'Sep-1987' 'Feb-1985'\n",
      " 'Jan-1981' 'Dec-1979' 'Jul-1985' 'Apr-1984' 'May-1977' 'Jul-1977'\n",
      " 'Sep-1990' 'Jun-1981' 'Feb-1994' 'Feb-1984' 'Feb-1978' 'Oct-1976'\n",
      " 'Jan-1979' 'Jul-1981' 'Feb-1980' 'Nov-1982' 'Jun-1984' 'Aug-1972'\n",
      " 'Mar-1972' 'Feb-1979' 'Jul-1984' 'Feb-1977' 'Apr-2012' 'Mar-1987'\n",
      " 'Oct-1977' 'May-1991' 'Nov-1979' 'Jan-1988' 'Mar-1968' 'May-1984'\n",
      " 'May-1973' 'Jun-1987' 'May-1992' 'Jun-1972' 'Jul-1979' 'Jan-2014'\n",
      " 'Dec-1973' 'Nov-1969' 'Mar-1982' 'Sep-1977' 'Nov-1974' 'Jan-1972'\n",
      " 'Apr-1978' 'Dec-1974' 'Aug-1978' 'Mar-1986' 'Aug-1980' 'Dec-1980'\n",
      " 'Feb-1975' 'May-1970' 'Apr-1972' 'Sep-1973' 'Jul-2010' 'Jan-1975'\n",
      " 'Jun-1979' 'Sep-1979' 'Feb-1971' 'May-1974' 'Aug-1971' 'Jun-1982'\n",
      " 'Jul-1973' 'Aug-1984' 'Aug-1975' 'Apr-1970' 'Mar-1977' 'Apr-1975'\n",
      " 'Oct-1973' 'Jul-1980' 'Jan-1967' 'Sep-1984' 'Mar-1975' 'Mar-1973'\n",
      " 'Sep-1976' 'Jun-1978' 'May-1967' 'Oct-1981' 'Oct-1978' 'Aug-1965'\n",
      " 'Dec-1971' 'Jan-1985' 'Jan-1980' 'Dec-1981' 'Aug-1982' 'Jun-1973'\n",
      " 'Nov-1977' 'Nov-1976' 'Jul-2014' 'May-1981' 'Jan-1978' 'May-1975'\n",
      " 'Nov-1972' 'Oct-1975' 'Dec-1977' 'Mar-1969' 'May-2014' 'May-1968'\n",
      " 'Jul-1976' 'Dec-1978' 'Jul-1978' 'Sep-1970' 'Jul-1983' 'Nov-1970'\n",
      " 'Feb-1973' 'Apr-1969' 'Jan-1957' 'Jun-1969' 'Jan-1970' 'Oct-1979'\n",
      " 'Feb-1981' 'Mar-2014' 'Jun-1980' 'Aug-1977' 'Dec-1967' 'Jul-1974'\n",
      " 'Apr-1971' 'Jul-1969' 'Nov-1973' 'Jun-1976' 'Sep-1963' 'Oct-1972'\n",
      " 'Sep-1965' 'Jun-1970' 'Apr-1964' 'Mar-1954' 'Aug-1968' 'Dec-1970'\n",
      " 'Apr-1976' 'May-1966' 'Nov-1971' 'Oct-1963' 'Jan-1973' 'May-1965'\n",
      " 'Jan-1966' 'Aug-1973' 'Jan-1969' 'Apr-1977' 'Jun-1977' 'Jan-1974'\n",
      " 'Jan-1965' 'Jan-1968' 'Feb-1972' 'Jan-1962' 'Feb-1969' 'Mar-1971'\n",
      " 'Aug-1970' 'Jul-1971' 'Apr-1965' 'Jun-1968' 'Jul-1972' 'Mar-1970'\n",
      " 'Aug-1969' 'Jan-1959' 'Dec-1962' 'Jun-1959' 'Oct-1971' 'Feb-1974'\n",
      " 'Jul-1975' 'Dec-1972' 'Feb-1966' 'Jan-1961' 'Oct-1968' 'May-1972'\n",
      " 'Oct-1974' 'Jan-1960' 'Nov-1967' 'Jun-1964' 'Aug-2014' 'Jun-1967'\n",
      " 'Sep-1967' 'Jan-1956' 'Apr-1974' 'Apr-1967' 'Sep-1968' 'Mar-1965'\n",
      " 'May-1961' 'Aug-1966' 'Dec-1964' 'Mar-1963' 'Nov-1960' 'Feb-1976'\n",
      " 'Dec-1968' 'Oct-1967' 'Apr-1966' 'Nov-1966' 'Jan-1950' 'Oct-1969'\n",
      " 'Apr-1968' 'Aug-1964' 'Apr-1961' 'Feb-1967' 'Nov-1968' 'Jun-1966'\n",
      " 'Dec-1960' 'Jan-1971' 'Jul-1965' 'Aug-1953' 'Jun-1965' 'Mar-1964'\n",
      " 'Apr-1963' 'Jul-1964' 'Apr-1955' 'Sep-1962' 'Dec-1959' 'Jul-1970'\n",
      " 'Feb-1962' 'Nov-1961' 'Jan-1963' 'Feb-1964' 'Mar-1961' 'Jul-1963'\n",
      " 'Sep-1971' 'Aug-1963' 'May-1962' 'Oct-1966' 'Mar-1966' 'Jul-1952'\n",
      " 'Sep-1951' 'May-1971' 'Oct-1961' 'Jun-1963' 'Jul-1968' 'Jul-1962'\n",
      " 'Feb-1963' 'May-1963' 'Sep-1964' 'Aug-1960' 'Oct-1964' 'Nov-1964'\n",
      " 'Jul-1967' 'Dec-1966' 'Apr-1934' 'Nov-1965' 'Jun-1962' 'Jan-1948'\n",
      " 'Jan-1951' 'Jun-1952' 'Mar-1967' 'Jul-1959']\n",
      "\n",
      "initial_list_status\n",
      "['w' 'f']\n",
      "\n",
      "last_pymnt_d\n",
      "['May-2017' 'Dec-2017' 'Nov-2017' 'Jul-2017' 'Aug-2017' 'Oct-2017'\n",
      " 'Feb-2016' 'Mar-2017' 'Nov-2016' 'Sep-2017' 'Jan-2017' 'Apr-2017'\n",
      " 'Dec-2016' 'Jul-2016' 'Oct-2016' nan 'Jun-2017' 'Feb-2017' 'Jun-2016'\n",
      " 'Apr-2016' 'Sep-2016' 'Aug-2016' 'Mar-2016' 'Jan-2016' 'May-2016']\n",
      "\n",
      "next_pymnt_d\n",
      "[nan 'Jan-2018' 'Dec-2017' 'Feb-2018']\n",
      "\n",
      "last_credit_pull_d\n",
      "['Dec-2017' 'May-2017' 'Aug-2017' 'Jun-2017' 'Oct-2017' 'Feb-2016'\n",
      " 'Nov-2017' 'Jul-2017' 'Sep-2017' 'Feb-2017' 'Oct-2016' 'Nov-2016'\n",
      " 'Apr-2017' 'Jan-2017' 'Dec-2016' 'Mar-2017' 'Jul-2016' 'May-2016'\n",
      " 'Jan-2016' 'Aug-2016' 'Apr-2016' 'Jun-2016' 'Mar-2016' 'Sep-2016'\n",
      " 'Dec-2015' nan]\n",
      "\n",
      "application_type\n",
      "['Individual' 'Joint App']\n",
      "\n"
     ]
    }
   ],
   "source": [
    "for col in X_test.select_dtypes(include= ['object', 'bool']).columns:\n",
    "  print(col)\n",
    "  print(X_test[col].unique())\n",
    "  print()"
   ]
  },
  {
   "cell_type": "code",
   "execution_count": 58,
   "metadata": {},
   "outputs": [],
   "source": [
    "X_test['term'] = pd.to_numeric(X_test['term'].str.replace('months', ''))"
   ]
  },
  {
   "cell_type": "code",
   "execution_count": 59,
   "metadata": {},
   "outputs": [],
   "source": [
    "X_test['emp_length'] = X_test['emp_length'].str.replace('+ years', '')\n",
    "X_test['emp_length'] = X_test['emp_length'].str.replace(' years', '')\n",
    "X_test['emp_length'] = X_test['emp_length'].str.replace('< 1 year', str(0))\n",
    "X_test['emp_length'] = X_test['emp_length'].str.replace(' year', '')\n",
    "\n",
    "X_test['emp_length'] = X_test['emp_length'].fillna(0)\n",
    "\n",
    "X_test['emp_length'] = pd.to_numeric(X_test['emp_length'])"
   ]
  },
  {
   "cell_type": "code",
   "execution_count": 60,
   "metadata": {},
   "outputs": [
    {
     "name": "stderr",
     "output_type": "stream",
     "text": [
      "C:\\Users\\USER\\AppData\\Local\\Temp\\ipykernel_11304\\2991849270.py:2: UserWarning: Could not infer format, so each element will be parsed individually, falling back to `dateutil`. To ensure parsing is consistent and as-expected, please specify a format.\n",
      "  X_test[col] = pd.to_datetime(X_test[col])\n",
      "C:\\Users\\USER\\AppData\\Local\\Temp\\ipykernel_11304\\2991849270.py:2: UserWarning: Could not infer format, so each element will be parsed individually, falling back to `dateutil`. To ensure parsing is consistent and as-expected, please specify a format.\n",
      "  X_test[col] = pd.to_datetime(X_test[col])\n",
      "C:\\Users\\USER\\AppData\\Local\\Temp\\ipykernel_11304\\2991849270.py:2: UserWarning: Could not infer format, so each element will be parsed individually, falling back to `dateutil`. To ensure parsing is consistent and as-expected, please specify a format.\n",
      "  X_test[col] = pd.to_datetime(X_test[col])\n",
      "C:\\Users\\USER\\AppData\\Local\\Temp\\ipykernel_11304\\2991849270.py:2: UserWarning: Could not infer format, so each element will be parsed individually, falling back to `dateutil`. To ensure parsing is consistent and as-expected, please specify a format.\n",
      "  X_test[col] = pd.to_datetime(X_test[col])\n",
      "C:\\Users\\USER\\AppData\\Local\\Temp\\ipykernel_11304\\2991849270.py:2: UserWarning: Could not infer format, so each element will be parsed individually, falling back to `dateutil`. To ensure parsing is consistent and as-expected, please specify a format.\n",
      "  X_test[col] = pd.to_datetime(X_test[col])\n"
     ]
    }
   ],
   "source": [
    "for col in col_date:\n",
    "    X_test[col] = pd.to_datetime(X_test[col])"
   ]
  },
  {
   "cell_type": "code",
   "execution_count": 61,
   "metadata": {},
   "outputs": [
    {
     "name": "stdout",
     "output_type": "stream",
     "text": [
      "<class 'pandas.core.frame.DataFrame'>\n",
      "Index: 151868 entries, 280647 to 267584\n",
      "Data columns (total 7 columns):\n",
      " #   Column              Non-Null Count   Dtype         \n",
      "---  ------              --------------   -----         \n",
      " 0   term                151868 non-null  int64         \n",
      " 1   emp_length          151868 non-null  int64         \n",
      " 2   issue_d             151868 non-null  datetime64[ns]\n",
      " 3   earliest_cr_line    151868 non-null  datetime64[ns]\n",
      " 4   last_pymnt_d        151655 non-null  datetime64[ns]\n",
      " 5   next_pymnt_d        118276 non-null  datetime64[ns]\n",
      " 6   last_credit_pull_d  151867 non-null  datetime64[ns]\n",
      "dtypes: datetime64[ns](5), int64(2)\n",
      "memory usage: 9.3 MB\n"
     ]
    }
   ],
   "source": [
    "X_test[col_need_to_clean].info()"
   ]
  },
  {
   "cell_type": "markdown",
   "metadata": {},
   "source": [
    "### 6 Feature Engineering"
   ]
  },
  {
   "cell_type": "code",
   "execution_count": 62,
   "metadata": {},
   "outputs": [
    {
     "data": {
      "text/plain": [
       "((607470, 65), (607470, 1), (151868, 65), (151868, 1))"
      ]
     },
     "execution_count": 62,
     "metadata": {},
     "output_type": "execute_result"
    }
   ],
   "source": [
    "X_train.shape, y_train.shape, X_test.shape, y_test.shape"
   ]
  },
  {
   "cell_type": "code",
   "execution_count": 63,
   "metadata": {},
   "outputs": [
    {
     "data": {
      "text/plain": [
       "['term',\n",
       " 'emp_length',\n",
       " 'issue_d',\n",
       " 'earliest_cr_line',\n",
       " 'last_pymnt_d',\n",
       " 'next_pymnt_d',\n",
       " 'last_credit_pull_d']"
      ]
     },
     "execution_count": 63,
     "metadata": {},
     "output_type": "execute_result"
    }
   ],
   "source": [
    "col_need_to_clean"
   ]
  },
  {
   "cell_type": "code",
   "execution_count": 64,
   "metadata": {},
   "outputs": [],
   "source": [
    "X_train = X_train[col_need_to_clean]\n",
    "X_test = X_test[col_need_to_clean]"
   ]
  },
  {
   "cell_type": "code",
   "execution_count": 65,
   "metadata": {},
   "outputs": [],
   "source": [
    "del X_train['next_pymnt_d']\n",
    "del X_test['next_pymnt_d']"
   ]
  },
  {
   "cell_type": "code",
   "execution_count": 66,
   "metadata": {},
   "outputs": [
    {
     "data": {
      "text/plain": [
       "((607470, 6), (151868, 6))"
      ]
     },
     "execution_count": 66,
     "metadata": {},
     "output_type": "execute_result"
    }
   ],
   "source": [
    "X_train.shape, X_test.shape"
   ]
  },
  {
   "cell_type": "code",
   "execution_count": 67,
   "metadata": {},
   "outputs": [
    {
     "data": {
      "text/plain": [
       "'2024-06-13'"
      ]
     },
     "execution_count": 67,
     "metadata": {},
     "output_type": "execute_result"
    }
   ],
   "source": [
    "from datetime import date\n",
    "date.today().strftime('%Y-%m-%d')"
   ]
  },
  {
   "cell_type": "code",
   "execution_count": 68,
   "metadata": {},
   "outputs": [],
   "source": [
    "from dateutil.relativedelta import relativedelta"
   ]
  },
  {
   "cell_type": "code",
   "execution_count": 69,
   "metadata": {},
   "outputs": [
    {
     "data": {
      "text/plain": [
       "147577   1994-08-01\n",
       "505776   2001-09-01\n",
       "412425   1999-05-01\n",
       "618730   2005-06-01\n",
       "111143   2012-01-01\n",
       "            ...    \n",
       "150426   1998-11-01\n",
       "195135   1993-09-01\n",
       "182511   1988-03-01\n",
       "82596    2003-01-01\n",
       "165904   2000-11-01\n",
       "Name: earliest_cr_line, Length: 607470, dtype: datetime64[ns]"
      ]
     },
     "execution_count": 69,
     "metadata": {},
     "output_type": "execute_result"
    }
   ],
   "source": [
    "X_train['earliest_cr_line']"
   ]
  },
  {
   "cell_type": "code",
   "execution_count": 70,
   "metadata": {},
   "outputs": [
    {
     "name": "stdout",
     "output_type": "stream",
     "text": [
      "735\n",
      "Nilai awal kolom earliest_cr_line:\n",
      "147577   1994-08-01\n",
      "505776   2001-09-01\n",
      "412425   1999-05-01\n",
      "618730   2005-06-01\n",
      "111143   2012-01-01\n",
      "Name: earliest_cr_line, dtype: datetime64[ns]\n",
      "Nilai awal kolom issue_d:\n",
      "147577   2017-02-01\n",
      "505776   2016-04-01\n",
      "412425   2017-07-01\n",
      "618730   2016-10-01\n",
      "111143   2017-03-01\n",
      "Name: issue_d, dtype: datetime64[ns]\n",
      "Nilai awal kolom last_pymnt_d:\n",
      "147577   2017-12-01\n",
      "505776   2017-07-01\n",
      "412425   2017-12-01\n",
      "618730   2017-12-01\n",
      "111143   2017-12-01\n",
      "Name: last_pymnt_d, dtype: datetime64[ns]\n",
      "Nilai awal kolom last_credit_pull_d:\n",
      "147577   2017-12-01\n",
      "505776   2017-11-01\n",
      "412425   2017-12-01\n",
      "618730   2017-12-01\n",
      "111143   2017-12-01\n",
      "Name: last_credit_pull_d, dtype: datetime64[ns]\n"
     ]
    }
   ],
   "source": [
    "def date_columns(df, column):\n",
    "    today_date = pd.to_datetime(date.today().strftime('%Y-%m-%d'))\n",
    "    df[column] = pd.to_datetime(df[column], format='%b-%y')\n",
    "\n",
    "    print(f\"Nilai awal kolom {column}:\")\n",
    "    print(df[column].head())\n",
    "\n",
    "    try:\n",
    "        df[column] = pd.to_datetime(df[column], format='%b-%y')\n",
    "    except Exception as e:\n",
    "        print(f\"Error converting column {column}: {e}\")\n",
    "        print(df[column].head())\n",
    "        return\n",
    "    \n",
    "    def calculate_months_since(date):\n",
    "        if pd.isnull(date):\n",
    "            return None\n",
    "        delta = relativedelta(today_date, date)\n",
    "        return delta.years * 12 + delta.months\n",
    "\n",
    "    try:\n",
    "        df['mths_since_' + column] = df[column].apply(calculate_months_since)\n",
    "    except Exception as e:\n",
    "        print(f\"Error applying calculate_months_since on column {column}: {e}\")\n",
    "        print(df[column].head())\n",
    "        return\n",
    "\n",
    "    df.drop(columns=[column], inplace=True)\n",
    "\n",
    "# Contoh penggunaan dengan DataFrame X_train\n",
    "print(X_train['last_pymnt_d'].isnull().sum())  # Periksa nilai null\n",
    "# apply to X_train\n",
    "date_columns(X_train, 'earliest_cr_line')\n",
    "date_columns(X_train, 'issue_d')\n",
    "date_columns(X_train, 'last_pymnt_d')\n",
    "date_columns(X_train, 'last_credit_pull_d')\n"
   ]
  },
  {
   "cell_type": "code",
   "execution_count": 71,
   "metadata": {},
   "outputs": [
    {
     "data": {
      "text/plain": [
       "Timedelta('2630 days 00:00:00')"
      ]
     },
     "execution_count": 71,
     "metadata": {},
     "output_type": "execute_result"
    }
   ],
   "source": [
    "pd.to_datetime(date.today().strftime('%Y-%m-%d')) - pd.to_datetime('2017-04-01')"
   ]
  },
  {
   "cell_type": "code",
   "execution_count": 72,
   "metadata": {},
   "outputs": [
    {
     "data": {
      "text/html": [
       "<div>\n",
       "<style scoped>\n",
       "    .dataframe tbody tr th:only-of-type {\n",
       "        vertical-align: middle;\n",
       "    }\n",
       "\n",
       "    .dataframe tbody tr th {\n",
       "        vertical-align: top;\n",
       "    }\n",
       "\n",
       "    .dataframe thead th {\n",
       "        text-align: right;\n",
       "    }\n",
       "</style>\n",
       "<table border=\"1\" class=\"dataframe\">\n",
       "  <thead>\n",
       "    <tr style=\"text-align: right;\">\n",
       "      <th></th>\n",
       "      <th>term</th>\n",
       "      <th>emp_length</th>\n",
       "      <th>mths_since_earliest_cr_line</th>\n",
       "      <th>mths_since_issue_d</th>\n",
       "      <th>mths_since_last_pymnt_d</th>\n",
       "      <th>mths_since_last_credit_pull_d</th>\n",
       "    </tr>\n",
       "  </thead>\n",
       "  <tbody>\n",
       "    <tr>\n",
       "      <th>147577</th>\n",
       "      <td>36</td>\n",
       "      <td>4</td>\n",
       "      <td>358</td>\n",
       "      <td>88</td>\n",
       "      <td>78.0</td>\n",
       "      <td>78.0</td>\n",
       "    </tr>\n",
       "    <tr>\n",
       "      <th>505776</th>\n",
       "      <td>36</td>\n",
       "      <td>10</td>\n",
       "      <td>273</td>\n",
       "      <td>98</td>\n",
       "      <td>83.0</td>\n",
       "      <td>79.0</td>\n",
       "    </tr>\n",
       "    <tr>\n",
       "      <th>412425</th>\n",
       "      <td>36</td>\n",
       "      <td>0</td>\n",
       "      <td>301</td>\n",
       "      <td>83</td>\n",
       "      <td>78.0</td>\n",
       "      <td>78.0</td>\n",
       "    </tr>\n",
       "    <tr>\n",
       "      <th>618730</th>\n",
       "      <td>36</td>\n",
       "      <td>5</td>\n",
       "      <td>228</td>\n",
       "      <td>92</td>\n",
       "      <td>78.0</td>\n",
       "      <td>78.0</td>\n",
       "    </tr>\n",
       "    <tr>\n",
       "      <th>111143</th>\n",
       "      <td>36</td>\n",
       "      <td>6</td>\n",
       "      <td>149</td>\n",
       "      <td>87</td>\n",
       "      <td>78.0</td>\n",
       "      <td>78.0</td>\n",
       "    </tr>\n",
       "    <tr>\n",
       "      <th>...</th>\n",
       "      <td>...</td>\n",
       "      <td>...</td>\n",
       "      <td>...</td>\n",
       "      <td>...</td>\n",
       "      <td>...</td>\n",
       "      <td>...</td>\n",
       "    </tr>\n",
       "    <tr>\n",
       "      <th>150426</th>\n",
       "      <td>36</td>\n",
       "      <td>8</td>\n",
       "      <td>307</td>\n",
       "      <td>88</td>\n",
       "      <td>79.0</td>\n",
       "      <td>78.0</td>\n",
       "    </tr>\n",
       "    <tr>\n",
       "      <th>195135</th>\n",
       "      <td>36</td>\n",
       "      <td>0</td>\n",
       "      <td>369</td>\n",
       "      <td>89</td>\n",
       "      <td>78.0</td>\n",
       "      <td>78.0</td>\n",
       "    </tr>\n",
       "    <tr>\n",
       "      <th>182511</th>\n",
       "      <td>36</td>\n",
       "      <td>10</td>\n",
       "      <td>435</td>\n",
       "      <td>89</td>\n",
       "      <td>78.0</td>\n",
       "      <td>78.0</td>\n",
       "    </tr>\n",
       "    <tr>\n",
       "      <th>82596</th>\n",
       "      <td>36</td>\n",
       "      <td>3</td>\n",
       "      <td>257</td>\n",
       "      <td>86</td>\n",
       "      <td>78.0</td>\n",
       "      <td>78.0</td>\n",
       "    </tr>\n",
       "    <tr>\n",
       "      <th>165904</th>\n",
       "      <td>36</td>\n",
       "      <td>1</td>\n",
       "      <td>283</td>\n",
       "      <td>88</td>\n",
       "      <td>78.0</td>\n",
       "      <td>78.0</td>\n",
       "    </tr>\n",
       "  </tbody>\n",
       "</table>\n",
       "<p>607470 rows × 6 columns</p>\n",
       "</div>"
      ],
      "text/plain": [
       "        term  emp_length  mths_since_earliest_cr_line  mths_since_issue_d  \\\n",
       "147577    36           4                          358                  88   \n",
       "505776    36          10                          273                  98   \n",
       "412425    36           0                          301                  83   \n",
       "618730    36           5                          228                  92   \n",
       "111143    36           6                          149                  87   \n",
       "...      ...         ...                          ...                 ...   \n",
       "150426    36           8                          307                  88   \n",
       "195135    36           0                          369                  89   \n",
       "182511    36          10                          435                  89   \n",
       "82596     36           3                          257                  86   \n",
       "165904    36           1                          283                  88   \n",
       "\n",
       "        mths_since_last_pymnt_d  mths_since_last_credit_pull_d  \n",
       "147577                     78.0                           78.0  \n",
       "505776                     83.0                           79.0  \n",
       "412425                     78.0                           78.0  \n",
       "618730                     78.0                           78.0  \n",
       "111143                     78.0                           78.0  \n",
       "...                         ...                            ...  \n",
       "150426                     79.0                           78.0  \n",
       "195135                     78.0                           78.0  \n",
       "182511                     78.0                           78.0  \n",
       "82596                      78.0                           78.0  \n",
       "165904                     78.0                           78.0  \n",
       "\n",
       "[607470 rows x 6 columns]"
      ]
     },
     "execution_count": 72,
     "metadata": {},
     "output_type": "execute_result"
    }
   ],
   "source": [
    "X_train"
   ]
  }
 ],
 "metadata": {
  "kernelspec": {
   "display_name": "Python 3",
   "language": "python",
   "name": "python3"
  },
  "language_info": {
   "codemirror_mode": {
    "name": "ipython",
    "version": 3
   },
   "file_extension": ".py",
   "mimetype": "text/x-python",
   "name": "python",
   "nbconvert_exporter": "python",
   "pygments_lexer": "ipython3",
   "version": "3.10.10"
  }
 },
 "nbformat": 4,
 "nbformat_minor": 2
}
