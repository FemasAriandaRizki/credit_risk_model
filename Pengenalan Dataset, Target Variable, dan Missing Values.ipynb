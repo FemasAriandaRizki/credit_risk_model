{
 "cells": [
  {
   "cell_type": "markdown",
   "metadata": {},
   "source": [
    "## Credit Risk Model"
   ]
  },
  {
   "cell_type": "markdown",
   "metadata": {},
   "source": [
    "### Dataset, Target Variable, and Missing Value"
   ]
  },
  {
   "cell_type": "code",
   "execution_count": 1,
   "metadata": {},
   "outputs": [],
   "source": [
    "import numpy as np\n",
    "import pandas as pd\n",
    "\n",
    "import os"
   ]
  },
  {
   "cell_type": "code",
   "execution_count": 2,
   "metadata": {},
   "outputs": [
    {
     "data": {
      "text/plain": [
       "['.git',\n",
       " 'lc_2016_2017.csv',\n",
       " 'lc_loan.csv',\n",
       " 'new.html',\n",
       " 'Pengenalan Dataset, Target Variable, dan Missing Values.ipynb',\n",
       " 'us-state-codes.csv']"
      ]
     },
     "execution_count": 2,
     "metadata": {},
     "output_type": "execute_result"
    }
   ],
   "source": [
    "os.listdir()"
   ]
  },
  {
   "cell_type": "code",
   "execution_count": 3,
   "metadata": {},
   "outputs": [
    {
     "name": "stderr",
     "output_type": "stream",
     "text": [
      "C:\\Users\\USER\\AppData\\Local\\Temp\\ipykernel_13824\\4234444771.py:1: DtypeWarning: Columns (18,54) have mixed types. Specify dtype option on import or set low_memory=False.\n",
      "  loan_data = pd.read_csv('lc_2016_2017.csv')\n"
     ]
    }
   ],
   "source": [
    "loan_data = pd.read_csv('lc_2016_2017.csv')"
   ]
  },
  {
   "cell_type": "code",
   "execution_count": 4,
   "metadata": {},
   "outputs": [
    {
     "data": {
      "text/html": [
       "<div>\n",
       "<style scoped>\n",
       "    .dataframe tbody tr th:only-of-type {\n",
       "        vertical-align: middle;\n",
       "    }\n",
       "\n",
       "    .dataframe tbody tr th {\n",
       "        vertical-align: top;\n",
       "    }\n",
       "\n",
       "    .dataframe thead th {\n",
       "        text-align: right;\n",
       "    }\n",
       "</style>\n",
       "<table border=\"1\" class=\"dataframe\">\n",
       "  <thead>\n",
       "    <tr style=\"text-align: right;\">\n",
       "      <th></th>\n",
       "      <th>id</th>\n",
       "      <th>member_id</th>\n",
       "      <th>loan_amnt</th>\n",
       "      <th>funded_amnt</th>\n",
       "      <th>funded_amnt_inv</th>\n",
       "      <th>term</th>\n",
       "      <th>int_rate</th>\n",
       "      <th>installment</th>\n",
       "      <th>grade</th>\n",
       "      <th>sub_grade</th>\n",
       "      <th>...</th>\n",
       "      <th>total_bal_il</th>\n",
       "      <th>il_util</th>\n",
       "      <th>open_rv_12m</th>\n",
       "      <th>open_rv_24m</th>\n",
       "      <th>max_bal_bc</th>\n",
       "      <th>all_util</th>\n",
       "      <th>total_rev_hi_lim</th>\n",
       "      <th>inq_fi</th>\n",
       "      <th>total_cu_tl</th>\n",
       "      <th>inq_last_12m</th>\n",
       "    </tr>\n",
       "  </thead>\n",
       "  <tbody>\n",
       "    <tr>\n",
       "      <th>0</th>\n",
       "      <td>112435993</td>\n",
       "      <td>NaN</td>\n",
       "      <td>2300</td>\n",
       "      <td>2300</td>\n",
       "      <td>2300.0</td>\n",
       "      <td>36 months</td>\n",
       "      <td>12.62</td>\n",
       "      <td>77.08</td>\n",
       "      <td>C</td>\n",
       "      <td>C1</td>\n",
       "      <td>...</td>\n",
       "      <td>0.0</td>\n",
       "      <td>NaN</td>\n",
       "      <td>1.0</td>\n",
       "      <td>2.0</td>\n",
       "      <td>2315.0</td>\n",
       "      <td>55.0</td>\n",
       "      <td>7100.0</td>\n",
       "      <td>1.0</td>\n",
       "      <td>0.0</td>\n",
       "      <td>2.0</td>\n",
       "    </tr>\n",
       "    <tr>\n",
       "      <th>1</th>\n",
       "      <td>112290210</td>\n",
       "      <td>NaN</td>\n",
       "      <td>16000</td>\n",
       "      <td>16000</td>\n",
       "      <td>16000.0</td>\n",
       "      <td>60 months</td>\n",
       "      <td>12.62</td>\n",
       "      <td>360.95</td>\n",
       "      <td>C</td>\n",
       "      <td>C1</td>\n",
       "      <td>...</td>\n",
       "      <td>11078.0</td>\n",
       "      <td>69.0</td>\n",
       "      <td>3.0</td>\n",
       "      <td>5.0</td>\n",
       "      <td>1962.0</td>\n",
       "      <td>94.0</td>\n",
       "      <td>31900.0</td>\n",
       "      <td>0.0</td>\n",
       "      <td>6.0</td>\n",
       "      <td>1.0</td>\n",
       "    </tr>\n",
       "    <tr>\n",
       "      <th>2</th>\n",
       "      <td>112436985</td>\n",
       "      <td>NaN</td>\n",
       "      <td>6025</td>\n",
       "      <td>6025</td>\n",
       "      <td>6025.0</td>\n",
       "      <td>36 months</td>\n",
       "      <td>15.05</td>\n",
       "      <td>209.01</td>\n",
       "      <td>C</td>\n",
       "      <td>C4</td>\n",
       "      <td>...</td>\n",
       "      <td>0.0</td>\n",
       "      <td>NaN</td>\n",
       "      <td>1.0</td>\n",
       "      <td>2.0</td>\n",
       "      <td>1950.0</td>\n",
       "      <td>45.0</td>\n",
       "      <td>27700.0</td>\n",
       "      <td>1.0</td>\n",
       "      <td>5.0</td>\n",
       "      <td>3.0</td>\n",
       "    </tr>\n",
       "    <tr>\n",
       "      <th>3</th>\n",
       "      <td>112439006</td>\n",
       "      <td>NaN</td>\n",
       "      <td>20400</td>\n",
       "      <td>20400</td>\n",
       "      <td>20400.0</td>\n",
       "      <td>36 months</td>\n",
       "      <td>9.44</td>\n",
       "      <td>652.91</td>\n",
       "      <td>B</td>\n",
       "      <td>B1</td>\n",
       "      <td>...</td>\n",
       "      <td>53566.0</td>\n",
       "      <td>95.0</td>\n",
       "      <td>1.0</td>\n",
       "      <td>2.0</td>\n",
       "      <td>4240.0</td>\n",
       "      <td>60.0</td>\n",
       "      <td>46900.0</td>\n",
       "      <td>1.0</td>\n",
       "      <td>1.0</td>\n",
       "      <td>1.0</td>\n",
       "    </tr>\n",
       "    <tr>\n",
       "      <th>4</th>\n",
       "      <td>112438929</td>\n",
       "      <td>NaN</td>\n",
       "      <td>13000</td>\n",
       "      <td>13000</td>\n",
       "      <td>13000.0</td>\n",
       "      <td>36 months</td>\n",
       "      <td>11.99</td>\n",
       "      <td>431.73</td>\n",
       "      <td>B</td>\n",
       "      <td>B5</td>\n",
       "      <td>...</td>\n",
       "      <td>8466.0</td>\n",
       "      <td>72.0</td>\n",
       "      <td>0.0</td>\n",
       "      <td>1.0</td>\n",
       "      <td>2996.0</td>\n",
       "      <td>78.0</td>\n",
       "      <td>7800.0</td>\n",
       "      <td>0.0</td>\n",
       "      <td>0.0</td>\n",
       "      <td>0.0</td>\n",
       "    </tr>\n",
       "  </tbody>\n",
       "</table>\n",
       "<p>5 rows × 72 columns</p>\n",
       "</div>"
      ],
      "text/plain": [
       "          id  member_id  loan_amnt  funded_amnt  funded_amnt_inv       term  \\\n",
       "0  112435993        NaN       2300         2300           2300.0  36 months   \n",
       "1  112290210        NaN      16000        16000          16000.0  60 months   \n",
       "2  112436985        NaN       6025         6025           6025.0  36 months   \n",
       "3  112439006        NaN      20400        20400          20400.0  36 months   \n",
       "4  112438929        NaN      13000        13000          13000.0  36 months   \n",
       "\n",
       "   int_rate  installment grade sub_grade  ... total_bal_il il_util  \\\n",
       "0     12.62        77.08     C        C1  ...          0.0     NaN   \n",
       "1     12.62       360.95     C        C1  ...      11078.0    69.0   \n",
       "2     15.05       209.01     C        C4  ...          0.0     NaN   \n",
       "3      9.44       652.91     B        B1  ...      53566.0    95.0   \n",
       "4     11.99       431.73     B        B5  ...       8466.0    72.0   \n",
       "\n",
       "  open_rv_12m  open_rv_24m max_bal_bc all_util total_rev_hi_lim inq_fi  \\\n",
       "0         1.0          2.0     2315.0     55.0           7100.0    1.0   \n",
       "1         3.0          5.0     1962.0     94.0          31900.0    0.0   \n",
       "2         1.0          2.0     1950.0     45.0          27700.0    1.0   \n",
       "3         1.0          2.0     4240.0     60.0          46900.0    1.0   \n",
       "4         0.0          1.0     2996.0     78.0           7800.0    0.0   \n",
       "\n",
       "  total_cu_tl inq_last_12m  \n",
       "0         0.0          2.0  \n",
       "1         6.0          1.0  \n",
       "2         5.0          3.0  \n",
       "3         1.0          1.0  \n",
       "4         0.0          0.0  \n",
       "\n",
       "[5 rows x 72 columns]"
      ]
     },
     "execution_count": 4,
     "metadata": {},
     "output_type": "execute_result"
    }
   ],
   "source": [
    "loan_data.head()"
   ]
  },
  {
   "cell_type": "code",
   "execution_count": 5,
   "metadata": {},
   "outputs": [
    {
     "data": {
      "text/plain": [
       "(759338, 72)"
      ]
     },
     "execution_count": 5,
     "metadata": {},
     "output_type": "execute_result"
    }
   ],
   "source": [
    "loan_data.shape"
   ]
  },
  {
   "cell_type": "code",
   "execution_count": 6,
   "metadata": {},
   "outputs": [
    {
     "name": "stdout",
     "output_type": "stream",
     "text": [
      "<class 'pandas.core.frame.DataFrame'>\n",
      "RangeIndex: 759338 entries, 0 to 759337\n",
      "Data columns (total 72 columns):\n",
      " #   Column                       Non-Null Count   Dtype  \n",
      "---  ------                       --------------   -----  \n",
      " 0   id                           759338 non-null  int64  \n",
      " 1   member_id                    0 non-null       float64\n",
      " 2   loan_amnt                    759338 non-null  int64  \n",
      " 3   funded_amnt                  759338 non-null  int64  \n",
      " 4   funded_amnt_inv              759338 non-null  float64\n",
      " 5   term                         759338 non-null  object \n",
      " 6   int_rate                     759338 non-null  float64\n",
      " 7   installment                  759338 non-null  float64\n",
      " 8   grade                        759338 non-null  object \n",
      " 9   sub_grade                    759338 non-null  object \n",
      " 10  emp_title                    708368 non-null  object \n",
      " 11  emp_length                   708975 non-null  object \n",
      " 12  home_ownership               759338 non-null  object \n",
      " 13  annual_inc                   759338 non-null  float64\n",
      " 14  verification_status          759338 non-null  object \n",
      " 15  issue_d                      759338 non-null  object \n",
      " 16  loan_status                  759338 non-null  object \n",
      " 17  pymnt_plan                   759338 non-null  object \n",
      " 18  desc                         17 non-null      object \n",
      " 19  purpose                      759338 non-null  object \n",
      " 20  title                        736165 non-null  object \n",
      " 21  zip_code                     759337 non-null  object \n",
      " 22  addr_state                   759338 non-null  object \n",
      " 23  dti                          758983 non-null  float64\n",
      " 24  delinq_2yrs                  759338 non-null  int64  \n",
      " 25  earliest_cr_line             759338 non-null  object \n",
      " 26  inq_last_6mths               759337 non-null  float64\n",
      " 27  mths_since_last_delinq       396633 non-null  float64\n",
      " 28  mths_since_last_record       141179 non-null  float64\n",
      " 29  open_acc                     759338 non-null  int64  \n",
      " 30  pub_rec                      759338 non-null  int64  \n",
      " 31  revol_bal                    759338 non-null  float64\n",
      " 32  revol_util                   758821 non-null  float64\n",
      " 33  total_acc                    759338 non-null  int64  \n",
      " 34  initial_list_status          759338 non-null  object \n",
      " 35  out_prncp                    759338 non-null  float64\n",
      " 36  out_prncp_inv                759338 non-null  float64\n",
      " 37  total_pymnt                  759338 non-null  float64\n",
      " 38  total_pymnt_inv              759338 non-null  float64\n",
      " 39  total_rec_prncp              759338 non-null  float64\n",
      " 40  total_rec_int                759338 non-null  float64\n",
      " 41  total_rec_late_fee           759338 non-null  float64\n",
      " 42  recoveries                   759338 non-null  float64\n",
      " 43  collection_recovery_fee      759338 non-null  float64\n",
      " 44  last_pymnt_d                 758390 non-null  object \n",
      " 45  last_pymnt_amnt              759338 non-null  float64\n",
      " 46  next_pymnt_d                 591423 non-null  object \n",
      " 47  last_credit_pull_d           759320 non-null  object \n",
      " 48  collections_12_mths_ex_med   759338 non-null  int64  \n",
      " 49  mths_since_last_major_derog  215105 non-null  float64\n",
      " 50  policy_code                  759338 non-null  int64  \n",
      " 51  application_type             759338 non-null  object \n",
      " 52  annual_inc_joint             34003 non-null   float64\n",
      " 53  dti_joint                    34001 non-null   float64\n",
      " 54  verification_status_joint    34003 non-null   object \n",
      " 55  acc_now_delinq               759338 non-null  int64  \n",
      " 56  tot_coll_amt                 759338 non-null  float64\n",
      " 57  tot_cur_bal                  759338 non-null  float64\n",
      " 58  open_acc_6m                  759276 non-null  float64\n",
      " 59  open_il_12m                  759277 non-null  float64\n",
      " 60  open_il_24m                  759277 non-null  float64\n",
      " 61  mths_since_rcnt_il           738795 non-null  float64\n",
      " 62  total_bal_il                 759277 non-null  float64\n",
      " 63  il_util                      658743 non-null  float64\n",
      " 64  open_rv_12m                  759277 non-null  float64\n",
      " 65  open_rv_24m                  759277 non-null  float64\n",
      " 66  max_bal_bc                   759277 non-null  float64\n",
      " 67  all_util                     759224 non-null  float64\n",
      " 68  total_rev_hi_lim             759338 non-null  float64\n",
      " 69  inq_fi                       759277 non-null  float64\n",
      " 70  total_cu_tl                  759276 non-null  float64\n",
      " 71  inq_last_12m                 759276 non-null  float64\n",
      "dtypes: float64(40), int64(10), object(22)\n",
      "memory usage: 417.1+ MB\n"
     ]
    }
   ],
   "source": [
    "loan_data.info()"
   ]
  },
  {
   "cell_type": "code",
   "execution_count": 7,
   "metadata": {},
   "outputs": [
    {
     "data": {
      "text/plain": [
       "array(['Current', 'Fully Paid', 'In Grace Period', 'Late (31-120 days)',\n",
       "       'Late (16-30 days)', 'Charged Off', 'Default'], dtype=object)"
      ]
     },
     "execution_count": 7,
     "metadata": {},
     "output_type": "execute_result"
    }
   ],
   "source": [
    "loan_data.loan_status.unique()"
   ]
  },
  {
   "cell_type": "code",
   "execution_count": 8,
   "metadata": {},
   "outputs": [],
   "source": [
    "loan_data['good_bad'] = np.where(loan_data.loc[:, 'loan_status'].isin(['Charged off', 'Default',\n",
    "                                                                       'Late (31-120 days)', 'Late (16-30 days)']), 0, 1)"
   ]
  },
  {
   "cell_type": "code",
   "execution_count": 9,
   "metadata": {},
   "outputs": [
    {
     "data": {
      "text/plain": [
       "good_bad\n",
       "1    740072\n",
       "0     19266\n",
       "Name: count, dtype: int64"
      ]
     },
     "execution_count": 9,
     "metadata": {},
     "output_type": "execute_result"
    }
   ],
   "source": [
    "loan_data.good_bad.value_counts()"
   ]
  },
  {
   "cell_type": "code",
   "execution_count": 10,
   "metadata": {},
   "outputs": [
    {
     "data": {
      "text/html": [
       "<div>\n",
       "<style scoped>\n",
       "    .dataframe tbody tr th:only-of-type {\n",
       "        vertical-align: middle;\n",
       "    }\n",
       "\n",
       "    .dataframe tbody tr th {\n",
       "        vertical-align: top;\n",
       "    }\n",
       "\n",
       "    .dataframe thead th {\n",
       "        text-align: right;\n",
       "    }\n",
       "</style>\n",
       "<table border=\"1\" class=\"dataframe\">\n",
       "  <thead>\n",
       "    <tr style=\"text-align: right;\">\n",
       "      <th></th>\n",
       "      <th>loan_status</th>\n",
       "      <th>good_bad</th>\n",
       "    </tr>\n",
       "  </thead>\n",
       "  <tbody>\n",
       "    <tr>\n",
       "      <th>0</th>\n",
       "      <td>Current</td>\n",
       "      <td>1</td>\n",
       "    </tr>\n",
       "    <tr>\n",
       "      <th>1</th>\n",
       "      <td>Current</td>\n",
       "      <td>1</td>\n",
       "    </tr>\n",
       "    <tr>\n",
       "      <th>2</th>\n",
       "      <td>Current</td>\n",
       "      <td>1</td>\n",
       "    </tr>\n",
       "    <tr>\n",
       "      <th>3</th>\n",
       "      <td>Current</td>\n",
       "      <td>1</td>\n",
       "    </tr>\n",
       "    <tr>\n",
       "      <th>4</th>\n",
       "      <td>Current</td>\n",
       "      <td>1</td>\n",
       "    </tr>\n",
       "    <tr>\n",
       "      <th>...</th>\n",
       "      <td>...</td>\n",
       "      <td>...</td>\n",
       "    </tr>\n",
       "    <tr>\n",
       "      <th>759333</th>\n",
       "      <td>Current</td>\n",
       "      <td>1</td>\n",
       "    </tr>\n",
       "    <tr>\n",
       "      <th>759334</th>\n",
       "      <td>Current</td>\n",
       "      <td>1</td>\n",
       "    </tr>\n",
       "    <tr>\n",
       "      <th>759335</th>\n",
       "      <td>Late (16-30 days)</td>\n",
       "      <td>0</td>\n",
       "    </tr>\n",
       "    <tr>\n",
       "      <th>759336</th>\n",
       "      <td>Current</td>\n",
       "      <td>1</td>\n",
       "    </tr>\n",
       "    <tr>\n",
       "      <th>759337</th>\n",
       "      <td>Current</td>\n",
       "      <td>1</td>\n",
       "    </tr>\n",
       "  </tbody>\n",
       "</table>\n",
       "<p>759338 rows × 2 columns</p>\n",
       "</div>"
      ],
      "text/plain": [
       "              loan_status  good_bad\n",
       "0                 Current         1\n",
       "1                 Current         1\n",
       "2                 Current         1\n",
       "3                 Current         1\n",
       "4                 Current         1\n",
       "...                   ...       ...\n",
       "759333            Current         1\n",
       "759334            Current         1\n",
       "759335  Late (16-30 days)         0\n",
       "759336            Current         1\n",
       "759337            Current         1\n",
       "\n",
       "[759338 rows x 2 columns]"
      ]
     },
     "execution_count": 10,
     "metadata": {},
     "output_type": "execute_result"
    }
   ],
   "source": [
    "loan_data[['loan_status', 'good_bad']]"
   ]
  },
  {
   "cell_type": "code",
   "execution_count": 11,
   "metadata": {},
   "outputs": [],
   "source": [
    "missing_values = pd.DataFrame(loan_data.isnull().sum()/loan_data.shape[0])"
   ]
  },
  {
   "cell_type": "code",
   "execution_count": 12,
   "metadata": {},
   "outputs": [],
   "source": [
    "missing_values = missing_values[missing_values.iloc[:,0] > 0.50]"
   ]
  },
  {
   "cell_type": "code",
   "execution_count": 13,
   "metadata": {},
   "outputs": [
    {
     "data": {
      "text/html": [
       "<div>\n",
       "<style scoped>\n",
       "    .dataframe tbody tr th:only-of-type {\n",
       "        vertical-align: middle;\n",
       "    }\n",
       "\n",
       "    .dataframe tbody tr th {\n",
       "        vertical-align: top;\n",
       "    }\n",
       "\n",
       "    .dataframe thead th {\n",
       "        text-align: right;\n",
       "    }\n",
       "</style>\n",
       "<table border=\"1\" class=\"dataframe\">\n",
       "  <thead>\n",
       "    <tr style=\"text-align: right;\">\n",
       "      <th></th>\n",
       "      <th>0</th>\n",
       "    </tr>\n",
       "  </thead>\n",
       "  <tbody>\n",
       "    <tr>\n",
       "      <th>member_id</th>\n",
       "      <td>1.000000</td>\n",
       "    </tr>\n",
       "    <tr>\n",
       "      <th>desc</th>\n",
       "      <td>0.999978</td>\n",
       "    </tr>\n",
       "    <tr>\n",
       "      <th>dti_joint</th>\n",
       "      <td>0.955223</td>\n",
       "    </tr>\n",
       "    <tr>\n",
       "      <th>annual_inc_joint</th>\n",
       "      <td>0.955220</td>\n",
       "    </tr>\n",
       "    <tr>\n",
       "      <th>verification_status_joint</th>\n",
       "      <td>0.955220</td>\n",
       "    </tr>\n",
       "    <tr>\n",
       "      <th>mths_since_last_record</th>\n",
       "      <td>0.814076</td>\n",
       "    </tr>\n",
       "    <tr>\n",
       "      <th>mths_since_last_major_derog</th>\n",
       "      <td>0.716720</td>\n",
       "    </tr>\n",
       "  </tbody>\n",
       "</table>\n",
       "</div>"
      ],
      "text/plain": [
       "                                    0\n",
       "member_id                    1.000000\n",
       "desc                         0.999978\n",
       "dti_joint                    0.955223\n",
       "annual_inc_joint             0.955220\n",
       "verification_status_joint    0.955220\n",
       "mths_since_last_record       0.814076\n",
       "mths_since_last_major_derog  0.716720"
      ]
     },
     "execution_count": 13,
     "metadata": {},
     "output_type": "execute_result"
    }
   ],
   "source": [
    "missing_values.sort_values([0], ascending = False)"
   ]
  },
  {
   "cell_type": "code",
   "execution_count": 14,
   "metadata": {},
   "outputs": [],
   "source": [
    "loan_data.dropna(thresh = loan_data.shape[0]*0.5, axis = 1, inplace = True)"
   ]
  },
  {
   "cell_type": "code",
   "execution_count": 15,
   "metadata": {},
   "outputs": [
    {
     "data": {
      "text/html": [
       "<div>\n",
       "<style scoped>\n",
       "    .dataframe tbody tr th:only-of-type {\n",
       "        vertical-align: middle;\n",
       "    }\n",
       "\n",
       "    .dataframe tbody tr th {\n",
       "        vertical-align: top;\n",
       "    }\n",
       "\n",
       "    .dataframe thead th {\n",
       "        text-align: right;\n",
       "    }\n",
       "</style>\n",
       "<table border=\"1\" class=\"dataframe\">\n",
       "  <thead>\n",
       "    <tr style=\"text-align: right;\">\n",
       "      <th></th>\n",
       "      <th>0</th>\n",
       "    </tr>\n",
       "  </thead>\n",
       "  <tbody>\n",
       "  </tbody>\n",
       "</table>\n",
       "</div>"
      ],
      "text/plain": [
       "Empty DataFrame\n",
       "Columns: [0]\n",
       "Index: []"
      ]
     },
     "execution_count": 15,
     "metadata": {},
     "output_type": "execute_result"
    }
   ],
   "source": [
    "missing_values = pd.DataFrame(loan_data.isnull().sum()/loan_data.shape[0])\n",
    "missing_values = missing_values[missing_values.iloc[:,0] > 0.50]\n",
    "missing_values.sort_values([0], ascending = False)"
   ]
  },
  {
   "cell_type": "code",
   "execution_count": 16,
   "metadata": {},
   "outputs": [
    {
     "name": "stdout",
     "output_type": "stream",
     "text": [
      "<class 'pandas.core.frame.DataFrame'>\n",
      "RangeIndex: 759338 entries, 0 to 759337\n",
      "Data columns (total 66 columns):\n",
      " #   Column                      Non-Null Count   Dtype  \n",
      "---  ------                      --------------   -----  \n",
      " 0   id                          759338 non-null  int64  \n",
      " 1   loan_amnt                   759338 non-null  int64  \n",
      " 2   funded_amnt                 759338 non-null  int64  \n",
      " 3   funded_amnt_inv             759338 non-null  float64\n",
      " 4   term                        759338 non-null  object \n",
      " 5   int_rate                    759338 non-null  float64\n",
      " 6   installment                 759338 non-null  float64\n",
      " 7   grade                       759338 non-null  object \n",
      " 8   sub_grade                   759338 non-null  object \n",
      " 9   emp_title                   708368 non-null  object \n",
      " 10  emp_length                  708975 non-null  object \n",
      " 11  home_ownership              759338 non-null  object \n",
      " 12  annual_inc                  759338 non-null  float64\n",
      " 13  verification_status         759338 non-null  object \n",
      " 14  issue_d                     759338 non-null  object \n",
      " 15  loan_status                 759338 non-null  object \n",
      " 16  pymnt_plan                  759338 non-null  object \n",
      " 17  purpose                     759338 non-null  object \n",
      " 18  title                       736165 non-null  object \n",
      " 19  zip_code                    759337 non-null  object \n",
      " 20  addr_state                  759338 non-null  object \n",
      " 21  dti                         758983 non-null  float64\n",
      " 22  delinq_2yrs                 759338 non-null  int64  \n",
      " 23  earliest_cr_line            759338 non-null  object \n",
      " 24  inq_last_6mths              759337 non-null  float64\n",
      " 25  mths_since_last_delinq      396633 non-null  float64\n",
      " 26  open_acc                    759338 non-null  int64  \n",
      " 27  pub_rec                     759338 non-null  int64  \n",
      " 28  revol_bal                   759338 non-null  float64\n",
      " 29  revol_util                  758821 non-null  float64\n",
      " 30  total_acc                   759338 non-null  int64  \n",
      " 31  initial_list_status         759338 non-null  object \n",
      " 32  out_prncp                   759338 non-null  float64\n",
      " 33  out_prncp_inv               759338 non-null  float64\n",
      " 34  total_pymnt                 759338 non-null  float64\n",
      " 35  total_pymnt_inv             759338 non-null  float64\n",
      " 36  total_rec_prncp             759338 non-null  float64\n",
      " 37  total_rec_int               759338 non-null  float64\n",
      " 38  total_rec_late_fee          759338 non-null  float64\n",
      " 39  recoveries                  759338 non-null  float64\n",
      " 40  collection_recovery_fee     759338 non-null  float64\n",
      " 41  last_pymnt_d                758390 non-null  object \n",
      " 42  last_pymnt_amnt             759338 non-null  float64\n",
      " 43  next_pymnt_d                591423 non-null  object \n",
      " 44  last_credit_pull_d          759320 non-null  object \n",
      " 45  collections_12_mths_ex_med  759338 non-null  int64  \n",
      " 46  policy_code                 759338 non-null  int64  \n",
      " 47  application_type            759338 non-null  object \n",
      " 48  acc_now_delinq              759338 non-null  int64  \n",
      " 49  tot_coll_amt                759338 non-null  float64\n",
      " 50  tot_cur_bal                 759338 non-null  float64\n",
      " 51  open_acc_6m                 759276 non-null  float64\n",
      " 52  open_il_12m                 759277 non-null  float64\n",
      " 53  open_il_24m                 759277 non-null  float64\n",
      " 54  mths_since_rcnt_il          738795 non-null  float64\n",
      " 55  total_bal_il                759277 non-null  float64\n",
      " 56  il_util                     658743 non-null  float64\n",
      " 57  open_rv_12m                 759277 non-null  float64\n",
      " 58  open_rv_24m                 759277 non-null  float64\n",
      " 59  max_bal_bc                  759277 non-null  float64\n",
      " 60  all_util                    759224 non-null  float64\n",
      " 61  total_rev_hi_lim            759338 non-null  float64\n",
      " 62  inq_fi                      759277 non-null  float64\n",
      " 63  total_cu_tl                 759276 non-null  float64\n",
      " 64  inq_last_12m                759276 non-null  float64\n",
      " 65  good_bad                    759338 non-null  int32  \n",
      "dtypes: float64(35), int32(1), int64(10), object(20)\n",
      "memory usage: 379.5+ MB\n"
     ]
    }
   ],
   "source": [
    "loan_data.info()"
   ]
  },
  {
   "cell_type": "markdown",
   "metadata": {},
   "source": [
    "### 4 Data Splitting"
   ]
  },
  {
   "cell_type": "code",
   "execution_count": 17,
   "metadata": {},
   "outputs": [
    {
     "data": {
      "text/plain": [
       "(759338, 66)"
      ]
     },
     "execution_count": 17,
     "metadata": {},
     "output_type": "execute_result"
    }
   ],
   "source": [
    "loan_data.shape"
   ]
  },
  {
   "cell_type": "code",
   "execution_count": 18,
   "metadata": {},
   "outputs": [],
   "source": [
    "from sklearn.model_selection import train_test_split"
   ]
  },
  {
   "cell_type": "code",
   "execution_count": 19,
   "metadata": {},
   "outputs": [],
   "source": [
    "# Membagi data menjadi 80% train set dan 20% test set\n",
    "X = loan_data.drop('good_bad', axis = 1)\n",
    "y = loan_data[['good_bad']]\n",
    "\n",
    "X_train, X_test, y_train, y_test = train_test_split(X, y, test_size = 0.2, stratify = y, random_state= 42)"
   ]
  },
  {
   "cell_type": "code",
   "execution_count": 20,
   "metadata": {},
   "outputs": [
    {
     "data": {
      "text/plain": [
       "((607470, 65), (151868, 65))"
      ]
     },
     "execution_count": 20,
     "metadata": {},
     "output_type": "execute_result"
    }
   ],
   "source": [
    "X_train.shape, X_test.shape"
   ]
  },
  {
   "cell_type": "code",
   "execution_count": 21,
   "metadata": {},
   "outputs": [
    {
     "data": {
      "text/plain": [
       "((607470, 1), (151868, 1))"
      ]
     },
     "execution_count": 21,
     "metadata": {},
     "output_type": "execute_result"
    }
   ],
   "source": [
    "y_train.shape, y_test.shape"
   ]
  },
  {
   "cell_type": "code",
   "execution_count": 22,
   "metadata": {},
   "outputs": [
    {
     "data": {
      "text/plain": [
       "good_bad\n",
       "1           0.974628\n",
       "0           0.025372\n",
       "Name: proportion, dtype: float64"
      ]
     },
     "execution_count": 22,
     "metadata": {},
     "output_type": "execute_result"
    }
   ],
   "source": [
    "y_train.value_counts(normalize = True)"
   ]
  },
  {
   "cell_type": "code",
   "execution_count": 23,
   "metadata": {},
   "outputs": [
    {
     "data": {
      "text/plain": [
       "good_bad\n",
       "1           0.974629\n",
       "0           0.025371\n",
       "Name: proportion, dtype: float64"
      ]
     },
     "execution_count": 23,
     "metadata": {},
     "output_type": "execute_result"
    }
   ],
   "source": [
    "y_test.value_counts(normalize = True)"
   ]
  },
  {
   "cell_type": "markdown",
   "metadata": {},
   "source": [
    "### 5 Data Cleaning"
   ]
  },
  {
   "cell_type": "code",
   "execution_count": 24,
   "metadata": {},
   "outputs": [
    {
     "data": {
      "text/plain": [
       "(607470, 65)"
      ]
     },
     "execution_count": 24,
     "metadata": {},
     "output_type": "execute_result"
    }
   ],
   "source": [
    "X_train.shape"
   ]
  },
  {
   "cell_type": "code",
   "execution_count": 25,
   "metadata": {},
   "outputs": [
    {
     "name": "stdout",
     "output_type": "stream",
     "text": [
      "term\n",
      "['60 months' '36 months']\n",
      "\n",
      "grade\n",
      "['C' 'A' 'B' 'F' 'D' 'E' 'G']\n",
      "\n",
      "sub_grade\n",
      "['C3' 'A5' 'B4' 'F5' 'B3' 'C2' 'C4' 'D2' 'B2' 'D1' 'C1' 'B1' 'B5' 'A2'\n",
      " 'C5' 'A3' 'D5' 'E5' 'A4' 'G5' 'D3' 'A1' 'E3' 'E1' 'D4' 'E4' 'G4' 'E2'\n",
      " 'G1' 'F1' 'F2' 'F4' 'G3' 'F3' 'G2']\n",
      "\n",
      "emp_title\n",
      "['Claim Senior Analyst' 'gang foreman mofe' 'Manager' ... 'Lead op. Tech'\n",
      " 'Investigations and Inquiries Specialist' 'Field Medic/FTO']\n",
      "\n",
      "emp_length\n",
      "['4 years' '10+ years' '3 years' '< 1 year' '2 years' '9 years' '6 years'\n",
      " '1 year' '8 years' nan '7 years' '5 years']\n",
      "\n",
      "home_ownership\n",
      "['RENT' 'MORTGAGE' 'OWN' 'ANY' 'NONE']\n",
      "\n",
      "verification_status\n",
      "['Source Verified' 'Not Verified' 'Verified']\n",
      "\n",
      "issue_d\n",
      "['Apr-2017' 'Jun-2017' 'Feb-2017' 'Mar-2016' 'May-2017' 'Sep-2016'\n",
      " 'Jan-2016' 'Oct-2016' 'Jun-2016' 'Jan-2017' 'Feb-2016' 'Apr-2016'\n",
      " 'Mar-2017' 'Sep-2017' 'Dec-2016' 'Aug-2017' 'Jul-2016' 'Jul-2017'\n",
      " 'Aug-2016' 'Nov-2016' 'May-2016']\n",
      "\n",
      "loan_status\n",
      "['Current' 'Charged Off' 'Fully Paid' 'Late (16-30 days)'\n",
      " 'In Grace Period' 'Late (31-120 days)' 'Default']\n",
      "\n",
      "pymnt_plan\n",
      "['n' 'y']\n",
      "\n",
      "purpose\n",
      "['debt_consolidation' 'major_purchase' 'credit_card' 'medical'\n",
      " 'home_improvement' 'other' 'moving' 'car' 'renewable_energy' 'vacation'\n",
      " 'small_business' 'house' 'wedding']\n",
      "\n",
      "title\n",
      "['Debt consolidation' 'Major purchase' 'Credit card refinancing'\n",
      " 'Medical expenses' 'Home improvement' 'Other' nan 'Moving and relocation'\n",
      " 'Car financing' 'Green loan' 'Vacation' 'Business' 'Home buying']\n",
      "\n",
      "zip_code\n",
      "['115xx' '119xx' '986xx' '021xx' '112xx' '787xx' '554xx' '128xx' '760xx'\n",
      " '432xx' '988xx' '946xx' '130xx' '301xx' '305xx' '462xx' '486xx' '591xx'\n",
      " '940xx' '870xx' '410xx' '078xx' '212xx' '430xx' '134xx' '329xx' '480xx'\n",
      " '070xx' '780xx' '641xx' '302xx' '926xx' '770xx' '465xx' '029xx' '902xx'\n",
      " '920xx' '443xx' '630xx' '074xx' '300xx' '175xx' '700xx' '941xx' '723xx'\n",
      " '331xx' '751xx' '104xx' '875xx' '795xx' '282xx' '125xx' '369xx' '952xx'\n",
      " '777xx' '088xx' '362xx' '275xx' '974xx' '750xx' '604xx' '231xx' '487xx'\n",
      " '100xx' '773xx' '117xx' '474xx' '922xx' '467xx' '240xx' '206xx' '352xx'\n",
      " '441xx' '145xx' '440xx' '928xx' '339xx' '930xx' '958xx' '483xx' '113xx'\n",
      " '612xx' '296xx' '815xx' '631xx' '917xx' '087xx' '531xx' '933xx' '956xx'\n",
      " '351xx' '161xx' '925xx' '551xx' '983xx' '129xx' '937xx' '729xx' '290xx'\n",
      " '495xx' '391xx' '563xx' '132xx' '805xx' '334xx' '790xx' '323xx' '170xx'\n",
      " '338xx' '216xx' '545xx' '435xx' '781xx' '080xx' '152xx' '863xx' '945xx'\n",
      " '061xx' '932xx' '307xx' '913xx' '762xx' '286xx' '704xx' '460xx' '067xx'\n",
      " '079xx' '927xx' '220xx' '997xx' '782xx' '674xx' '431xx' '907xx' '346xx'\n",
      " '558xx' '126xx' '775xx' '445xx' '921xx' '463xx' '229xx' '853xx' '490xx'\n",
      " '752xx' '838xx' '458xx' '370xx' '010xx' '985xx' '042xx' '995xx' '975xx'\n",
      " '350xx' '238xx' '211xx' '191xx' '900xx' '140xx' '532xx' '082xx' '197xx'\n",
      " '791xx' '027xx' '103xx' '949xx' '601xx' '539xx' '951xx' '450xx' '114xx'\n",
      " '064xx' '484xx' '062xx' '190xx' '446xx' '451xx' '719xx' '342xx' '389xx'\n",
      " '366xx' '662xx' '072xx' '891xx' '718xx' '109xx' '478xx' '210xx' '328xx'\n",
      " '349xx' '857xx' '277xx' '939xx' '910xx' '201xx' '274xx' '802xx' '276xx'\n",
      " '335xx' '168xx' '708xx' '580xx' '151xx' '774xx' '089xx' '850xx' '019xx'\n",
      " '141xx' '923xx' '461xx' '232xx' '060xx' '106xx' '606xx' '285xx' '605xx'\n",
      " '980xx' '013xx' '404xx' '633xx' '386xx' '288xx' '530xx' '688xx' '272xx'\n",
      " '356xx' '016xx' '648xx' '786xx' '153xx' '806xx' '322xx' '783xx' '336xx'\n",
      " '851xx' '124xx' '479xx' '015xx' '447xx' '981xx' '017xx' '618xx' '309xx'\n",
      " '600xx' '623xx' '157xx' '312xx' '906xx' '570xx' '678xx' '068xx' '916xx'\n",
      " '207xx' '840xx' '310xx' '071xx' '744xx' '665xx' '882xx' '385xx' '756xx'\n",
      " '808xx' '448xx' '626xx' '376xx' '553xx' '020xx' '180xx' '953xx' '327xx'\n",
      " '390xx' '617xx' '970xx' '833xx' '820xx' '156xx' '146xx' '836xx' '824xx'\n",
      " '871xx' '383xx' '395xx' '373xx' '841xx' '967xx' '333xx' '747xx' '740xx'\n",
      " '755xx' '731xx' '936xx' '230xx' '481xx' '996xx' '424xx' '111xx' '721xx'\n",
      " '181xx' '982xx' '236xx' '837xx' '173xx' '638xx' '880xx' '032xx' '898xx'\n",
      " '557xx' '012xx' '028xx' '701xx' '160xx' '018xx' '023xx' '717xx' '303xx'\n",
      " '550xx' '403xx' '703xx' '069xx' '856xx' '564xx' '471xx' '488xx' '235xx'\n",
      " '588xx' '371xx' '182xx' '133xx' '537xx' '199xx' '973xx' '378xx' '800xx'\n",
      " '165xx' '063xx' '452xx' '433xx' '597xx' '359xx' '316xx' '993xx' '341xx'\n",
      " '935xx' '330xx' '895xx' '158xx' '616xx' '223xx' '193xx' '102xx' '757xx'\n",
      " '368xx' '217xx' '164xx' '765xx' '620xx' '675xx' '208xx' '381xx' '083xx'\n",
      " '030xx' '727xx' '198xx' '444xx' '319xx' '976xx' '761xx' '221xx' '636xx'\n",
      " '611xx' '992xx' '177xx' '076xx' '167xx' '640xx' '299xx' '919xx' '377xx'\n",
      " '680xx' '807xx' '725xx' '233xx' '409xx' '645xx' '150xx' '234xx' '294xx'\n",
      " '186xx' '658xx' '797xx' '394xx' '442xx' '314xx' '374xx' '990xx' '469xx'\n",
      " '999xx' '844xx' '652xx' '380xx' '957xx' '321xx' '320xx' '136xx' '142xx'\n",
      " '293xx' '799xx' '801xx' '804xx' '924xx' '287xx' '657xx' '347xx' '281xx'\n",
      " '912xx' '785xx' '200xx' '086xx' '984xx' '793xx' '705xx' '660xx' '813xx'\n",
      " '668xx' '816xx' '847xx' '559xx' '955xx' '759xx' '387xx' '810xx' '779xx'\n",
      " '720xx' '852xx' '363xx' '313xx' '972xx' '105xx' '613xx' '045xx' '567xx'\n",
      " '627xx' '834xx' '911xx' '548xx' '959xx' '108xx' '905xx' '038xx' '209xx'\n",
      " '584xx' '494xx' '561xx' '118xx' '454xx' '664xx' '024xx' '809xx' '039xx'\n",
      " '883xx' '655xx' '014xx' '195xx' '492xx' '073xx' '049xx' '914xx' '776xx'\n",
      " '661xx' '077xx' '784xx' '284xx' '400xx' '811xx' '607xx' '214xx' '475xx'\n",
      " '714xx' '176xx' '292xx' '222xx' '546xx' '315xx' '280xx' '651xx' '722xx'\n",
      " '121xx' '769xx' '324xx' '737xx' '401xx' '677xx' '245xx' '743xx' '025xx'\n",
      " '644xx' '393xx' '497xx' '826xx' '877xx' '716xx' '713xx' '361xx' '894xx'\n",
      " '392xx' '427xx' '054xx' '890xx' '295xx' '226xx' '672xx' '107xx' '196xx'\n",
      " '148xx' '534xx' '085xx' '778xx' '609xx' '562xx' '864xx' '470xx' '686xx'\n",
      " '628xx' '614xx' '681xx' '372xx' '535xx' '422xx' '405xx' '159xx' '270xx'\n",
      " '143xx' '667xx' '549xx' '344xx' '934xx' '096xx' '670xx' '034xx' '227xx'\n",
      " '814xx' '304xx' '194xx' '225xx' '183xx' '420xx' '415xx' '388xx' '057xx'\n",
      " '615xx' '878xx' '116xx' '421xx' '560xx' '689xx' '075xx' '730xx' '540xx'\n",
      " '991xx' '735xx' '496xx' '669xx' '482xx' '120xx' '968xx' '741xx' '065xx'\n",
      " '556xx' '271xx' '493xx' '337xx' '544xx' '402xx' '908xx' '684xx' '188xx'\n",
      " '265xx' '174xx' '456xx' '622xx' '766xx' '040xx' '262xx' '989xx' '066xx'\n",
      " '683xx' '382xx' '954xx' '297xx' '239xx' '629xx' '764xx' '278xx' '738xx'\n",
      " '473xx' '581xx' '155xx' '608xx' '163xx' '903xx' '547xx' '360xx' '650xx'\n",
      " '637xx' '144xx' '137xx' '325xx' '971xx' '436xx' '794xx' '044xx' '477xx'\n",
      " '666xx' '950xx' '915xx' '306xx' '843xx' '572xx' '687xx' '189xx' '123xx'\n",
      " '656xx' '052xx' '185xx' '944xx' '466xx' '690xx' '131xx' '242xx' '412xx'\n",
      " '647xx' '763xx' '603xx' '706xx' '406xx' '218xx' '593xx' '468xx' '453xx'\n",
      " '283xx' '748xx' '691xx' '860xx' '832xx' '977xx' '224xx' '298xx' '489xx'\n",
      " '184xx' '273xx' '587xx' '897xx' '365xx' '219xx' '543xx' '308xx' '978xx'\n",
      " '354xx' '828xx' '101xx' '244xx' '571xx' '041xx' '056xx' '635xx' '411xx'\n",
      " '407xx' '358xx' '384xx' '599xx' '279xx' '138xx' '026xx' '289xx' '575xx'\n",
      " '154xx' '022xx' '033xx' '582xx' '624xx' '566xx' '243xx' '943xx' '179xx'\n",
      " '438xx' '379xx' '829xx' '825xx' '439xx' '734xx' '707xx' '754xx' '724xx'\n",
      " '050xx' '058xx' '434xx' '110xx' '485xx' '171xx' '788xx' '542xx' '625xx'\n",
      " '576xx' '610xx' '318xx' '728xx' '948xx' '961xx' '398xx' '139xx' '047xx'\n",
      " '357xx' '758xx' '585xx' '960xx' '931xx' '767xx' '417xx' '122xx' '423xx'\n",
      " '237xx' '178xx' '476xx' '258xx' '187xx' '654xx' '768xx' '241xx' '291xx'\n",
      " '541xx' '712xx' '267xx' '726xx' '166xx' '215xx' '827xx' '709xx' '573xx'\n",
      " '711xx' '673xx' '859xx' '081xx' '538xx' '619xx' '736xx' '031xx' '437xx'\n",
      " '918xx' '011xx' '873xx' '865xx' '326xx' '228xx' '261xx' '472xx' '855xx'\n",
      " '598xx' '127xx' '796xx' '565xx' '874xx' '574xx' '397xx' '577xx' '464xx'\n",
      " '247xx' '317xx' '596xx' '455xx' '798xx' '253xx' '602xx' '147xx' '491xx'\n",
      " '745xx' '693xx' '646xx' '091xx' '671xx' '749xx' '590xx' '685xx' '135xx'\n",
      " '172xx' '653xx' '639xx' '586xx' '881xx' '449xx' '355xx' '498xx' '364xx'\n",
      " '367xx' '594xx' '812xx' '149xx' '169xx' '994xx' '947xx' '260xx' '904xx'\n",
      " '846xx' '254xx' '046xx' '037xx' '053xx' '425xx' '043xx' '845xx' '710xx'\n",
      " '084xx' '457xx' '803xx' '255xx' '634xx' '051xx' '048xx' '408xx' '259xx'\n",
      " '789xx' '822xx' '396xx' '035xx' '792xx' '592xx' '998xx' '098xx' '036xx'\n",
      " '499xx' '753xx' '893xx' '252xx' '246xx' '263xx' '835xx' '583xx' '746xx'\n",
      " '679xx' '008xx' '426xx' '969xx' '979xx' '595xx' '830xx' '942xx' '413xx'\n",
      " '162xx' '966xx' '264xx' '090xx' '250xx' '094xx' '414xx' '963xx' '416xx'\n",
      " '676xx' '772xx' '251xx' '739xx' '823xx' '702xx' '256xx' '268xx' '901xx'\n",
      " '987xx' '418xx' '345xx' '257xx' '831xx' '909xx' '884xx' '332xx' '348xx'\n",
      " '962xx' '059xx' '311xx' '694xx' '204xx' '879xx' '555xx' '500xx' '266xx'\n",
      " '663xx' '525xx' '692xx' '095xx' '343xx' '521xx' '506xx' '097xx' '249xx'\n",
      " '202xx' '248xx' '885xx' '964xx' '340xx' '821xx' nan '621xx' '502xx'\n",
      " '698xx' '965xx' '055xx' '861xx' '093xx' '007xx' '742xx' '510xx' '528xx'\n",
      " '523xx' '092xx' '569xx']\n",
      "\n",
      "addr_state\n",
      "['NY' 'WA' 'MA' 'TX' 'MN' 'OH' 'CA' 'GA' 'IN' 'MI' 'MT' 'NM' 'KY' 'NJ'\n",
      " 'MD' 'FL' 'MO' 'RI' 'PA' 'LA' 'AR' 'NC' 'AL' 'OR' 'IL' 'VA' 'SC' 'CO'\n",
      " 'WI' 'MS' 'AZ' 'CT' 'AK' 'KS' 'ID' 'TN' 'ME' 'DE' 'NV' 'ND' 'NE' 'SD'\n",
      " 'UT' 'OK' 'WY' 'HI' 'NH' 'DC' 'VT' 'WV']\n",
      "\n",
      "earliest_cr_line\n",
      "['Aug-1995' 'Sep-1987' 'Oct-2006' 'Mar-2011' 'Sep-2012' 'Nov-2002'\n",
      " 'Sep-2001' 'Aug-2004' 'Oct-1996' 'Oct-1997' 'Feb-2001' 'Oct-2000'\n",
      " 'Aug-2002' 'Dec-2002' 'Dec-2000' 'Jan-2010' 'Feb-2013' 'Oct-1995'\n",
      " 'Mar-2002' 'Mar-1978' 'Aug-1999' 'Apr-1983' 'Jul-2008' 'Sep-2004'\n",
      " 'Oct-2007' 'Jun-2006' 'Apr-2004' 'Jul-1996' 'Jun-1986' 'Sep-2003'\n",
      " 'May-2000' 'Jun-2002' 'Oct-1991' 'Mar-2006' 'Jan-2002' 'Jul-1999'\n",
      " 'Aug-1993' 'Sep-2005' 'Sep-2008' 'Jun-1999' 'Nov-2003' 'Mar-1993'\n",
      " 'Jan-2008' 'Sep-1999' 'Oct-1992' 'Aug-1998' 'Nov-2004' 'Dec-1997'\n",
      " 'Apr-2000' 'Oct-2001' 'Sep-2006' 'Jun-1995' 'Jul-1988' 'Apr-1999'\n",
      " 'Dec-2004' 'Apr-2008' 'Feb-1994' 'Apr-2001' 'Oct-1989' 'Jul-2012'\n",
      " 'Apr-1994' 'Sep-1998' 'Sep-2009' 'Jan-2001' 'Feb-1984' 'Mar-2013'\n",
      " 'Dec-1995' 'Jan-2006' 'Jan-2004' 'Sep-1985' 'Oct-2003' 'Feb-1995'\n",
      " 'Mar-2004' 'Jun-2005' 'Aug-2001' 'Feb-2004' 'Mar-2000' 'Jul-2002'\n",
      " 'Jan-1986' 'Jul-2004' 'Nov-2001' 'Nov-2005' 'May-2005' 'Sep-1993'\n",
      " 'Aug-2008' 'Nov-1995' 'Jul-2005' 'Oct-1999' 'Oct-2002' 'Aug-2006'\n",
      " 'Jan-2011' 'Aug-2000' 'May-1998' 'Aug-2010' 'Mar-1999' 'Apr-2002'\n",
      " 'Jul-2003' 'Jul-1998' 'Jan-1995' 'Nov-1996' 'Feb-1977' 'Jun-2001'\n",
      " 'Jun-2011' 'Jul-1982' 'Apr-1981' 'Jan-2003' 'Mar-2001' 'Feb-2006'\n",
      " 'Apr-2014' 'Mar-1990' 'Jan-2005' 'Feb-2014' 'Aug-1988' 'Dec-2008'\n",
      " 'Sep-2011' 'Sep-1997' 'Sep-2000' 'Sep-1991' 'May-1990' 'Apr-2003'\n",
      " 'Jan-1998' 'Feb-1997' 'Feb-1993' 'Nov-1997' 'Mar-2005' 'Feb-2003'\n",
      " 'Mar-2012' 'Aug-1994' 'Mar-1992' 'Jun-2004' 'Nov-2007' 'Oct-1985'\n",
      " 'Feb-2007' 'Aug-2011' 'Jun-1991' 'Dec-2006' 'Aug-1985' 'Jun-2003'\n",
      " 'Dec-2012' 'Mar-2008' 'Jun-1998' 'Mar-1995' 'Jan-1974' 'Jan-1996'\n",
      " 'Nov-1985' 'Jun-2013' 'Oct-1973' 'Jul-2000' 'May-1994' 'Dec-2003'\n",
      " 'May-1989' 'Nov-2000' 'Sep-2002' 'Feb-2009' 'May-2004' 'Nov-1981'\n",
      " 'Dec-1992' 'Sep-1996' 'Jul-2006' 'May-2006' 'Aug-1997' 'Nov-1999'\n",
      " 'May-1979' 'Dec-1996' 'Jan-1993' 'Nov-1993' 'Jan-2007' 'Feb-1988'\n",
      " 'Aug-1996' 'Sep-2007' 'Aug-1989' 'Nov-1992' 'Apr-1979' 'Apr-2006'\n",
      " 'Mar-2003' 'Dec-1982' 'May-1996' 'May-2003' 'Oct-1998' 'Dec-1993'\n",
      " 'Sep-1979' 'Dec-2001' 'Jul-1995' 'Dec-1998' 'Apr-1997' 'Oct-1981'\n",
      " 'Apr-1990' 'May-2008' 'Mar-1997' 'Feb-1998' 'Jul-1986' 'Mar-2010'\n",
      " 'Dec-1985' 'Apr-1988' 'Apr-1993' 'May-1983' 'Jan-1992' 'Feb-1999'\n",
      " 'Oct-2010' 'Feb-2005' 'Apr-2007' 'Oct-2009' 'Aug-2005' 'May-1986'\n",
      " 'Aug-1986' 'May-1999' 'Dec-1990' 'Aug-2003' 'Apr-1977' 'Apr-1989'\n",
      " 'Mar-1994' 'Oct-2005' 'Oct-2004' 'Dec-1999' 'Nov-2010' 'May-2013'\n",
      " 'Jan-2013' 'Aug-1992' 'Jun-1977' 'Sep-1966' 'Nov-1994' 'Apr-1986'\n",
      " 'Apr-1976' 'Oct-1994' 'Jul-2007' 'Jun-2000' 'Oct-1979' 'May-2007'\n",
      " 'Jul-1993' 'May-1992' 'Aug-1987' 'Dec-1994' 'Oct-1993' 'Sep-1994'\n",
      " 'Dec-2007' 'Oct-1982' 'May-2001' 'Nov-2012' 'Mar-1998' 'Jun-1992'\n",
      " 'Dec-1986' 'Nov-1990' 'Jul-2009' 'May-1997' 'Feb-2000' 'Jan-2012'\n",
      " 'Jun-2007' 'Nov-1998' 'Jan-1973' 'Jan-1985' 'Dec-1991' 'Mar-1986'\n",
      " 'Apr-2013' 'Dec-2011' 'Jun-1997' 'Apr-2010' 'Apr-1995' 'Aug-2007'\n",
      " 'Jul-1991' 'Jan-2000' 'Jan-1997' 'Jul-1992' 'Sep-1975' 'Nov-1984'\n",
      " 'Feb-2008' 'Mar-1989' 'Oct-1986' 'Mar-2007' 'Jun-1976' 'Dec-2005'\n",
      " 'Aug-2012' 'Aug-2009' 'Nov-1982' 'May-1988' 'Feb-1996' 'Feb-1989'\n",
      " 'Mar-1991' 'Sep-1990' 'Aug-2013' 'May-1995' 'Sep-1986' 'Apr-1998'\n",
      " 'Sep-1995' 'Oct-2011' 'Apr-1996' 'Mar-1987' 'Feb-2002' 'Dec-1981'\n",
      " 'Jul-1977' 'Dec-1977' 'Aug-1979' 'Dec-1956' 'Apr-1987' 'Feb-1979'\n",
      " 'Mar-2009' 'Oct-1990' 'Oct-1980' 'Oct-2008' 'Sep-2010' 'Nov-1983'\n",
      " 'Feb-1986' 'Jul-1969' 'Feb-1987' 'Mar-1985' 'Feb-1992' 'Jan-1991'\n",
      " 'Sep-1976' 'Jun-1993' 'Jul-1976' 'Jun-1994' 'Jul-1985' 'May-1977'\n",
      " 'Jul-2001' 'Oct-1983' 'Feb-2010' 'Apr-2005' 'Aug-1991' 'Jan-1999'\n",
      " 'Dec-1988' 'Dec-1989' 'Nov-1988' 'Jul-1989' 'Mar-1996' 'Jan-1984'\n",
      " 'Jan-1989' 'Oct-2012' 'Jan-1978' 'Jan-1988' 'Apr-2009' 'Jan-1981'\n",
      " 'Jan-1994' 'Dec-1984' 'Mar-1979' 'Nov-2011' 'Jun-2008' 'May-2002'\n",
      " 'Mar-1980' 'Aug-1990' 'Sep-1988' 'Mar-1983' 'Nov-2006' 'Sep-2013'\n",
      " 'Feb-1978' 'Nov-1978' 'Sep-1983' 'Nov-1987' 'Nov-1986' 'Apr-1966'\n",
      " 'Apr-1984' 'Feb-2011' 'Feb-1990' 'Sep-1984' 'Feb-1985' 'Dec-2009'\n",
      " 'Jun-2010' 'Jul-1987' 'Mar-1988' 'Jun-1996' 'Mar-1984' 'Aug-1975'\n",
      " 'Sep-1989' 'Nov-1991' 'Dec-2010' 'Oct-1975' 'Oct-1964' 'May-1978'\n",
      " 'Jul-1997' 'Nov-2008' 'Jun-2012' 'Jan-1990' 'Oct-1968' 'Nov-1989'\n",
      " 'May-2011' 'Mar-1982' 'Apr-1991' 'Jul-1994' 'Jul-1990' 'Jun-1987'\n",
      " 'Apr-2012' 'Aug-2014' 'Oct-1984' 'May-2009' 'Oct-1987' 'May-1982'\n",
      " 'May-1991' 'Jul-2013' 'May-2014' 'Aug-1983' 'Jun-1989' 'Dec-2013'\n",
      " 'May-2012' 'May-1985' 'Dec-1973' 'Apr-2011' 'Dec-1976' 'Jan-1987'\n",
      " 'Jul-1984' 'Apr-1975' 'Sep-1968' 'Aug-1978' 'Oct-2013' 'Feb-1981'\n",
      " 'Jul-1975' 'Jul-2011' 'Jun-1983' 'Mar-1974' 'Dec-1987' 'Jul-2010'\n",
      " 'Mar-1981' 'May-1993' 'Nov-1975' 'Jun-1985' 'Feb-1967' 'Jan-1976'\n",
      " 'Aug-1957' 'Nov-2013' 'Nov-1979' 'Jun-1990' 'Apr-1982' 'Mar-1966'\n",
      " 'Feb-2012' 'Oct-1988' 'Apr-1985' 'Jan-1961' 'Mar-1975' 'Jan-2009'\n",
      " 'May-1984' 'Jun-1978' 'Aug-1982' 'Feb-1974' 'Jun-1981' 'May-1981'\n",
      " 'Jun-2014' 'Oct-1978' 'Sep-1992' 'Apr-1992' 'Dec-1975' 'Jan-1977'\n",
      " 'Jun-2009' 'May-1975' 'Jun-1982' 'Apr-1972' 'May-2010' 'Jan-2014'\n",
      " 'Nov-1972' 'Sep-1981' 'Nov-2009' 'May-1987' 'Sep-1982' 'Dec-1983'\n",
      " 'Apr-1978' 'May-1974' 'Sep-1974' 'Jun-1974' 'Feb-1971' 'Jan-1969'\n",
      " 'Jan-1964' 'Oct-1976' 'Aug-1984' 'Jun-1988' 'May-1971' 'Feb-1991'\n",
      " 'Nov-1968' 'Feb-1973' 'Mar-2014' 'Feb-1970' 'Jul-1979' 'Nov-1980'\n",
      " 'Jul-2014' 'Sep-1978' 'Feb-1983' 'Jan-1960' 'Feb-1980' 'Jun-1984'\n",
      " 'Jun-1979' 'Jan-1982' 'Feb-1982' 'Aug-1980' 'Dec-1969' 'Dec-1978'\n",
      " 'Mar-1977' 'Jan-1975' 'Jan-1965' 'Apr-1980' 'Oct-1974' 'Dec-1964'\n",
      " 'Jun-1975' 'Jan-1980' 'Jul-1981' 'Aug-1973' 'Aug-1974' 'Jun-1969'\n",
      " 'Apr-1971' 'Aug-1977' 'Jul-1967' 'Dec-1974' 'Sep-1977' 'Jan-1962'\n",
      " 'Oct-1970' 'Jul-1980' 'Dec-1972' 'May-1976' 'Jun-1972' 'Jul-1971'\n",
      " 'Jul-1983' 'Mar-1970' 'Sep-1951' 'Sep-1980' 'Aug-1976' 'Sep-1972'\n",
      " 'Nov-1977' 'Oct-1963' 'Nov-1974' 'Jun-1968' 'Mar-1972' 'Nov-1976'\n",
      " 'Feb-1976' 'Jan-1979' 'Sep-1973' 'Dec-1979' 'Jan-1951' 'Sep-1971'\n",
      " 'Jul-1970' 'Dec-1980' 'Feb-1969' 'Aug-1966' 'Jul-1978' 'Jan-1971'\n",
      " 'Nov-1973' 'Aug-1981' 'Jul-1973' 'Apr-1970' 'Jun-1970' 'Apr-1973'\n",
      " 'Jun-1971' 'Apr-1968' 'May-1972' 'Jan-1972' 'Sep-1969' 'Oct-1977'\n",
      " 'May-1967' 'Mar-1973' 'Oct-1971' 'May-1973' 'Dec-1968' 'Jan-1983'\n",
      " 'Apr-1964' 'Jan-1967' 'Jun-1958' 'Dec-1962' 'Feb-1975' 'May-1970'\n",
      " 'Jul-1972' 'Oct-1966' 'Aug-1967' 'Jan-1970' 'Mar-1976' 'Apr-1965'\n",
      " 'Apr-1974' 'Sep-1967' 'Nov-1969' 'May-1980' 'Jul-1974' 'Nov-1971'\n",
      " 'Dec-1971' 'Aug-1971' 'Aug-1968' 'Aug-1972' 'Jun-1980' 'Jan-1968'\n",
      " 'Jul-1968' 'Oct-1965' 'Jul-1965' 'Jun-1965' 'Jun-1964' 'Mar-1961'\n",
      " 'Sep-1965' 'Jan-1959' 'Nov-1970' 'Oct-1967' 'Jul-1963' 'Jun-1967'\n",
      " 'Feb-1968' 'Oct-1969' 'Oct-1972' 'Dec-1965' 'Jul-1964' 'Feb-1972'\n",
      " 'Jan-1956' 'Jun-1973' 'Sep-1964' 'Apr-1967' 'Sep-1970' 'May-1966'\n",
      " 'Mar-1968' 'Jan-1966' 'Mar-1965' 'Aug-1969' 'Aug-1970' 'Dec-1970'\n",
      " 'Dec-1960' 'May-1965' 'Jan-1963' 'May-1969' 'Feb-1959' 'Aug-1961'\n",
      " 'Dec-1966' 'Mar-1967' 'May-1968' 'Nov-1965' 'Aug-1965' 'Jan-1953'\n",
      " 'Jan-1957' 'Apr-1961' 'Mar-1969' 'Apr-1969' 'Feb-1966' 'Jul-1959'\n",
      " 'Aug-1964' 'Feb-1963' 'Jan-1952' 'Jun-1966' 'Nov-1966' 'Mar-1971'\n",
      " 'Feb-1964' 'Aug-1963' 'Nov-1967' 'Aug-1959' 'May-1964' 'Feb-1965'\n",
      " 'Jun-1957' 'Nov-1959' 'Mar-1962' 'Nov-1964' 'Jan-1958' 'Nov-1961'\n",
      " 'Apr-1934' 'Dec-1967' 'Jun-1962' 'May-1962' 'Oct-1961' 'Jul-1966'\n",
      " 'Apr-1963' 'Oct-1960' 'Feb-1961' 'Dec-1946' 'Jul-1961' 'Jun-1963'\n",
      " 'May-1960' 'Apr-1960' 'Jul-1958' 'Jan-1950' 'Aug-1941' 'Nov-1960'\n",
      " 'Sep-1961' 'Apr-1962' 'Jun-1960' 'May-1961' 'Mar-1964' 'Nov-1963'\n",
      " 'Feb-1960' 'May-1958' 'Jun-1959' 'Mar-1963' 'May-1963' 'Aug-1953'\n",
      " 'Nov-1957' 'Sep-1963' 'Mar-1955' 'Feb-1962' 'Jul-1962' 'Nov-1962'\n",
      " 'Aug-1960' 'Sep-1962' 'May-1959' 'Jun-1952' 'Feb-1934' 'Jan-1948'\n",
      " 'Jul-1951' 'Mar-1954' 'Aug-1958' 'Dec-1959' 'Jun-1961' 'Nov-1952'\n",
      " 'Jul-1952' 'Dec-1958' 'Dec-1963' 'Mar-1959' 'Apr-1955']\n",
      "\n",
      "initial_list_status\n",
      "['w' 'f']\n",
      "\n",
      "last_pymnt_d\n",
      "['Dec-2017' 'Sep-2016' 'Jun-2017' 'Nov-2017' 'Mar-2017' 'May-2017'\n",
      " 'Oct-2017' 'Apr-2017' 'Dec-2016' 'Jan-2017' 'Sep-2017' 'Jun-2016'\n",
      " 'Jul-2017' 'Oct-2016' 'Apr-2016' nan 'May-2016' 'Aug-2017' 'Feb-2017'\n",
      " 'Nov-2016' 'Jul-2016' 'Mar-2016' 'Aug-2016' 'Jan-2016' 'Feb-2016']\n",
      "\n",
      "next_pymnt_d\n",
      "['Jan-2018' nan 'Dec-2017' 'Feb-2018']\n",
      "\n",
      "last_credit_pull_d\n",
      "['Dec-2017' 'Feb-2017' 'Oct-2017' 'Aug-2017' 'Nov-2017' 'Jun-2017'\n",
      " 'May-2016' 'Sep-2017' 'May-2017' 'Nov-2016' 'Jan-2017' 'Jul-2017'\n",
      " 'Mar-2017' 'Apr-2017' 'Oct-2016' 'Dec-2016' 'Jul-2016' 'Aug-2016'\n",
      " 'Sep-2016' 'Jun-2016' 'Mar-2016' 'Apr-2016' 'Feb-2016' nan 'Dec-2015'\n",
      " 'Jan-2016']\n",
      "\n",
      "application_type\n",
      "['Individual' 'Joint App']\n",
      "\n"
     ]
    }
   ],
   "source": [
    "for col in X_train.select_dtypes(include= ['object', 'bool']).columns:\n",
    "  print(col)\n",
    "  print(X_train[col].unique())\n",
    "  print()"
   ]
  },
  {
   "cell_type": "code",
   "execution_count": 26,
   "metadata": {},
   "outputs": [],
   "source": [
    "col_need_to_clean = ['term', 'emp_length', 'issue_d', 'earliest_cr_line', 'last_pymnt_d', \n",
    "                     'next_pymnt_d', 'last_credit_pull_d']"
   ]
  },
  {
   "cell_type": "code",
   "execution_count": 27,
   "metadata": {},
   "outputs": [
    {
     "data": {
      "text/plain": [
       "array(['60 months', '36 months'], dtype=object)"
      ]
     },
     "execution_count": 27,
     "metadata": {},
     "output_type": "execute_result"
    }
   ],
   "source": [
    "X_train['term'].unique()"
   ]
  },
  {
   "cell_type": "code",
   "execution_count": 28,
   "metadata": {},
   "outputs": [
    {
     "data": {
      "text/plain": [
       "84486     60\n",
       "37123     60\n",
       "150429    36\n",
       "649359    60\n",
       "38987     60\n",
       "          ..\n",
       "620130    36\n",
       "469068    36\n",
       "708616    36\n",
       "10601     36\n",
       "726539    60\n",
       "Name: term, Length: 607470, dtype: int64"
      ]
     },
     "execution_count": 28,
     "metadata": {},
     "output_type": "execute_result"
    }
   ],
   "source": [
    "pd.to_numeric(X_train['term'].str.replace('months', ''))"
   ]
  },
  {
   "cell_type": "code",
   "execution_count": 29,
   "metadata": {},
   "outputs": [],
   "source": [
    "X_train['term'] = pd.to_numeric(X_train['term'].str.replace('months', ''))"
   ]
  },
  {
   "cell_type": "code",
   "execution_count": 30,
   "metadata": {},
   "outputs": [
    {
     "data": {
      "text/plain": [
       "84486     60\n",
       "37123     60\n",
       "150429    36\n",
       "649359    60\n",
       "38987     60\n",
       "          ..\n",
       "620130    36\n",
       "469068    36\n",
       "708616    36\n",
       "10601     36\n",
       "726539    60\n",
       "Name: term, Length: 607470, dtype: int64"
      ]
     },
     "execution_count": 30,
     "metadata": {},
     "output_type": "execute_result"
    }
   ],
   "source": [
    "X_train['term']"
   ]
  },
  {
   "cell_type": "code",
   "execution_count": 31,
   "metadata": {},
   "outputs": [
    {
     "data": {
      "text/plain": [
       "array(['4 years', '10+ years', '3 years', '< 1 year', '2 years',\n",
       "       '9 years', '6 years', '1 year', '8 years', nan, '7 years',\n",
       "       '5 years'], dtype=object)"
      ]
     },
     "execution_count": 31,
     "metadata": {},
     "output_type": "execute_result"
    }
   ],
   "source": [
    "X_train['emp_length'].unique()"
   ]
  },
  {
   "cell_type": "code",
   "execution_count": 32,
   "metadata": {},
   "outputs": [],
   "source": [
    "X_train['emp_length'] = X_train['emp_length'].str.replace('+ years', '')\n",
    "X_train['emp_length'] = X_train['emp_length'].str.replace(' years', '')\n",
    "X_train['emp_length'] = X_train['emp_length'].str.replace('< 1 year', str(0))\n",
    "X_train['emp_length'] = X_train['emp_length'].str.replace(' year', '')\n",
    "\n",
    "X_train['emp_length'] = X_train['emp_length'].fillna(0)"
   ]
  },
  {
   "cell_type": "code",
   "execution_count": 33,
   "metadata": {},
   "outputs": [],
   "source": [
    "X_train['emp_length'] = pd.to_numeric(X_train['emp_length'])"
   ]
  },
  {
   "cell_type": "code",
   "execution_count": 34,
   "metadata": {},
   "outputs": [
    {
     "data": {
      "text/plain": [
       "84486      4\n",
       "37123     10\n",
       "150429     4\n",
       "649359     3\n",
       "38987      0\n",
       "          ..\n",
       "620130     8\n",
       "469068    10\n",
       "708616    10\n",
       "10601      4\n",
       "726539     2\n",
       "Name: emp_length, Length: 607470, dtype: int64"
      ]
     },
     "execution_count": 34,
     "metadata": {},
     "output_type": "execute_result"
    }
   ],
   "source": [
    "X_train['emp_length']"
   ]
  },
  {
   "cell_type": "code",
   "execution_count": 35,
   "metadata": {},
   "outputs": [
    {
     "data": {
      "text/html": [
       "<div>\n",
       "<style scoped>\n",
       "    .dataframe tbody tr th:only-of-type {\n",
       "        vertical-align: middle;\n",
       "    }\n",
       "\n",
       "    .dataframe tbody tr th {\n",
       "        vertical-align: top;\n",
       "    }\n",
       "\n",
       "    .dataframe thead th {\n",
       "        text-align: right;\n",
       "    }\n",
       "</style>\n",
       "<table border=\"1\" class=\"dataframe\">\n",
       "  <thead>\n",
       "    <tr style=\"text-align: right;\">\n",
       "      <th></th>\n",
       "      <th>issue_d</th>\n",
       "      <th>earliest_cr_line</th>\n",
       "      <th>last_pymnt_d</th>\n",
       "      <th>next_pymnt_d</th>\n",
       "      <th>last_credit_pull_d</th>\n",
       "    </tr>\n",
       "  </thead>\n",
       "  <tbody>\n",
       "    <tr>\n",
       "      <th>84486</th>\n",
       "      <td>Apr-2017</td>\n",
       "      <td>Aug-1995</td>\n",
       "      <td>Dec-2017</td>\n",
       "      <td>Jan-2018</td>\n",
       "      <td>Dec-2017</td>\n",
       "    </tr>\n",
       "    <tr>\n",
       "      <th>37123</th>\n",
       "      <td>Jun-2017</td>\n",
       "      <td>Sep-1987</td>\n",
       "      <td>Dec-2017</td>\n",
       "      <td>Jan-2018</td>\n",
       "      <td>Dec-2017</td>\n",
       "    </tr>\n",
       "    <tr>\n",
       "      <th>150429</th>\n",
       "      <td>Feb-2017</td>\n",
       "      <td>Oct-2006</td>\n",
       "      <td>Dec-2017</td>\n",
       "      <td>Jan-2018</td>\n",
       "      <td>Dec-2017</td>\n",
       "    </tr>\n",
       "    <tr>\n",
       "      <th>649359</th>\n",
       "      <td>Mar-2016</td>\n",
       "      <td>Mar-2011</td>\n",
       "      <td>Sep-2016</td>\n",
       "      <td>NaN</td>\n",
       "      <td>Feb-2017</td>\n",
       "    </tr>\n",
       "    <tr>\n",
       "      <th>38987</th>\n",
       "      <td>May-2017</td>\n",
       "      <td>Sep-2012</td>\n",
       "      <td>Dec-2017</td>\n",
       "      <td>Jan-2018</td>\n",
       "      <td>Dec-2017</td>\n",
       "    </tr>\n",
       "    <tr>\n",
       "      <th>...</th>\n",
       "      <td>...</td>\n",
       "      <td>...</td>\n",
       "      <td>...</td>\n",
       "      <td>...</td>\n",
       "      <td>...</td>\n",
       "    </tr>\n",
       "    <tr>\n",
       "      <th>620130</th>\n",
       "      <td>Oct-2016</td>\n",
       "      <td>Aug-1988</td>\n",
       "      <td>Dec-2017</td>\n",
       "      <td>Jan-2018</td>\n",
       "      <td>Dec-2017</td>\n",
       "    </tr>\n",
       "    <tr>\n",
       "      <th>469068</th>\n",
       "      <td>May-2016</td>\n",
       "      <td>Dec-1997</td>\n",
       "      <td>Oct-2017</td>\n",
       "      <td>NaN</td>\n",
       "      <td>Oct-2017</td>\n",
       "    </tr>\n",
       "    <tr>\n",
       "      <th>708616</th>\n",
       "      <td>Feb-2016</td>\n",
       "      <td>Feb-2003</td>\n",
       "      <td>Nov-2016</td>\n",
       "      <td>NaN</td>\n",
       "      <td>Jul-2017</td>\n",
       "    </tr>\n",
       "    <tr>\n",
       "      <th>10601</th>\n",
       "      <td>Jun-2017</td>\n",
       "      <td>May-1999</td>\n",
       "      <td>Dec-2017</td>\n",
       "      <td>Jan-2018</td>\n",
       "      <td>Dec-2017</td>\n",
       "    </tr>\n",
       "    <tr>\n",
       "      <th>726539</th>\n",
       "      <td>Jan-2016</td>\n",
       "      <td>Apr-2002</td>\n",
       "      <td>Dec-2017</td>\n",
       "      <td>Jan-2018</td>\n",
       "      <td>Dec-2017</td>\n",
       "    </tr>\n",
       "  </tbody>\n",
       "</table>\n",
       "<p>607470 rows × 5 columns</p>\n",
       "</div>"
      ],
      "text/plain": [
       "         issue_d earliest_cr_line last_pymnt_d next_pymnt_d last_credit_pull_d\n",
       "84486   Apr-2017         Aug-1995     Dec-2017     Jan-2018           Dec-2017\n",
       "37123   Jun-2017         Sep-1987     Dec-2017     Jan-2018           Dec-2017\n",
       "150429  Feb-2017         Oct-2006     Dec-2017     Jan-2018           Dec-2017\n",
       "649359  Mar-2016         Mar-2011     Sep-2016          NaN           Feb-2017\n",
       "38987   May-2017         Sep-2012     Dec-2017     Jan-2018           Dec-2017\n",
       "...          ...              ...          ...          ...                ...\n",
       "620130  Oct-2016         Aug-1988     Dec-2017     Jan-2018           Dec-2017\n",
       "469068  May-2016         Dec-1997     Oct-2017          NaN           Oct-2017\n",
       "708616  Feb-2016         Feb-2003     Nov-2016          NaN           Jul-2017\n",
       "10601   Jun-2017         May-1999     Dec-2017     Jan-2018           Dec-2017\n",
       "726539  Jan-2016         Apr-2002     Dec-2017     Jan-2018           Dec-2017\n",
       "\n",
       "[607470 rows x 5 columns]"
      ]
     },
     "execution_count": 35,
     "metadata": {},
     "output_type": "execute_result"
    }
   ],
   "source": [
    "col_date = ['issue_d', 'earliest_cr_line', 'last_pymnt_d', 'next_pymnt_d', 'last_credit_pull_d']\n",
    "X_train[col_date]"
   ]
  },
  {
   "cell_type": "code",
   "execution_count": 36,
   "metadata": {},
   "outputs": [
    {
     "name": "stderr",
     "output_type": "stream",
     "text": [
      "C:\\Users\\USER\\AppData\\Local\\Temp\\ipykernel_13824\\2585870489.py:1: UserWarning: Could not infer format, so each element will be parsed individually, falling back to `dateutil`. To ensure parsing is consistent and as-expected, please specify a format.\n",
      "  X_train['issue_d'] = pd.to_datetime(X_train['issue_d'])\n"
     ]
    }
   ],
   "source": [
    "X_train['issue_d'] = pd.to_datetime(X_train['issue_d'])"
   ]
  },
  {
   "cell_type": "code",
   "execution_count": 37,
   "metadata": {},
   "outputs": [
    {
     "data": {
      "text/plain": [
       "84486    2017-04-01\n",
       "37123    2017-06-01\n",
       "150429   2017-02-01\n",
       "649359   2016-03-01\n",
       "38987    2017-05-01\n",
       "            ...    \n",
       "620130   2016-10-01\n",
       "469068   2016-05-01\n",
       "708616   2016-02-01\n",
       "10601    2017-06-01\n",
       "726539   2016-01-01\n",
       "Name: issue_d, Length: 607470, dtype: datetime64[ns]"
      ]
     },
     "execution_count": 37,
     "metadata": {},
     "output_type": "execute_result"
    }
   ],
   "source": [
    "X_train['issue_d']"
   ]
  },
  {
   "cell_type": "code",
   "execution_count": 38,
   "metadata": {},
   "outputs": [
    {
     "name": "stderr",
     "output_type": "stream",
     "text": [
      "C:\\Users\\USER\\AppData\\Local\\Temp\\ipykernel_13824\\2317582935.py:2: UserWarning: Could not infer format, so each element will be parsed individually, falling back to `dateutil`. To ensure parsing is consistent and as-expected, please specify a format.\n",
      "  X_train[col] = pd.to_datetime(X_train[col])\n",
      "C:\\Users\\USER\\AppData\\Local\\Temp\\ipykernel_13824\\2317582935.py:2: UserWarning: Could not infer format, so each element will be parsed individually, falling back to `dateutil`. To ensure parsing is consistent and as-expected, please specify a format.\n",
      "  X_train[col] = pd.to_datetime(X_train[col])\n",
      "C:\\Users\\USER\\AppData\\Local\\Temp\\ipykernel_13824\\2317582935.py:2: UserWarning: Could not infer format, so each element will be parsed individually, falling back to `dateutil`. To ensure parsing is consistent and as-expected, please specify a format.\n",
      "  X_train[col] = pd.to_datetime(X_train[col])\n",
      "C:\\Users\\USER\\AppData\\Local\\Temp\\ipykernel_13824\\2317582935.py:2: UserWarning: Could not infer format, so each element will be parsed individually, falling back to `dateutil`. To ensure parsing is consistent and as-expected, please specify a format.\n",
      "  X_train[col] = pd.to_datetime(X_train[col])\n"
     ]
    }
   ],
   "source": [
    "for col in col_date:\n",
    "    X_train[col] = pd.to_datetime(X_train[col])"
   ]
  },
  {
   "cell_type": "code",
   "execution_count": 39,
   "metadata": {},
   "outputs": [
    {
     "data": {
      "text/html": [
       "<div>\n",
       "<style scoped>\n",
       "    .dataframe tbody tr th:only-of-type {\n",
       "        vertical-align: middle;\n",
       "    }\n",
       "\n",
       "    .dataframe tbody tr th {\n",
       "        vertical-align: top;\n",
       "    }\n",
       "\n",
       "    .dataframe thead th {\n",
       "        text-align: right;\n",
       "    }\n",
       "</style>\n",
       "<table border=\"1\" class=\"dataframe\">\n",
       "  <thead>\n",
       "    <tr style=\"text-align: right;\">\n",
       "      <th></th>\n",
       "      <th>issue_d</th>\n",
       "      <th>earliest_cr_line</th>\n",
       "      <th>last_pymnt_d</th>\n",
       "      <th>next_pymnt_d</th>\n",
       "      <th>last_credit_pull_d</th>\n",
       "    </tr>\n",
       "  </thead>\n",
       "  <tbody>\n",
       "    <tr>\n",
       "      <th>84486</th>\n",
       "      <td>2017-04-01</td>\n",
       "      <td>1995-08-01</td>\n",
       "      <td>2017-12-01</td>\n",
       "      <td>2018-01-01</td>\n",
       "      <td>2017-12-01</td>\n",
       "    </tr>\n",
       "    <tr>\n",
       "      <th>37123</th>\n",
       "      <td>2017-06-01</td>\n",
       "      <td>1987-09-01</td>\n",
       "      <td>2017-12-01</td>\n",
       "      <td>2018-01-01</td>\n",
       "      <td>2017-12-01</td>\n",
       "    </tr>\n",
       "    <tr>\n",
       "      <th>150429</th>\n",
       "      <td>2017-02-01</td>\n",
       "      <td>2006-10-01</td>\n",
       "      <td>2017-12-01</td>\n",
       "      <td>2018-01-01</td>\n",
       "      <td>2017-12-01</td>\n",
       "    </tr>\n",
       "    <tr>\n",
       "      <th>649359</th>\n",
       "      <td>2016-03-01</td>\n",
       "      <td>2011-03-01</td>\n",
       "      <td>2016-09-01</td>\n",
       "      <td>NaT</td>\n",
       "      <td>2017-02-01</td>\n",
       "    </tr>\n",
       "    <tr>\n",
       "      <th>38987</th>\n",
       "      <td>2017-05-01</td>\n",
       "      <td>2012-09-01</td>\n",
       "      <td>2017-12-01</td>\n",
       "      <td>2018-01-01</td>\n",
       "      <td>2017-12-01</td>\n",
       "    </tr>\n",
       "    <tr>\n",
       "      <th>...</th>\n",
       "      <td>...</td>\n",
       "      <td>...</td>\n",
       "      <td>...</td>\n",
       "      <td>...</td>\n",
       "      <td>...</td>\n",
       "    </tr>\n",
       "    <tr>\n",
       "      <th>620130</th>\n",
       "      <td>2016-10-01</td>\n",
       "      <td>1988-08-01</td>\n",
       "      <td>2017-12-01</td>\n",
       "      <td>2018-01-01</td>\n",
       "      <td>2017-12-01</td>\n",
       "    </tr>\n",
       "    <tr>\n",
       "      <th>469068</th>\n",
       "      <td>2016-05-01</td>\n",
       "      <td>1997-12-01</td>\n",
       "      <td>2017-10-01</td>\n",
       "      <td>NaT</td>\n",
       "      <td>2017-10-01</td>\n",
       "    </tr>\n",
       "    <tr>\n",
       "      <th>708616</th>\n",
       "      <td>2016-02-01</td>\n",
       "      <td>2003-02-01</td>\n",
       "      <td>2016-11-01</td>\n",
       "      <td>NaT</td>\n",
       "      <td>2017-07-01</td>\n",
       "    </tr>\n",
       "    <tr>\n",
       "      <th>10601</th>\n",
       "      <td>2017-06-01</td>\n",
       "      <td>1999-05-01</td>\n",
       "      <td>2017-12-01</td>\n",
       "      <td>2018-01-01</td>\n",
       "      <td>2017-12-01</td>\n",
       "    </tr>\n",
       "    <tr>\n",
       "      <th>726539</th>\n",
       "      <td>2016-01-01</td>\n",
       "      <td>2002-04-01</td>\n",
       "      <td>2017-12-01</td>\n",
       "      <td>2018-01-01</td>\n",
       "      <td>2017-12-01</td>\n",
       "    </tr>\n",
       "  </tbody>\n",
       "</table>\n",
       "<p>607470 rows × 5 columns</p>\n",
       "</div>"
      ],
      "text/plain": [
       "          issue_d earliest_cr_line last_pymnt_d next_pymnt_d  \\\n",
       "84486  2017-04-01       1995-08-01   2017-12-01   2018-01-01   \n",
       "37123  2017-06-01       1987-09-01   2017-12-01   2018-01-01   \n",
       "150429 2017-02-01       2006-10-01   2017-12-01   2018-01-01   \n",
       "649359 2016-03-01       2011-03-01   2016-09-01          NaT   \n",
       "38987  2017-05-01       2012-09-01   2017-12-01   2018-01-01   \n",
       "...           ...              ...          ...          ...   \n",
       "620130 2016-10-01       1988-08-01   2017-12-01   2018-01-01   \n",
       "469068 2016-05-01       1997-12-01   2017-10-01          NaT   \n",
       "708616 2016-02-01       2003-02-01   2016-11-01          NaT   \n",
       "10601  2017-06-01       1999-05-01   2017-12-01   2018-01-01   \n",
       "726539 2016-01-01       2002-04-01   2017-12-01   2018-01-01   \n",
       "\n",
       "       last_credit_pull_d  \n",
       "84486          2017-12-01  \n",
       "37123          2017-12-01  \n",
       "150429         2017-12-01  \n",
       "649359         2017-02-01  \n",
       "38987          2017-12-01  \n",
       "...                   ...  \n",
       "620130         2017-12-01  \n",
       "469068         2017-10-01  \n",
       "708616         2017-07-01  \n",
       "10601          2017-12-01  \n",
       "726539         2017-12-01  \n",
       "\n",
       "[607470 rows x 5 columns]"
      ]
     },
     "execution_count": 39,
     "metadata": {},
     "output_type": "execute_result"
    }
   ],
   "source": [
    "X_train[col_date]"
   ]
  },
  {
   "cell_type": "code",
   "execution_count": 40,
   "metadata": {},
   "outputs": [
    {
     "name": "stdout",
     "output_type": "stream",
     "text": [
      "term\n",
      "['36 months' '60 months']\n",
      "\n",
      "grade\n",
      "['C' 'D' 'A' 'B' 'E' 'F' 'G']\n",
      "\n",
      "sub_grade\n",
      "['C1' 'D3' 'A4' 'D2' 'B4' 'C5' 'A5' 'D5' 'B2' 'D1' 'C2' 'B3' 'E2' 'B1'\n",
      " 'D4' 'C3' 'E3' 'A1' 'F1' 'C4' 'A3' 'E5' 'B5' 'F4' 'G5' 'A2' 'E1' 'E4'\n",
      " 'G4' 'G1' 'F2' 'F3' 'F5' 'G3' 'G2']\n",
      "\n",
      "emp_title\n",
      "['Collections' 'Licensed Practical Nurse' 'Director of Sales & Marketing'\n",
      " ... 'Training and Development officer' 'Assistant Corporation Counsel'\n",
      " 'Piano Instructor']\n",
      "\n",
      "emp_length\n",
      "['1 year' '10+ years' '3 years' nan '2 years' '5 years' '6 years'\n",
      " '< 1 year' '4 years' '9 years' '8 years' '7 years']\n",
      "\n",
      "home_ownership\n",
      "['MORTGAGE' 'RENT' 'OWN' 'ANY']\n",
      "\n",
      "verification_status\n",
      "['Source Verified' 'Not Verified' 'Verified']\n",
      "\n",
      "issue_d\n",
      "['Oct-2016' 'May-2016' 'Feb-2017' 'Mar-2016' 'Jul-2017' 'Aug-2016'\n",
      " 'Jan-2017' 'Apr-2017' 'Feb-2016' 'May-2017' 'Jan-2016' 'Sep-2017'\n",
      " 'Aug-2017' 'Apr-2016' 'Mar-2017' 'Dec-2016' 'Jun-2016' 'Jul-2016'\n",
      " 'Nov-2016' 'Jun-2017' 'Sep-2016']\n",
      "\n",
      "loan_status\n",
      "['Current' 'Late (31-120 days)' 'Fully Paid' 'Charged Off'\n",
      " 'In Grace Period' 'Late (16-30 days)' 'Default']\n",
      "\n",
      "pymnt_plan\n",
      "['n' 'y']\n",
      "\n",
      "purpose\n",
      "['debt_consolidation' 'home_improvement' 'credit_card' 'medical'\n",
      " 'vacation' 'other' 'car' 'major_purchase' 'small_business' 'moving'\n",
      " 'house' 'renewable_energy']\n",
      "\n",
      "title\n",
      "['Debt consolidation' 'Home improvement' 'Credit card refinancing' 'Other'\n",
      " 'Medical expenses' 'Vacation' nan 'Car financing' 'Major purchase'\n",
      " 'Business' 'Moving and relocation' 'Home buying' 'Green loan'\n",
      " 'Credit Card Consolidation']\n",
      "\n",
      "zip_code\n",
      "['386xx' '182xx' '564xx' '813xx' '100xx' '070xx' '043xx' '782xx' '368xx'\n",
      " '492xx' '104xx' '475xx' '207xx' '301xx' '656xx' '604xx' '334xx' '432xx'\n",
      " '774xx' '936xx' '921xx' '895xx' '370xx' '276xx' '217xx' '336xx' '750xx'\n",
      " '787xx' '926xx' '906xx' '112xx' '574xx' '770xx' '272xx' '891xx' '840xx'\n",
      " '303xx' '972xx' '773xx' '313xx' '349xx' '851xx' '630xx' '933xx' '194xx'\n",
      " '221xx' '982xx' '800xx' '945xx' '028xx' '218xx' '331xx' '788xx' '060xx'\n",
      " '431xx' '297xx' '580xx' '956xx' '781xx' '322xx' '041xx' '329xx' '902xx'\n",
      " '480xx' '191xx' '327xx' '212xx' '606xx' '985xx' '908xx' '286xx' '280xx'\n",
      " '760xx' '850xx' '463xx' '923xx' '802xx' '310xx' '302xx' '836xx' '357xx'\n",
      " '451xx' '160xx' '337xx' '613xx' '765xx' '442xx' '080xx' '339xx' '201xx'\n",
      " '843xx' '321xx' '165xx' '021xx' '323xx' '352xx' '797xx' '775xx' '482xx'\n",
      " '038xx' '890xx' '550xx' '953xx' '074xx' '970xx' '113xx' '852xx' '225xx'\n",
      " '785xx' '381xx' '786xx' '967xx' '917xx' '114xx' '111xx' '928xx' '127xx'\n",
      " '121xx' '959xx' '085xx' '064xx' '767xx' '622xx' '300xx' '588xx' '717xx'\n",
      " '617xx' '983xx' '371xx' '919xx' '377xx' '335xx' '484xx' '307xx' '063xx'\n",
      " '801xx' '324xx' '952xx' '210xx' '856xx' '439xx' '234xx' '900xx' '430xx'\n",
      " '088xx' '853xx' '076xx' '559xx' '752xx' '328xx' '020xx' '117xx' '365xx'\n",
      " '379xx' '405xx' '298xx' '598xx' '610xx' '380xx' '624xx' '441xx' '232xx'\n",
      " '680xx' '320xx' '685xx' '600xx' '330xx' '103xx' '701xx' '138xx' '450xx'\n",
      " '762xx' '238xx' '240xx' '383xx' '735xx' '363xx' '925xx' '483xx' '805xx'\n",
      " '344xx' '954xx' '010xx' '185xx' '211xx' '941xx' '557xx' '913xx' '124xx'\n",
      " '940xx' '530xx' '488xx' '553xx' '710xx' '783xx' '700xx' '743xx' '282xx'\n",
      " '971xx' '030xx' '312xx' '995xx' '134xx' '350xx' '308xx' '922xx' '180xx'\n",
      " '489xx' '605xx' '481xx' '304xx' '780xx' '633xx' '120xx' '067xx' '467xx'\n",
      " '461xx' '078xx' '820xx' '434xx' '019xx' '454xx' '169xx' '587xx' '968xx'\n",
      " '705xx' '547xx' '490xx' '342xx' '870xx' '932xx' '730xx' '601xx' '384xx'\n",
      " '931xx' '672xx' '116xx' '758xx' '107xx' '615xx' '421xx' '145xx' '631xx'\n",
      " '799xx' '532xx' '150xx' '871xx' '326xx' '444xx' '575xx' '195xx' '136xx'\n",
      " '378xx' '372xx' '927xx' '563xx' '859xx' '980xx' '285xx' '443xx' '424xx'\n",
      " '246xx' '156xx' '187xx' '296xx' '382xx' '125xx' '373xx' '440xx' '315xx'\n",
      " '325xx' '270xx' '472xx' '338xx' '105xx' '827xx' '231xx' '658xx' '029xx'\n",
      " '031xx' '960xx' '190xx' '275xx' '554xx' '614xx' '446xx' '855xx' '109xx'\n",
      " '333xx' '565xx' '864xx' '208xx' '068xx' '396xx' '410xx' '172xx' '946xx'\n",
      " '452xx' '720xx' '749xx' '670xx' '073xx' '456xx' '920xx' '265xx' '741xx'\n",
      " '129xx' '671xx' '110xx' '706xx' '464xx' '707xx' '183xx' '623xx' '660xx'\n",
      " '479xx' '577xx' '693xx' '140xx' '151xx' '291xx' '146xx' '077xx' '534xx'\n",
      " '930xx' '462xx' '761xx' '360xx' '295xx' '235xx' '582xx' '294xx' '712xx'\n",
      " '292xx' '551xx' '478xx' '756xx' '944xx' '376xx' '155xx' '176xx' '950xx'\n",
      " '934xx' '727xx' '540xx' '200xx' '126xx' '061xx' '224xx' '809xx' '254xx'\n",
      " '306xx' '027xx' '273xx' '674xx' '228xx' '721xx' '065xx' '394xx' '591xx'\n",
      " '935xx' '170xx' '681xx' '071xx' '045xx' '951xx' '435xx' '119xx' '838xx'\n",
      " '152xx' '347xx' '597xx' '162xx' '834xx' '193xx' '857xx' '640xx' '387xx'\n",
      " '351xx' '704xx' '907xx' '082xx' '319xx' '402xx' '629xx' '778xx' '293xx'\n",
      " '988xx' '346xx' '283xx' '714xx' '538xx' '017xx' '199xx' '724xx' '362xx'\n",
      " '469xx' '662xx' '223xx' '445xx' '841xx' '142xx' '981xx' '903xx' '822xx'\n",
      " '453xx' '544xx' '875xx' '023xx' '407xx' '460xx' '361xx' '844xx' '751xx'\n",
      " '491xx' '284xx' '163xx' '144xx' '955xx' '731xx' '167xx' '128xx' '612xx'\n",
      " '571xx' '226xx' '466xx' '115xx' '465xx' '477xx' '230xx' '018xx' '949xx'\n",
      " '062xx' '703xx' '305xx' '122xx' '826xx' '719xx' '609xx' '993xx' '558xx'\n",
      " '013xx' '914xx' '611xx' '385xx' '657xx' '860xx' '198xx' '653xx' '087xx'\n",
      " '025xx' '726xx' '299xx' '539xx' '740xx' '986xx' '957xx' '897xx' '161xx'\n",
      " '823xx' '420xx' '763xx' '173xx' '880xx' '106xx' '220xx' '415xx' '016xx'\n",
      " '026xx' '281xx' '066xx' '374xx' '847xx' '390xx' '757xx' '277xx' '673xx'\n",
      " '777xx' '667xx' '024xx' '403xx' '784xx' '608xx' '493xx' '616xx' '159xx'\n",
      " '837xx' '398xx' '474xx' '209xx' '436xx' '744xx' '984xx' '356xx' '130xx'\n",
      " '287xx' '664xx' '153xx' '494xx' '015xx' '973xx' '448xx' '560xx' '618xx'\n",
      " '206xx' '354xx' '495xx' '766xx' '395xx' '810xx' '958xx' '079xx' '905xx'\n",
      " '366xx' '531xx' '796xx' '722xx' '392xx' '164xx' '737xx' '548xx' '683xx'\n",
      " '654xx' '865xx' '069xx' '594xx' '271xx' '037xx' '054xx' '414xx' '535xx'\n",
      " '546xx' '806xx' '423xx' '711xx' '990xx' '171xx' '543xx' '341xx' '996xx'\n",
      " '014xx' '549xx' '537xx' '602xx' '915xx' '910xx' '794xx' '924xx' '562xx'\n",
      " '131xx' '148xx' '468xx' '241xx' '992xx' '898xx' '641xx' '236xx' '400xx'\n",
      " '939xx' '487xx' '473xx' '058xx' '189xx' '274xx' '675xx' '831xx' '222xx'\n",
      " '486xx' '567xx' '628xx' '244xx' '790xx' '149xx' '051xx' '288xx' '747xx'\n",
      " '072xx' '178xx' '748xx' '034xx' '233xx' '974xx' '216xx' '239xx' '754xx'\n",
      " '746xx' '652xx' '989xx' '317xx' '937xx' '245xx' '044xx' '607xx' '314xx'\n",
      " '647xx' '496xx' '677xx' '143xx' '816xx' '242xx' '894xx' '427xx' '804xx'\n",
      " '416xx' '243xx' '723xx' '075xx' '011xx' '147xx' '768xx' '497xx' '811xx'\n",
      " '791xx' '815xx' '229xx' '745xx' '883xx' '729xx' '186xx' '997xx' '139xx'\n",
      " '824xx' '086xx' '141xx' '290xx' '678xx' '603xx' '498xx' '829xx' '458xx'\n",
      " '389xx' '422xx' '975xx' '977xx' '625xx' '586xx' '123xx' '108xx' '052xx'\n",
      " '433xx' '391xx' '545xx' '948xx' '318xx' '863xx' '961xx' '619xx' '814xx'\n",
      " '584xx' '583xx' '278xx' '666xx' '101xx' '158xx' '118xx' '012xx' '359xx'\n",
      " '047xx' '542xx' '541xx' '174xx' '039xx' '502xx' '268xx' '626xx' '779xx'\n",
      " '648xx' '309xx' '406xx' '197xx' '620xx' '776xx' '759xx' '132xx' '175xx'\n",
      " '645xx' '873xx' '133xx' '355xx' '644xx' '412xx' '471xx' '137xx' '593xx'\n",
      " '457xx' '916xx' '728xx' '033xx' '947xx' '636xx' '713xx' '393xx' '279xx'\n",
      " '918xx' '581xx' '413xx' '689xx' '397xx' '912xx' '476xx' '585xx' '083xx'\n",
      " '708xx' '978xx' '470xx' '572xx' '881xx' '032xx' '638xx' '411xx' '166xx'\n",
      " '755xx' '976xx' '650xx' '316xx' '358xx' '089xx' '438xx' '154xx' '904xx'\n",
      " '092xx' '437xx' '184xx' '793xx' '691xx' '214xx' '485xx' '056xx' '979xx'\n",
      " '874xx' '040xx' '627xx' '686xx' '036xx' '057xx' '911xx' '676xx' '090xx'\n",
      " '409xx' '408xx' '046xx' '832xx' '455xx' '882xx' '655xx' '764xx' '803xx'\n",
      " '084xx' '168xx' '825xx' '081xx' '570xx' '042xx' '991xx' '447xx' '634xx'\n",
      " '401xx' '157xx' '716xx' '566xx' '049xx' '340xx' '665xx' '177xx' '795xx'\n",
      " '261xx' '260xx' '807xx' '499xx' '812xx' '828xx' '053xx' '267xx' '808xx'\n",
      " '592xx' '219xx' '367xx' '102xx' '846xx' '718xx' '590xx' '687xx' '725xx'\n",
      " '661xx' '255xx' '196xx' '135xx' '388xx' '639xx' '835xx' '646xx' '734xx'\n",
      " '769xx' '247xx' '599xx' '404xx' '264xx' '253xx' '050xx' '449xx' '425xx'\n",
      " '688xx' '668xx' '181xx' '179xx' '651xx' '227xx' '998xx' '999xx' '739xx'\n",
      " '596xx' '561xx' '215xx' '943xx' '789xx' '679xx' '845xx' '595xx' '048xx'\n",
      " '637xx' '237xx' '893xx' '684xx' '188xx' '692xx' '022xx' '035xx' '573xx'\n",
      " '258xx' '690xx' '738xx' '252xx' '833xx' '994xx' '772xx' '251xx' '576xx'\n",
      " '798xx' '426xx' '753xx' '877xx' '556xx' '364xx' '965xx' '009xx' '736xx'\n",
      " '884xx' '879xx' '635xx' '792xx' '263xx' '059xx' '257xx' '289xx' '259xx'\n",
      " '369xx' '332xx' '963xx' '417xx' '250xx' '669xx' '262xx' '097xx' '348xx'\n",
      " '418xx' '698xx' '249xx' '256xx' '821xx' '830xx' '353xx' '854xx' '569xx'\n",
      " '515xx' '098xx' '878xx' '091xx' '096xx' '872xx' '094xx' '203xx' '248xx'\n",
      " '696xx' '552xx' '969xx' '942xx']\n",
      "\n",
      "addr_state\n",
      "['MS' 'PA' 'MN' 'CO' 'NY' 'NJ' 'ME' 'TX' 'AL' 'MI' 'IN' 'MD' 'GA' 'MO'\n",
      " 'IL' 'FL' 'OH' 'CA' 'NV' 'TN' 'NC' 'SD' 'UT' 'OR' 'AZ' 'VA' 'WA' 'RI'\n",
      " 'CT' 'SC' 'ND' 'ID' 'MA' 'NH' 'HI' 'AR' 'KY' 'MT' 'NE' 'LA' 'OK' 'WI'\n",
      " 'AK' 'WY' 'NM' 'KS' 'WV' 'DC' 'DE' 'VT']\n",
      "\n",
      "earliest_cr_line\n",
      "['Oct-2002' 'Apr-2000' 'Oct-2003' 'Feb-1998' 'Dec-1993' 'Nov-2009'\n",
      " 'Sep-2003' 'May-2005' 'Feb-1989' 'Aug-2005' 'Aug-2004' 'May-2000'\n",
      " 'Jul-2002' 'Jan-1998' 'Aug-2003' 'Dec-2002' 'Aug-1999' 'Mar-1993'\n",
      " 'Aug-2006' 'Dec-2008' 'Oct-2005' 'Jun-1986' 'Oct-2006' 'Nov-2001'\n",
      " 'Mar-2002' 'Dec-1999' 'Jan-1989' 'Jan-2001' 'May-2003' 'Feb-2004'\n",
      " 'Nov-2005' 'May-2008' 'Sep-1994' 'Sep-1998' 'Dec-2000' 'May-1992'\n",
      " 'Jun-2004' 'Sep-1997' 'Mar-1984' 'Nov-1987' 'May-2004' 'May-1990'\n",
      " 'Jun-2001' 'May-2002' 'Aug-1986' 'May-1988' 'Feb-2000' 'Jun-2005'\n",
      " 'Jan-2002' 'Jul-2001' 'Nov-1994' 'Nov-2008' 'Sep-1976' 'Jul-1987'\n",
      " 'Apr-2007' 'Jun-1992' 'Aug-1996' 'Jan-1999' 'Mar-2014' 'Mar-2001'\n",
      " 'Mar-2000' 'Aug-1978' 'Oct-1997' 'May-1998' 'Jul-1995' 'Aug-1997'\n",
      " 'Mar-2008' 'Nov-2006' 'Aug-2009' 'Oct-2010' 'Jun-2003' 'Sep-2004'\n",
      " 'Dec-1994' 'Jul-1996' 'Jul-1997' 'Sep-2000' 'Jul-1994' 'Aug-1990'\n",
      " 'Apr-1997' 'Apr-1996' 'Sep-2012' 'Jul-1982' 'Oct-1990' 'Aug-1985'\n",
      " 'May-1995' 'Jun-1995' 'Jul-2009' 'Oct-1996' 'Feb-1968' 'Jul-1999'\n",
      " 'Nov-1997' 'Sep-2005' 'Sep-1993' 'Jul-1998' 'Oct-2004' 'Dec-1990'\n",
      " 'Feb-2002' 'May-1993' 'Aug-2001' 'Jun-2007' 'May-1999' 'Feb-1994'\n",
      " 'Aug-1994' 'May-2010' 'Feb-2005' 'Jul-2007' 'Aug-2010' 'Jul-2005'\n",
      " 'Sep-2001' 'Mar-1983' 'Jun-2008' 'Aug-2000' 'Jul-1983' 'Jan-2014'\n",
      " 'Oct-2001' 'Sep-1989' 'Jun-2002' 'Oct-1995' 'Mar-1999' 'Dec-2010'\n",
      " 'Nov-1996' 'Nov-1992' 'Nov-2007' 'Aug-1995' 'Feb-2007' 'Jul-2006'\n",
      " 'Jan-2004' 'Sep-1999' 'Jul-2003' 'Dec-2012' 'May-1975' 'Jul-2004'\n",
      " 'Oct-1989' 'May-2009' 'Nov-2003' 'Jan-1991' 'Jun-2000' 'Jul-2011'\n",
      " 'Jul-1989' 'Apr-1998' 'Apr-2003' 'Apr-1999' 'Oct-1992' 'Oct-1987'\n",
      " 'Aug-1977' 'Aug-2007' 'Jul-1990' 'Nov-2004' 'Apr-1990' 'Jan-2003'\n",
      " 'Jun-1996' 'Jun-1999' 'Apr-2006' 'Dec-2001' 'Apr-2011' 'Feb-2003'\n",
      " 'Dec-2004' 'Jan-1987' 'Apr-1991' 'Mar-2003' 'Sep-2007' 'Oct-1994'\n",
      " 'Jan-2006' 'Sep-2006' 'Mar-2006' 'Nov-1999' 'Oct-2009' 'Jun-1997'\n",
      " 'Sep-2002' 'Jun-2006' 'Sep-1980' 'Aug-1998' 'Apr-1987' 'Dec-1998'\n",
      " 'Jan-2007' 'May-1994' 'Apr-1994' 'Dec-1995' 'Jan-1994' 'May-2006'\n",
      " 'Nov-1983' 'May-1997' 'Sep-1981' 'Apr-2005' 'Feb-2001' 'Mar-1994'\n",
      " 'Oct-2013' 'Mar-1997' 'Jul-2008' 'Dec-2003' 'Jul-1993' 'Feb-2013'\n",
      " 'Aug-1993' 'Jun-2010' 'Jun-1985' 'Nov-1995' 'Mar-1990' 'Sep-2008'\n",
      " 'May-2007' 'Oct-2000' 'Jul-2010' 'Sep-1991' 'Jun-1998' 'Oct-1981'\n",
      " 'Sep-1990' 'Dec-2005' 'Oct-2012' 'Sep-2011' 'May-2011' 'Jul-2000'\n",
      " 'Jan-1997' 'Oct-1993' 'Apr-1975' 'Dec-1996' 'Dec-1989' 'Dec-2006'\n",
      " 'May-2001' 'Jun-2013' 'Feb-2008' 'Mar-1989' 'Sep-1979' 'Nov-1984'\n",
      " 'Jan-1983' 'Mar-2004' 'Oct-1998' 'Feb-2006' 'Dec-2011' 'Dec-2013'\n",
      " 'Dec-2007' 'Aug-1989' 'Aug-2011' 'Sep-2013' 'Dec-1982' 'Mar-2007'\n",
      " 'Oct-1986' 'Nov-2002' 'Apr-2009' 'Feb-2009' 'Aug-2014' 'Aug-2002'\n",
      " 'Oct-1999' 'Dec-1997' 'Feb-2010' 'Jul-2013' 'Dec-1991' 'Oct-2011'\n",
      " 'Nov-1990' 'Jun-1989' 'Jan-2000' 'Mar-1988' 'Sep-1996' 'Sep-2009'\n",
      " 'Jun-1984' 'Jul-2012' 'Jan-1995' 'Jan-2009' 'Mar-1979' 'Nov-2000'\n",
      " 'Apr-2002' 'Feb-1999' 'Mar-2012' 'Sep-1995' 'Aug-1988' 'May-1973'\n",
      " 'Oct-1980' 'Jan-2005' 'Sep-1983' 'Nov-1982' 'Dec-1979' 'Jul-1988'\n",
      " 'Feb-1997' 'Aug-1982' 'Feb-1992' 'Dec-1992' 'Jan-1988' 'Mar-2009'\n",
      " 'Oct-1991' 'Jun-2012' 'Mar-1991' 'May-1991' 'Nov-1998' 'Dec-1987'\n",
      " 'Jun-1987' 'Sep-1992' 'Apr-2012' 'Apr-2013' 'Oct-1988' 'Feb-1995'\n",
      " 'Sep-1975' 'Mar-1998' 'Nov-2011' 'Sep-1988' 'Feb-1993' 'Oct-2007'\n",
      " 'Apr-2010' 'Apr-1993' 'Sep-1974' 'Apr-1986' 'May-1987' 'Mar-1992'\n",
      " 'Mar-2005' 'Feb-1991' 'Jun-1994' 'Mar-2010' 'Sep-2010' 'Apr-2001'\n",
      " 'Feb-1979' 'Jun-2009' 'May-1996' 'Jul-1992' 'Sep-1978' 'Aug-1992'\n",
      " 'Jan-2011' 'Apr-1985' 'Nov-1993' 'Jul-1991' 'Mar-1987' 'Sep-1984'\n",
      " 'Jan-1993' 'Jan-1992' 'Nov-1972' 'May-1979' 'Jun-1993' 'Sep-1986'\n",
      " 'Jul-1979' 'Jul-1986' 'Jan-2012' 'Jan-1996' 'Jun-1979' 'Apr-1995'\n",
      " 'Aug-1980' 'Jun-1982' 'Apr-2008' 'Mar-1996' 'Feb-1996' 'Aug-1983'\n",
      " 'Mar-1995' 'Jan-2008' 'Feb-1982' 'Oct-2008' 'Jan-1985' 'Dec-2009'\n",
      " 'Nov-1991' 'Apr-2004' 'Oct-1984' 'Nov-2013' 'Nov-1989' 'Aug-1991'\n",
      " 'Jan-1990' 'Jun-1976' 'Feb-1976' 'Nov-2012' 'Apr-1989' 'Apr-1988'\n",
      " 'Jan-1976' 'Mar-2011' 'Aug-1984' 'Mar-1981' 'Mar-1985' 'May-1989'\n",
      " 'Jun-1991' 'Nov-1988' 'Jan-1963' 'Apr-1992' 'Nov-2010' 'Feb-1988'\n",
      " 'Dec-1973' 'Aug-2008' 'May-2012' 'Aug-1987' 'Feb-1987' 'Feb-1986'\n",
      " 'Feb-2011' 'Nov-1977' 'Aug-1979' 'Nov-1986' 'Nov-1985' 'Mar-2013'\n",
      " 'Jan-2010' 'Jun-2011' 'Jul-1970' 'Mar-1982' 'Feb-2012' 'Oct-1973'\n",
      " 'Dec-1988' 'Apr-1978' 'Aug-2013' 'Oct-1982' 'Feb-1980' 'Sep-1982'\n",
      " 'Feb-1990' 'May-1977' 'May-1984' 'Apr-1982' 'Mar-1980' 'Aug-1981'\n",
      " 'Jun-1988' 'Jun-1970' 'Nov-1979' 'Feb-1983' 'May-1968' 'Aug-2012'\n",
      " 'Apr-1984' 'Sep-1985' 'Jun-1983' 'May-1985' 'Jun-1969' 'Jan-2013'\n",
      " 'Sep-1987' 'Mar-1968' 'Jun-1990' 'Jun-1980' 'Mar-1986' 'Dec-1986'\n",
      " 'Oct-1983' 'Jun-1978' 'Jan-1980' 'Apr-1974' 'May-2013' 'Dec-1985'\n",
      " 'May-1980' 'Aug-1973' 'Mar-1965' 'Nov-1973' 'Jul-1977' 'May-1982'\n",
      " 'May-1986' 'May-1962' 'Oct-1979' 'Jul-1984' 'Mar-1977' 'Jan-1962'\n",
      " 'Dec-1980' 'Jul-1973' 'Oct-1976' 'Sep-1973' 'Aug-1976' 'Feb-1985'\n",
      " 'Feb-2014' 'Oct-1985' 'Dec-1983' 'Dec-1977' 'Mar-1978' 'Feb-1981'\n",
      " 'Mar-1933' 'Jan-1982' 'Sep-1969' 'Jan-1979' 'Jun-1977' 'May-1981'\n",
      " 'May-1971' 'Jan-1978' 'Nov-1974' 'Dec-1971' 'Mar-1966' 'Apr-1971'\n",
      " 'Mar-1974' 'Jun-1966' 'Jan-1969' 'Jul-1975' 'Nov-1981' 'Oct-1977'\n",
      " 'Dec-1969' 'Dec-1984' 'May-1976' 'May-1983' 'Jan-1984' 'Jul-1971'\n",
      " 'Oct-1978' 'Apr-1980' 'Jun-1974' 'Mar-1964' 'Dec-1981' 'Jul-1981'\n",
      " 'Feb-1978' 'Jun-1981' 'Apr-1979' 'Jul-1985' 'Jun-1975' 'Jan-1986'\n",
      " 'Feb-1973' 'Dec-1974' 'Jan-1981' 'Dec-1976' 'Jul-2014' 'Sep-1966'\n",
      " 'Apr-2014' 'Feb-1972' 'Feb-1984' 'Apr-1983' 'Apr-1973' 'Apr-1977'\n",
      " 'Nov-1975' 'Jul-1980' 'Dec-1967' 'Oct-1969' 'Aug-1974' 'Mar-1970'\n",
      " 'Jun-1972' 'Dec-1959' 'Sep-1977' 'Aug-1969' 'Apr-1968' 'Dec-1975'\n",
      " 'Jan-1967' 'Jul-1967' 'Jan-1971' 'Aug-1970' 'Jul-1963' 'Nov-1978'\n",
      " 'Jun-1964' 'Jan-1966' 'Jan-1973' 'Jul-1968' 'Nov-1980' 'May-1974'\n",
      " 'Dec-1978' 'Apr-1963' 'Sep-1970' 'Jan-1965' 'Mar-1973' 'Nov-1976'\n",
      " 'Oct-1972' 'Jun-2014' 'Oct-1970' 'Apr-1981' 'Feb-1974' 'May-2014'\n",
      " 'Sep-1971' 'Jan-1977' 'Jul-1978' 'Aug-1963' 'Feb-1975' 'Jan-1970'\n",
      " 'Mar-1976' 'Mar-1975' 'Sep-1972' 'Apr-1976' 'May-1978' 'May-1967'\n",
      " 'Feb-1970' 'Aug-1966' 'Feb-1971' 'Aug-1967' 'Nov-1969' 'Jan-1968'\n",
      " 'Aug-1968' 'Apr-1966' 'Oct-1974' 'Apr-1969' 'Oct-1975' 'Jul-1976'\n",
      " 'Aug-1962' 'Mar-1972' 'May-1970' 'Jun-1971' 'Nov-1971' 'May-1972'\n",
      " 'May-1969' 'Sep-1963' 'Aug-1965' 'Mar-1967' 'Jun-1967' 'Oct-1965'\n",
      " 'Jul-1964' 'Jul-1972' 'Feb-1977' 'Dec-1972' 'Mar-1971' 'Oct-1971'\n",
      " 'Aug-1971' 'Apr-1972' 'Jan-1972' 'Feb-1967' 'Nov-1970' 'May-1964'\n",
      " 'May-1959' 'Jan-1974' 'Jul-1969' 'Mar-1960' 'Apr-1967' 'Nov-1967'\n",
      " 'Oct-1964' 'Oct-1968' 'Dec-1960' 'Nov-1968' 'Feb-1945' 'Nov-1962'\n",
      " 'Apr-1970' 'Sep-1968' 'Jun-1973' 'Jul-1974' 'Dec-1965' 'Sep-1965'\n",
      " 'Dec-1968' 'Feb-1965' 'Jan-1955' 'Sep-1967' 'Apr-1958' 'Aug-1972'\n",
      " 'Aug-1975' 'May-1966' 'Dec-1970' 'Oct-1958' 'Feb-1966' 'Oct-1966'\n",
      " 'Jan-1964' 'Jan-1960' 'Mar-1963' 'Jan-1975' 'Mar-1969' 'Apr-1964'\n",
      " 'Jan-1950' 'Jul-1965' 'Jun-1968' 'Jan-1961' 'Nov-1966' 'Nov-1965'\n",
      " 'Feb-1963' 'Sep-1962' 'Apr-1961' 'Dec-1966' 'Jul-1961' 'Mar-1959'\n",
      " 'Mar-1957' 'May-1965' 'Apr-1965' 'Feb-1969' 'Aug-1958' 'Oct-1967'\n",
      " 'May-1961' 'Dec-1962' 'Jan-1959' 'Feb-1964' 'Jun-1965' 'Jul-1962'\n",
      " 'Oct-1962' 'Jun-1957' 'Jul-1959' 'Jul-1960' 'Nov-1964' 'Dec-1964'\n",
      " 'Jul-1966' 'Nov-1963' 'Jan-1956' 'Mar-1961']\n",
      "\n",
      "initial_list_status\n",
      "['w' 'f']\n",
      "\n",
      "last_pymnt_d\n",
      "['Dec-2017' 'Aug-2017' 'Aug-2016' 'Sep-2016' 'Jun-2017' 'Nov-2017'\n",
      " 'May-2017' 'Oct-2017' 'Mar-2017' 'Jun-2016' 'Apr-2017' 'Jul-2017'\n",
      " 'Feb-2017' 'Oct-2016' 'Jan-2017' 'Sep-2017' 'Nov-2016' 'Dec-2016'\n",
      " 'Apr-2016' nan 'Feb-2016' 'Mar-2016' 'Jul-2016' 'May-2016' 'Jan-2016']\n",
      "\n",
      "next_pymnt_d\n",
      "['Jan-2018' nan 'Feb-2018' 'Dec-2017']\n",
      "\n",
      "last_credit_pull_d\n",
      "['Dec-2017' 'Jun-2017' 'Nov-2017' 'May-2017' 'Jul-2017' 'Oct-2017'\n",
      " 'Dec-2016' 'Jan-2017' 'Oct-2016' 'Aug-2017' 'Feb-2017' 'Sep-2017'\n",
      " 'Apr-2017' 'Mar-2017' 'Nov-2016' 'Jul-2016' 'Jun-2016' 'Aug-2016'\n",
      " 'Sep-2016' 'Apr-2016' 'May-2016' 'Mar-2016' 'Jan-2016' 'Feb-2016' nan\n",
      " 'Dec-2015']\n",
      "\n",
      "application_type\n",
      "['Individual' 'Joint App']\n",
      "\n"
     ]
    }
   ],
   "source": [
    "for col in X_test.select_dtypes(include= ['object', 'bool']).columns:\n",
    "  print(col)\n",
    "  print(X_test[col].unique())\n",
    "  print()"
   ]
  },
  {
   "cell_type": "code",
   "execution_count": 41,
   "metadata": {},
   "outputs": [],
   "source": [
    "X_test['term'] = pd.to_numeric(X_test['term'].str.replace('months', ''))"
   ]
  },
  {
   "cell_type": "code",
   "execution_count": 42,
   "metadata": {},
   "outputs": [],
   "source": [
    "X_test['emp_length'] = X_test['emp_length'].str.replace('+ years', '')\n",
    "X_test['emp_length'] = X_test['emp_length'].str.replace(' years', '')\n",
    "X_test['emp_length'] = X_test['emp_length'].str.replace('< 1 year', str(0))\n",
    "X_test['emp_length'] = X_test['emp_length'].str.replace(' year', '')\n",
    "\n",
    "X_test['emp_length'] = X_test['emp_length'].fillna(0)\n",
    "\n",
    "X_test['emp_length'] = pd.to_numeric(X_test['emp_length'])"
   ]
  },
  {
   "cell_type": "code",
   "execution_count": 43,
   "metadata": {},
   "outputs": [
    {
     "name": "stderr",
     "output_type": "stream",
     "text": [
      "C:\\Users\\USER\\AppData\\Local\\Temp\\ipykernel_13824\\2991849270.py:2: UserWarning: Could not infer format, so each element will be parsed individually, falling back to `dateutil`. To ensure parsing is consistent and as-expected, please specify a format.\n",
      "  X_test[col] = pd.to_datetime(X_test[col])\n",
      "C:\\Users\\USER\\AppData\\Local\\Temp\\ipykernel_13824\\2991849270.py:2: UserWarning: Could not infer format, so each element will be parsed individually, falling back to `dateutil`. To ensure parsing is consistent and as-expected, please specify a format.\n",
      "  X_test[col] = pd.to_datetime(X_test[col])\n",
      "C:\\Users\\USER\\AppData\\Local\\Temp\\ipykernel_13824\\2991849270.py:2: UserWarning: Could not infer format, so each element will be parsed individually, falling back to `dateutil`. To ensure parsing is consistent and as-expected, please specify a format.\n",
      "  X_test[col] = pd.to_datetime(X_test[col])\n",
      "C:\\Users\\USER\\AppData\\Local\\Temp\\ipykernel_13824\\2991849270.py:2: UserWarning: Could not infer format, so each element will be parsed individually, falling back to `dateutil`. To ensure parsing is consistent and as-expected, please specify a format.\n",
      "  X_test[col] = pd.to_datetime(X_test[col])\n",
      "C:\\Users\\USER\\AppData\\Local\\Temp\\ipykernel_13824\\2991849270.py:2: UserWarning: Could not infer format, so each element will be parsed individually, falling back to `dateutil`. To ensure parsing is consistent and as-expected, please specify a format.\n",
      "  X_test[col] = pd.to_datetime(X_test[col])\n"
     ]
    }
   ],
   "source": [
    "for col in col_date:\n",
    "    X_test[col] = pd.to_datetime(X_test[col])"
   ]
  },
  {
   "cell_type": "code",
   "execution_count": 44,
   "metadata": {},
   "outputs": [
    {
     "name": "stdout",
     "output_type": "stream",
     "text": [
      "<class 'pandas.core.frame.DataFrame'>\n",
      "Index: 151868 entries, 610224 to 344618\n",
      "Data columns (total 7 columns):\n",
      " #   Column              Non-Null Count   Dtype         \n",
      "---  ------              --------------   -----         \n",
      " 0   term                151868 non-null  int64         \n",
      " 1   emp_length          151868 non-null  int64         \n",
      " 2   issue_d             151868 non-null  datetime64[ns]\n",
      " 3   earliest_cr_line    151868 non-null  datetime64[ns]\n",
      " 4   last_pymnt_d        151653 non-null  datetime64[ns]\n",
      " 5   next_pymnt_d        118463 non-null  datetime64[ns]\n",
      " 6   last_credit_pull_d  151866 non-null  datetime64[ns]\n",
      "dtypes: datetime64[ns](5), int64(2)\n",
      "memory usage: 9.3 MB\n"
     ]
    }
   ],
   "source": [
    "X_test[col_need_to_clean].info()"
   ]
  },
  {
   "cell_type": "markdown",
   "metadata": {},
   "source": [
    "### 6 Feature Engineering"
   ]
  },
  {
   "cell_type": "code",
   "execution_count": 45,
   "metadata": {},
   "outputs": [
    {
     "data": {
      "text/plain": [
       "((607470, 65), (607470, 1), (151868, 65), (151868, 1))"
      ]
     },
     "execution_count": 45,
     "metadata": {},
     "output_type": "execute_result"
    }
   ],
   "source": [
    "X_train.shape, y_train.shape, X_test.shape, y_test.shape"
   ]
  },
  {
   "cell_type": "code",
   "execution_count": 46,
   "metadata": {},
   "outputs": [
    {
     "data": {
      "text/plain": [
       "['term',\n",
       " 'emp_length',\n",
       " 'issue_d',\n",
       " 'earliest_cr_line',\n",
       " 'last_pymnt_d',\n",
       " 'next_pymnt_d',\n",
       " 'last_credit_pull_d']"
      ]
     },
     "execution_count": 46,
     "metadata": {},
     "output_type": "execute_result"
    }
   ],
   "source": [
    "col_need_to_clean"
   ]
  },
  {
   "cell_type": "code",
   "execution_count": 47,
   "metadata": {},
   "outputs": [],
   "source": [
    "X_train = X_train[col_need_to_clean]\n",
    "X_test = X_test[col_need_to_clean]"
   ]
  },
  {
   "cell_type": "code",
   "execution_count": 48,
   "metadata": {},
   "outputs": [],
   "source": [
    "del X_train['next_pymnt_d']\n",
    "del X_test['next_pymnt_d']"
   ]
  },
  {
   "cell_type": "code",
   "execution_count": 49,
   "metadata": {},
   "outputs": [
    {
     "data": {
      "text/plain": [
       "((607470, 6), (151868, 6))"
      ]
     },
     "execution_count": 49,
     "metadata": {},
     "output_type": "execute_result"
    }
   ],
   "source": [
    "X_train.shape, X_test.shape"
   ]
  },
  {
   "cell_type": "code",
   "execution_count": 52,
   "metadata": {},
   "outputs": [
    {
     "data": {
      "text/plain": [
       "'2024-06-12'"
      ]
     },
     "execution_count": 52,
     "metadata": {},
     "output_type": "execute_result"
    }
   ],
   "source": [
    "from datetime import date\n",
    "date.today().strftime('%Y-%m-%d')"
   ]
  },
  {
   "cell_type": "code",
   "execution_count": null,
   "metadata": {},
   "outputs": [],
   "source": [
    "def date_columns(df, column):\n",
    "    today_date = pd.to_datetime(date.today().strftime('%Y-%m-%d'))\n",
    "    df['mths_since_' + column = round(today_date - df[column])]\n",
    "    df.drop(columns = [column], inplace=True)\n",
    "\n",
    "date_columns  "
   ]
  },
  {
   "cell_type": "code",
   "execution_count": 53,
   "metadata": {},
   "outputs": [
    {
     "data": {
      "text/plain": [
       "Timedelta('2629 days 00:00:00')"
      ]
     },
     "execution_count": 53,
     "metadata": {},
     "output_type": "execute_result"
    }
   ],
   "source": [
    "pd.to_datetime(date.today().strftime('%Y-%m-%d')) - pd.to_datetime('2017-04-01')"
   ]
  },
  {
   "cell_type": "code",
   "execution_count": 50,
   "metadata": {},
   "outputs": [
    {
     "data": {
      "text/html": [
       "<div>\n",
       "<style scoped>\n",
       "    .dataframe tbody tr th:only-of-type {\n",
       "        vertical-align: middle;\n",
       "    }\n",
       "\n",
       "    .dataframe tbody tr th {\n",
       "        vertical-align: top;\n",
       "    }\n",
       "\n",
       "    .dataframe thead th {\n",
       "        text-align: right;\n",
       "    }\n",
       "</style>\n",
       "<table border=\"1\" class=\"dataframe\">\n",
       "  <thead>\n",
       "    <tr style=\"text-align: right;\">\n",
       "      <th></th>\n",
       "      <th>term</th>\n",
       "      <th>emp_length</th>\n",
       "      <th>issue_d</th>\n",
       "      <th>earliest_cr_line</th>\n",
       "      <th>last_pymnt_d</th>\n",
       "      <th>last_credit_pull_d</th>\n",
       "    </tr>\n",
       "  </thead>\n",
       "  <tbody>\n",
       "    <tr>\n",
       "      <th>84486</th>\n",
       "      <td>60</td>\n",
       "      <td>4</td>\n",
       "      <td>2017-04-01</td>\n",
       "      <td>1995-08-01</td>\n",
       "      <td>2017-12-01</td>\n",
       "      <td>2017-12-01</td>\n",
       "    </tr>\n",
       "    <tr>\n",
       "      <th>37123</th>\n",
       "      <td>60</td>\n",
       "      <td>10</td>\n",
       "      <td>2017-06-01</td>\n",
       "      <td>1987-09-01</td>\n",
       "      <td>2017-12-01</td>\n",
       "      <td>2017-12-01</td>\n",
       "    </tr>\n",
       "    <tr>\n",
       "      <th>150429</th>\n",
       "      <td>36</td>\n",
       "      <td>4</td>\n",
       "      <td>2017-02-01</td>\n",
       "      <td>2006-10-01</td>\n",
       "      <td>2017-12-01</td>\n",
       "      <td>2017-12-01</td>\n",
       "    </tr>\n",
       "    <tr>\n",
       "      <th>649359</th>\n",
       "      <td>60</td>\n",
       "      <td>3</td>\n",
       "      <td>2016-03-01</td>\n",
       "      <td>2011-03-01</td>\n",
       "      <td>2016-09-01</td>\n",
       "      <td>2017-02-01</td>\n",
       "    </tr>\n",
       "    <tr>\n",
       "      <th>38987</th>\n",
       "      <td>60</td>\n",
       "      <td>0</td>\n",
       "      <td>2017-05-01</td>\n",
       "      <td>2012-09-01</td>\n",
       "      <td>2017-12-01</td>\n",
       "      <td>2017-12-01</td>\n",
       "    </tr>\n",
       "    <tr>\n",
       "      <th>...</th>\n",
       "      <td>...</td>\n",
       "      <td>...</td>\n",
       "      <td>...</td>\n",
       "      <td>...</td>\n",
       "      <td>...</td>\n",
       "      <td>...</td>\n",
       "    </tr>\n",
       "    <tr>\n",
       "      <th>620130</th>\n",
       "      <td>36</td>\n",
       "      <td>8</td>\n",
       "      <td>2016-10-01</td>\n",
       "      <td>1988-08-01</td>\n",
       "      <td>2017-12-01</td>\n",
       "      <td>2017-12-01</td>\n",
       "    </tr>\n",
       "    <tr>\n",
       "      <th>469068</th>\n",
       "      <td>36</td>\n",
       "      <td>10</td>\n",
       "      <td>2016-05-01</td>\n",
       "      <td>1997-12-01</td>\n",
       "      <td>2017-10-01</td>\n",
       "      <td>2017-10-01</td>\n",
       "    </tr>\n",
       "    <tr>\n",
       "      <th>708616</th>\n",
       "      <td>36</td>\n",
       "      <td>10</td>\n",
       "      <td>2016-02-01</td>\n",
       "      <td>2003-02-01</td>\n",
       "      <td>2016-11-01</td>\n",
       "      <td>2017-07-01</td>\n",
       "    </tr>\n",
       "    <tr>\n",
       "      <th>10601</th>\n",
       "      <td>36</td>\n",
       "      <td>4</td>\n",
       "      <td>2017-06-01</td>\n",
       "      <td>1999-05-01</td>\n",
       "      <td>2017-12-01</td>\n",
       "      <td>2017-12-01</td>\n",
       "    </tr>\n",
       "    <tr>\n",
       "      <th>726539</th>\n",
       "      <td>60</td>\n",
       "      <td>2</td>\n",
       "      <td>2016-01-01</td>\n",
       "      <td>2002-04-01</td>\n",
       "      <td>2017-12-01</td>\n",
       "      <td>2017-12-01</td>\n",
       "    </tr>\n",
       "  </tbody>\n",
       "</table>\n",
       "<p>607470 rows × 6 columns</p>\n",
       "</div>"
      ],
      "text/plain": [
       "        term  emp_length    issue_d earliest_cr_line last_pymnt_d  \\\n",
       "84486     60           4 2017-04-01       1995-08-01   2017-12-01   \n",
       "37123     60          10 2017-06-01       1987-09-01   2017-12-01   \n",
       "150429    36           4 2017-02-01       2006-10-01   2017-12-01   \n",
       "649359    60           3 2016-03-01       2011-03-01   2016-09-01   \n",
       "38987     60           0 2017-05-01       2012-09-01   2017-12-01   \n",
       "...      ...         ...        ...              ...          ...   \n",
       "620130    36           8 2016-10-01       1988-08-01   2017-12-01   \n",
       "469068    36          10 2016-05-01       1997-12-01   2017-10-01   \n",
       "708616    36          10 2016-02-01       2003-02-01   2016-11-01   \n",
       "10601     36           4 2017-06-01       1999-05-01   2017-12-01   \n",
       "726539    60           2 2016-01-01       2002-04-01   2017-12-01   \n",
       "\n",
       "       last_credit_pull_d  \n",
       "84486          2017-12-01  \n",
       "37123          2017-12-01  \n",
       "150429         2017-12-01  \n",
       "649359         2017-02-01  \n",
       "38987          2017-12-01  \n",
       "...                   ...  \n",
       "620130         2017-12-01  \n",
       "469068         2017-10-01  \n",
       "708616         2017-07-01  \n",
       "10601          2017-12-01  \n",
       "726539         2017-12-01  \n",
       "\n",
       "[607470 rows x 6 columns]"
      ]
     },
     "execution_count": 50,
     "metadata": {},
     "output_type": "execute_result"
    }
   ],
   "source": [
    "X_train"
   ]
  }
 ],
 "metadata": {
  "kernelspec": {
   "display_name": "Python 3",
   "language": "python",
   "name": "python3"
  },
  "language_info": {
   "codemirror_mode": {
    "name": "ipython",
    "version": 3
   },
   "file_extension": ".py",
   "mimetype": "text/x-python",
   "name": "python",
   "nbconvert_exporter": "python",
   "pygments_lexer": "ipython3",
   "version": "3.10.10"
  }
 },
 "nbformat": 4,
 "nbformat_minor": 2
}
